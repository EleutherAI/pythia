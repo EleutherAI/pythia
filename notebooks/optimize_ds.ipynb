{
 "cells": [
  {
   "cell_type": "code",
   "execution_count": 1,
   "metadata": {},
   "outputs": [],
   "source": [
    "import numpy as np\n",
    "from numba import guvectorize, float64, int64, float32, int32"
   ]
  },
  {
   "cell_type": "code",
   "execution_count": 33,
   "metadata": {},
   "outputs": [],
   "source": [
    "a = np.random.randint(0, 100, (5000, 2000))\n",
    "indices = np.random.choice(5000, 1000)\n",
    "b = a[indices]\n",
    "b = b[:, :64]"
   ]
  },
  {
   "cell_type": "code",
   "execution_count": 34,
   "metadata": {},
   "outputs": [],
   "source": [
    "\n",
    "@guvectorize([\"void(int64[:,:], int64[:,:], int64[:,:])\"],\n",
    "             \"(n,i),(m,j)->(n,m)\")\n",
    "def f(a, b, result):\n",
    "    for i in range(a.shape[0]):\n",
    "        for j in range(b.shape[0]):\n",
    "            maxval = 0\n",
    "            for k in range(b.shape[1]):\n",
    "                curval = 0\n",
    "                for l in range(min(a.shape[1], b.shape[1]-k)):\n",
    "                    if a[i, l] == b[j, k+l]:\n",
    "                        curval += 1\n",
    "                    else:\n",
    "                        break\n",
    "                maxval = max(maxval, curval)\n",
    "            result[i, j] = maxval"
   ]
  },
  {
   "cell_type": "code",
   "execution_count": 35,
   "metadata": {},
   "outputs": [],
   "source": [
    "res = f(b, a)"
   ]
  },
  {
   "cell_type": "code",
   "execution_count": 28,
   "metadata": {},
   "outputs": [
    {
     "data": {
      "text/plain": [
       "array([326, 748, 674,  19, 638, 834, 629, 885, 836, 991])"
      ]
     },
     "execution_count": 28,
     "metadata": {},
     "output_type": "execute_result"
    }
   ],
   "source": [
    "np.argmax(res, axis=1)"
   ]
  },
  {
   "cell_type": "code",
   "execution_count": 29,
   "metadata": {},
   "outputs": [
    {
     "data": {
      "text/plain": [
       "array([326, 748, 674,  19, 638, 834, 629, 885, 836, 991])"
      ]
     },
     "execution_count": 29,
     "metadata": {},
     "output_type": "execute_result"
    }
   ],
   "source": [
    "indices"
   ]
  }
 ],
 "metadata": {
  "kernelspec": {
   "display_name": "worm",
   "language": "python",
   "name": "python3"
  },
  "language_info": {
   "codemirror_mode": {
    "name": "ipython",
    "version": 3
   },
   "file_extension": ".py",
   "mimetype": "text/x-python",
   "name": "python",
   "nbconvert_exporter": "python",
   "pygments_lexer": "ipython3",
   "version": "3.11.5"
  }
 },
 "nbformat": 4,
 "nbformat_minor": 2
}
