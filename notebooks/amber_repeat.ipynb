{
 "cells": [
  {
   "cell_type": "code",
   "execution_count": 1,
   "id": "8ac2c7b6-c35d-42e7-b5c2-93033d5a4840",
   "metadata": {},
   "outputs": [],
   "source": [
    "from datasets import load_dataset\n",
    "import numpy as np\n",
    "\n",
    "# add parent directory to path\n",
    "import os, sys\n",
    "sys.path.append('..')\n",
    "\n",
    "from utils.mmap_dataset import MMapIndexedDataset\n",
    "import dask\n",
    "import dask.array as da\n",
    "from transformers import GPTNeoXForCausalLM, AutoTokenizer\n",
    "import matplotlib.pyplot as plt\n",
    "from dask.diagnostics import ProgressBar\n",
    "from dask.distributed import Lock\n",
    "from tqdm import tqdm\n",
    "from dask.diagnostics import ProgressBar\n",
    "from numpy.lib.stride_tricks import sliding_window_view\n",
    "from dask.distributed import Client\n",
    "from numba import guvectorize\n",
    "from datasets import load_dataset"
   ]
  },
  {
   "cell_type": "code",
   "execution_count": null,
   "id": "8ffb3e50-59fb-4ec2-b1bb-742750fc0a5c",
   "metadata": {},
   "outputs": [],
   "source": [
    "ckpt_num = 100\n",
    "dataset = load_dataset(\"LLM360/AmberDatasets\", \n",
    "                       data_files=f\"train/train_{ckpt_num:03}.jsonl\", \n",
    "                       split=None, cache_dir=\"/om/tmp/amber\", streaming=True)\n",
    "   "
   ]
  }
 ],
 "metadata": {
  "kernelspec": {
   "display_name": "Python [conda env:pythia]",
   "language": "python",
   "name": "conda-env-pythia-py"
  },
  "language_info": {
   "codemirror_mode": {
    "name": "ipython",
    "version": 3
   },
   "file_extension": ".py",
   "mimetype": "text/x-python",
   "name": "python",
   "nbconvert_exporter": "python",
   "pygments_lexer": "ipython3",
   "version": "3.10.13"
  }
 },
 "nbformat": 4,
 "nbformat_minor": 5
}
