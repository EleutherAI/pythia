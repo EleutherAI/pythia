{
 "cells": [
  {
   "cell_type": "markdown",
   "id": "2f354369",
   "metadata": {},
   "source": [
    "# Downloading data from s3"
   ]
  },
  {
   "cell_type": "code",
   "execution_count": 1,
   "id": "08090e4f",
   "metadata": {},
   "outputs": [
    {
     "name": "stderr",
     "output_type": "stream",
     "text": [
      "/tmp/ipykernel_1999885/4036820991.py:1: DeprecationWarning: \n",
      "Pyarrow will become a required dependency of pandas in the next major release of pandas (pandas 3.0),\n",
      "(to allow more performant data types, such as the Arrow string type, and better interoperability with other libraries)\n",
      "but was not found to be installed on your system.\n",
      "If this would cause problems for you,\n",
      "please provide us feedback at https://github.com/pandas-dev/pandas/issues/54466\n",
      "        \n",
      "  import pandas as pd\n"
     ]
    }
   ],
   "source": [
    "import pandas as pd\n",
    "from tqdm import tqdm\n",
    "def load_csv_from_s3(model, checkpoint, s3):\n",
    "    '''Loads .csv evals from s3 to a pandas DataFrame\n",
    "    \n",
    "    This function assumes that evals are stored as a group of csv file parts per model\n",
    "    It also assumes that the evals are stored inside \n",
    "    s-eai-neox/memorization-evals/memorization_`model`_`checkpoint`/\n",
    "    folder\n",
    "    \n",
    "    `model`: Name of the model\n",
    "    `checkpoint`: Checkpoint of that particular model\n",
    "    `s3`: Boto3 s3 client instance\n",
    "    '''\n",
    "    bucket_prefix = f'memorization-evals/memorization_{model}_{checkpoint}/'\n",
    "    parts = s3.list_objects_v2(\n",
    "        Bucket= 's-eai-neox',\n",
    "        Prefix = bucket_prefix,\n",
    "    )\n",
    "    eval_parts = [None for i in range(len(parts['Contents']))]\n",
    "    if model == '160m-deduped-v0' and str(checkpoint) == '103000':\n",
    "        eval_parts = [None for i in range(256)]\n",
    "    if model == '2.8b-deduped-v0' and str(checkpoint) == '43000':\n",
    "        eval_parts = [None for i in range(256)]\n",
    "        \n",
    "    for part in tqdm(parts['Contents'], desc = f'{model}-{checkpoint}'):\n",
    "        part_key = part['Key']\n",
    "        rank = part_key.split('/')[-1].strip('.csv')\n",
    "        index = int(rank.split('-')[-1])\n",
    "        if model == '160m-deduped-v0' and str(checkpoint) == '103000':\n",
    "            if index >= 256:\n",
    "                print(f\"skipping index {index}\")\n",
    "                continue\n",
    "        if model == '2.8b-deduped-v0' and str(checkpoint) == '43000':\n",
    "            if index >= 256:\n",
    "                print(f\"skipping index {index}\")\n",
    "                continue\n",
    "        \n",
    "        try:\n",
    "            eval_parts[index] = pd.read_csv('s3://s-eai-neox/' + part_key, names=['index', 'accuracy'])\n",
    "        except IndexError as e:\n",
    "            print(index)\n",
    "            raise e\n",
    "    return pd.concat(eval_parts)"
   ]
  },
  {
   "cell_type": "code",
   "execution_count": null,
   "id": "fe41bc41",
   "metadata": {},
   "outputs": [],
   "source": [
    "import boto3\n",
    "import os\n",
    "s3 = boto3.client('s3')\n",
    "res = s3.list_objects_v2(\n",
    "    Bucket= 's-eai-neox',\n",
    "    Prefix ='memorization-evals/',\n",
    "    Delimiter = '/',\n",
    ")\n",
    "for model in res['CommonPrefixes']:\n",
    "    _, model, checkpoint = model['Prefix'].split('/')[1].split('_')\n",
    "    model_to_save = '-'.join(model.split(\"-\")[:-1])\n",
    "    if model.split(\"-\")[-1] != 'v0':\n",
    "        continue\n",
    "    if os.path.isfile(f'/fsx/orz/memorization-evals/evals_32/memorization_{model_to_save}_{checkpoint}.hdf'):\n",
    "        continue\n",
    "    csv = load_csv_from_s3(model, checkpoint, s3)\n",
    "    \n",
    "    csv.to_hdf(f'/fsx/orz/memorization-evals/evals_32/memorization_{model_to_save}_{checkpoint}.hdf', key='memorization', index = False)"
   ]
  },
  {
   "cell_type": "markdown",
   "id": "e155473c",
   "metadata": {},
   "source": [
    "# Loading data"
   ]
  },
  {
   "cell_type": "code",
   "execution_count": 2,
   "id": "fdb10d51",
   "metadata": {},
   "outputs": [],
   "source": [
    "# models = ['70m-deduped', '160m-deduped', '410m-deduped', '1b-deduped', '1.4b-deduped', '2.8b-deduped', '6.9b-deduped', '12b-deduped']\n",
    "# checkpoints = [23000, 43000, 63000, 83000, 103000, 123000, 143000]\n",
    "# checkpoint_names = ['23M', '44M', '65M', '85M', '105M', '126M', '146M']\n",
    "models = ['70m-v0']\n",
    "checkpoints = [43000, 63000, 83000, 103000, 123000, 143000]\n",
    "checkpoint_names = ['44M', '65M', '85M', '105M', '126M', '146M']\n",
    "filepath = 'results/memorization-evals/evals-running/'"
   ]
  },
  {
   "cell_type": "code",
   "execution_count": 3,
   "id": "e54b2cfa",
   "metadata": {},
   "outputs": [],
   "source": [
    "import os\n",
    "import pandas as pd\n",
    "from tqdm.auto import tqdm\n",
    "\n",
    "tqdm.pandas()"
   ]
  },
  {
   "cell_type": "code",
   "execution_count": 9,
   "id": "4d9bf88e",
   "metadata": {},
   "outputs": [
    {
     "data": {
      "application/vnd.jupyter.widget-view+json": {
       "model_id": "0cb10f5121444b14862313992bfe282f",
       "version_major": 2,
       "version_minor": 0
      },
      "text/plain": [
       "70m-v0:   0%|          | 0/6 [00:00<?, ?it/s]"
      ]
     },
     "metadata": {},
     "output_type": "display_data"
    }
   ],
   "source": [
    "import glob\n",
    "memorization_results = {}\n",
    "for model in models:\n",
    "    for checkpoint in tqdm(checkpoints, desc=model):\n",
    "        filename = os.path.join(filepath, f'memorization_{model}_{checkpoint}.hdf')\n",
    "        m_name = model.split('-')\n",
    "        m_name = f'{m_name[0][:-1] + m_name[0][-1].capitalize()}-{m_name[1]}'\n",
    "        model_name = f'{m_name}-{checkpoint}'\n",
    "        \n",
    "        all_files = glob.glob(os.path.join(filepath, f'memorization_{model}_{checkpoint}/*.csv'))\n",
    "        csv = pd.concat((pd.read_csv(f, names=['index', 'accuracy']) for f in all_files), ignore_index=True)\n",
    "        # csv.to_hdf(filename, key='memorization', index=False)\n",
    "        memorization_results[model_name] = csv"
   ]
  },
  {
   "cell_type": "code",
   "execution_count": 10,
   "id": "6e0a0d94",
   "metadata": {
    "scrolled": true
   },
   "outputs": [],
   "source": [
    "for i in range(len(models)):\n",
    "    m_name = models[i].split('-')\n",
    "    m_name = f'{m_name[0][:-1] + m_name[0][-1].capitalize()}-{m_name[1]}'\n",
    "    models[i] = m_name"
   ]
  },
  {
   "cell_type": "code",
   "execution_count": 27,
   "id": "d2ce76c3-1d7e-4a49-9e30-7fdd6c272248",
   "metadata": {},
   "outputs": [
    {
     "data": {
      "text/plain": [
       "['70M-v0']"
      ]
     },
     "execution_count": 27,
     "metadata": {},
     "output_type": "execute_result"
    }
   ],
   "source": [
    "models"
   ]
  },
  {
   "cell_type": "code",
   "execution_count": 12,
   "id": "c8cd43bb",
   "metadata": {},
   "outputs": [],
   "source": [
    "from matplotlib import pyplot as plt\n",
    "import matplotlib\n",
    "import numpy as np"
   ]
  },
  {
   "cell_type": "markdown",
   "id": "1f238876",
   "metadata": {},
   "source": [
    "# Simple Multiprocess Manager"
   ]
  },
  {
   "cell_type": "code",
   "execution_count": 13,
   "id": "d11d7749",
   "metadata": {},
   "outputs": [],
   "source": [
    "class MPManager:\n",
    "    '''A simple class for starting multiple processes simultaneously\n",
    "    \n",
    "    processes: Array[multiprocess.Process] instances\n",
    "    '''\n",
    "    \n",
    "    def __init__(self):\n",
    "        self.processes = []\n",
    "        \n",
    "    def add(self, process):\n",
    "        process.daemon=False\n",
    "        self.processes.append(process)\n",
    "        self.processes[-1].start()\n",
    "    \n",
    "    def join(self):\n",
    "        for process in self.processes:\n",
    "            process.join()"
   ]
  },
  {
   "cell_type": "markdown",
   "id": "294a129d",
   "metadata": {},
   "source": [
    "# Setting Params, styling"
   ]
  },
  {
   "cell_type": "code",
   "execution_count": 14,
   "id": "6f18df91",
   "metadata": {
    "scrolled": true
   },
   "outputs": [],
   "source": [
    "def update_params(size = 25):\n",
    "    params = {\n",
    "        'legend.fontsize': 'large',\n",
    "        'figure.figsize': (15,10),\n",
    "        'axes.labelsize': size,\n",
    "        'axes.titlesize': size,\n",
    "        'xtick.labelsize': size*0.75,\n",
    "        'ytick.labelsize': size*0.75,\n",
    "        'axes.titlepad': 25,\n",
    "        'font.family':'sans-serif',\n",
    "        'font.weight':'bold',\n",
    "    }\n",
    "    plt.rcParams.update(params)"
   ]
  },
  {
   "cell_type": "markdown",
   "id": "c1f6bbd4",
   "metadata": {},
   "source": [
    "# Model Accuracy Linear Regression plot"
   ]
  },
  {
   "cell_type": "code",
   "execution_count": 15,
   "id": "b36c608e",
   "metadata": {},
   "outputs": [],
   "source": [
    "from itertools import cycle\n",
    "import multiprocessing as mp\n",
    "import scipy.stats as stats\n",
    "from sklearn.metrics import r2_score\n",
    "\n",
    "def plot_linear_regression_of_model(model, models, lock, percentile=0):\n",
    "    '''Wrapper Script to plot regression lines between memorization accuracy measured and Sequence Index\n",
    "    \n",
    "    `model`: Name of model\n",
    "    `models`: Dictionary of list of model names along with their corresponding checkpoints.\n",
    "    `percentile`: Sample only Indicies with accuracy more than or equal to k percentile accuracy\n",
    "    \n",
    "    Utilizes global variable `memorization_results` to get the required evals.\n",
    "    \n",
    "    Plots the regression lines with confidence intervals and stores regression metrics in a csv.\n",
    "    \n",
    "    Metrics Stored:\n",
    "        \"model\": Name of the model plotted\n",
    "        \"checkpoint\": Checkpoint of the model plotted\n",
    "        \"most memorized percentile\": `percentile` parameter of the current function\n",
    "        If L(x, p) denotes the line of best fit for model p at Sequence Index x, then we store\n",
    "        \"slope\": Defined as [L(x_max, p) - L(0, p)] / x_max\n",
    "        \"variation\": Total variation, defined as L(x_max, p) - L(0, p)\n",
    "        \"% change\": Percentage change induced by variation, defined as [L(x_max, p) - L(0, p)]/L(0, p)\n",
    "    '''\n",
    "    # Initialization and beautification\n",
    "    cycol = cycle(['violet', 'indigo', 'blue', 'green', 'yellow', 'orange', 'red'])\n",
    "    update_params()\n",
    "    fig = matplotlib.figure.Figure()\n",
    "    ax = fig.subplots()\n",
    "    res = {}\n",
    "    print(\" \", end=\"\", flush=True) # Bug of jupyter notebook. For more info, refer: https://github.com/tqdm/tqdm/issues/485\n",
    "    bar = tqdm(\n",
    "        desc=f'{model}-top {percentile} Linear Regression',\n",
    "        total=len(models[model])\n",
    "    )\n",
    "    \n",
    "    # Iterating through checkpoints\n",
    "    for (model_name, evals) in memorization_results.items():\n",
    "        m, checkpoint = model_name.split('-')\n",
    "        if(m != model): continue\n",
    "        checkpoint = int(checkpoint)\n",
    "        res[checkpoint] = plot_linear_regression_of_checkpoint(model_name, evals, ax, next(cycol), \n",
    "            percentile)\n",
    "        bar.update(1)\n",
    "    \n",
    "    # Titling and labeling plot\n",
    "    fig.suptitle(\"Memorization Accuracy\", fontsize=20)\n",
    "    fig.supxlabel(\"Sequence Index\", fontsize=20)\n",
    "    fig.supylabel(\"Accuracy\", fontsize=20)\n",
    "    ax.legend(loc='lower right')\n",
    "    \n",
    "    # Saving plots and metrics\n",
    "    fig.savefig(f'./plots/{model}-{percentile}_linear_regression.png', facecolor='white')\n",
    "    lock.acquire()\n",
    "    with open(f'./results/linear_regression.csv', 'a') as f:\n",
    "        for checkpoint, scores in res.items():\n",
    "            f.write(f'{model},{checkpoint},{percentile}')\n",
    "            for score in scores:\n",
    "                f.write(f',{score}')\n",
    "            f.write('\\n')\n",
    "    bar.close()\n",
    "    lock.release()\n",
    "    \n",
    "    \n",
    "    \n",
    "\n",
    "def plot_linear_regression_of_checkpoint(model_name, evals, axis, color, precentile = 0):\n",
    "    '''Generates a linear regression plot and returns a tuple of results\n",
    "    \n",
    "    `model_name`: String with model and it's checkpoint\n",
    "    `evals`: Evaluation results of corresponding model on corresponding checkpoint\n",
    "    `axis`, `color`: Plotting params\n",
    "    `percentile`: Sample only Indicies with accuracy more than or equal to k percentile accuracy\n",
    "    \n",
    "    Returns:\n",
    "        tuple(\n",
    "            slope: slope of regression line\n",
    "            variation: Total variation, defined above\n",
    "            % change: percentage change induced by variation, defined above\n",
    "        )\n",
    "    '''\n",
    "    # Top percentile evals\n",
    "    top_percentile_accuracy = np.percentile(evals['accuracy'],precentile)\n",
    "    top_percentile_evals = evals[evals['accuracy'] >= top_percentile_accuracy]\n",
    "    \n",
    "    # Actually performing regression\n",
    "    indicies, accuracy = top_percentile_evals['index'], top_percentile_evals['accuracy']\n",
    "    a,b = np.polyfit(indicies, accuracy,1)\n",
    "    acc_best_fit = a*indicies+b\n",
    "    results = (\n",
    "        a, # Slope\n",
    "        acc_best_fit.iloc[-1] - acc_best_fit.iloc[0], # Variation\n",
    "        (acc_best_fit.iloc[-1] - acc_best_fit.iloc[0])*100/acc_best_fit.iloc[0] # % change\n",
    "    )\n",
    "    \n",
    "    # Confidence Interval plots\n",
    "    y_model = np.polyval([a, b], indicies)\n",
    "    x_mean = indicies.mean()\n",
    "    y_mean = accuracy.mean()\n",
    "    dof = len(indicies) - 2\n",
    "    t = stats.t.ppf(0.99999, dof) \n",
    "    residual = accuracy - y_model\n",
    "    std_error = (np.sum(residual**2) / dof)**.5\n",
    "    x_line = np.linspace(np.min(indicies), np.max(indicies), int(1e6))\n",
    "    y_line = np.polyval([a, b], x_line)\n",
    "    ci = t * std_error * (1/len(indicies) + (x_line - x_mean)**2 / np.sum((indicies - x_mean)**2))**.5\n",
    "    \n",
    "    # Actually plotting data\n",
    "    axis.plot(x_line, y_line,\n",
    "        color=color, label=model_name)\n",
    "    axis.fill_between(x_line, (y_line-ci), (y_line+ci), color=color, alpha=0.2)\n",
    "    return results"
   ]
  },
  {
   "cell_type": "markdown",
   "id": "7d5eda37",
   "metadata": {},
   "source": [
    "# Bucketed Memorization Plots"
   ]
  },
  {
   "cell_type": "code",
   "execution_count": 37,
   "id": "fb0dc37f",
   "metadata": {
    "scrolled": true
   },
   "outputs": [],
   "source": [
    "from itertools import cycle\n",
    "cycol = cycle(['violet', 'indigo', 'blue', 'green', 'yellow', 'orange', 'red'])\n",
    "\n",
    "def plot_bucketed_scores_of_model(model, models, lock, percentile=0, metric='accuracy'):\n",
    "    '''Wrapper Script to plot bucketed mean plots between memorization accuracy measured and Sequence Index\n",
    "    \n",
    "    `model`: Name of model\n",
    "    `models`: Dictionary of list of model names along with their corresponding checkpoints.\n",
    "    `percentile`: Sample only Indicies with accuracy more than or equal to k percentile accuracy\n",
    "    `metric`: Could be one of accuracy or nll_loss. Using Accuracy only for now.\n",
    "    \n",
    "    Utilizes global variable `memorization_results` to get the required evals.\n",
    "    \n",
    "    Plots the bucketed memorization plots.\n",
    "    '''\n",
    "    # Initialization and beautification\n",
    "    cycol = cycle(['violet', 'indigo', 'blue', 'green', 'yellow', 'orange', 'red'])\n",
    "    fig = matplotlib.figure.Figure()\n",
    "    ax = fig.subplots()\n",
    "    print(\" \", end=\"\", flush=True)\n",
    "    bar = tqdm(\n",
    "        desc=f'{model}-top {percentile} Bucketed Memorization',\n",
    "        total=len(models[model])\n",
    "    )\n",
    "    \n",
    "    # Iterating through checkpoints\n",
    "    for (model_name, evals) in memorization_results.items():\n",
    "        m, n, checkpoint = model_name.split('-')\n",
    "        m = m + '-' + n\n",
    "        # print(m, model)\n",
    "        # if(m != model): continue\n",
    "        checkpoint = int(checkpoint)\n",
    "        plot_bucketed_scores_of_checkpoint(\n",
    "            model_name, evals, \n",
    "           ax, next(cycol), \n",
    "           percentile, \n",
    "           metric=metric\n",
    "        )\n",
    "        bar.update(1)\n",
    "    \n",
    "    # Titling and labeling plot\n",
    "    fig.suptitle(\"Bucketed Memorization Accuracy\", fontsize=20)\n",
    "    fig.supxlabel(\"Sequence Index\", fontsize=20)\n",
    "    fig.supylabel(\"Accuracy\", fontsize=20)\n",
    "    ax.legend(loc='lower right')\n",
    "    \n",
    "    # Saving plot\n",
    "    fig.savefig(f'./plots/{model}-{percentile}_bucketed_memorization.png', facecolor='white')\n",
    "    bar.close()\n",
    "\n",
    "def plot_bucketed_scores_of_checkpoint(\n",
    "    model_name, evals, axis, color, \n",
    "    precentile = 0, \n",
    "    bucket_size=235520,\n",
    "    metric='accuracy'\n",
    "):\n",
    "    '''Plots bucketed memorization scores\n",
    "    \n",
    "    `model_name`: String with model and it's checkpoint\n",
    "    `evals`: Evaluation results of corresponding model on corresponding checkpoint\n",
    "    `axis`, `color`: Plotting params\n",
    "    `percentile`: Sample only Indicies with accuracy more than or equal to k percentile accuracy\n",
    "    `bucket_size`: Number of samples to group into one bucket, Score of a bucket is individual scores' mean\n",
    "    `metric`: Is only accuracy for now\n",
    "    '''\n",
    "    # Top percentile evals\n",
    "    top_percentile_metric = np.percentile(evals[metric],precentile)\n",
    "    top_percentile_evals = evals[evals[metric] >= top_percentile_metric]\n",
    "    \n",
    "    # Bucketing data and calculating errors\n",
    "    indicies = []\n",
    "    metric_means = []\n",
    "    metric_errs = []\n",
    "    for i in range(0, (len(evals)),bucket_size):\n",
    "        result = top_percentile_evals[\n",
    "            (i <= top_percentile_evals['index']) & \n",
    "            (top_percentile_evals['index'] < (i+bucket_size))\n",
    "        ]\n",
    "        if(len(result) == 0):\n",
    "            continue\n",
    "        indicies.append(result['index'].iloc[-1])\n",
    "        metric_means.append(result[metric].mean())\n",
    "        metric_errs.append(result[metric].std()/np.sqrt(len(result)))\n",
    "    \n",
    "    # Plotting the results\n",
    "    axis.plot(indicies, metric_means, label=model_name, color=color)"
   ]
  },
  {
   "cell_type": "markdown",
   "id": "c7a2421e",
   "metadata": {},
   "source": [
    "# Parallelizing plot generations"
   ]
  },
  {
   "cell_type": "code",
   "execution_count": 38,
   "id": "75594fd0",
   "metadata": {},
   "outputs": [
    {
     "name": "stdout",
     "output_type": "stream",
     "text": [
      " "
     ]
    },
    {
     "data": {
      "application/vnd.jupyter.widget-view+json": {
       "model_id": "4bd4b8b3cd8a4d5c8d816cf459a0bbce",
       "version_major": 2,
       "version_minor": 0
      },
      "text/plain": [
       "70M-v0-43000-top 0 Bucketed Memorization:   0%|          | 0/44032000 [00:00<?, ?it/s]"
      ]
     },
     "metadata": {},
     "output_type": "display_data"
    }
   ],
   "source": [
    "update_params()\n",
    "manager = MPManager()\n",
    "# lock = mp.Lock()\n",
    "# with open('./results/linear_regression.csv', 'w') as f:\n",
    "#     f.write('model,checkpoint,most memorized percentile,slope,variation,% change\\n')\n",
    "# for model in memorization_results.keys():\n",
    "#     manager.add(mp.Process(target=plot_bucketed_scores_of_model, args=(model, memorization_results, lock, 0)))\n",
    "#     manager.add(mp.Process(target=plot_bucketed_scores_of_model, args=(model, memorization_results, lock, 90)))\n",
    "#     manager.add(mp.Process(target=plot_bucketed_scores_of_model, args=(model, memorization_results, lock, 99)))\n",
    "#     manager.add(mp.Process(target=plot_linear_regression_of_model, args=(model, memorization_results, lock, 0)))\n",
    "#     manager.add(mp.Process(target=plot_linear_regression_of_model, args=(model, memorization_results, lock, 99)))\n",
    "#     manager.add(mp.Process(target=plot_linear_regression_of_model, args=(model, memorization_results, lock, 90)))\n",
    "# manager.join()\n",
    "plot_bucketed_scores_of_model('70M-v0-43000', memorization_results, lock, 0)"
   ]
  },
  {
   "cell_type": "markdown",
   "id": "88bc449a",
   "metadata": {},
   "source": [
    "# Normalized Signal Cross Correlation"
   ]
  },
  {
   "cell_type": "code",
   "execution_count": 11,
   "id": "9101f06b",
   "metadata": {},
   "outputs": [
    {
     "data": {
      "text/html": [
       "\n",
       "        <style>\n",
       "            .jupyter-widgets {color: #d5d5d5 !important;}\n",
       "            .widget-label {color: #d5d5d5 !important;}\n",
       "        </style>\n",
       "    "
      ],
      "text/plain": [
       "<IPython.core.display.HTML object>"
      ]
     },
     "metadata": {},
     "output_type": "display_data"
    }
   ],
   "source": [
    "import matplotlib\n",
    "import scipy.signal\n",
    "from itertools import cycle\n",
    "from multiprocessing import Process\n",
    "cycol = cycle(['violet', 'indigo', 'blue', 'green', 'yellow', 'orange', 'red'])\n",
    "\n",
    "\n",
    "def plot_normalized_cross_correlation_of_model(model, checkpoint, models):\n",
    "    '''Wrapper Script to plot Normalized Signal Cross Correlation between two checkpoints of a model\n",
    "    \n",
    "    `model`: Model name\n",
    "    `checkpoint`: Checkpoint of the corresponding model to be correlated from\n",
    "    `evals`: Evaluation results of corresponding model on corresponding checkpoint\n",
    "    `axis`, `color`: Plotting params\n",
    "    '''\n",
    "    # Initialization and beautification\n",
    "    cycol = cycle(['violet', 'indigo', 'blue', 'green', 'yellow', 'orange', 'red'])\n",
    "    fig = matplotlib.figure.Figure()\n",
    "    ax = fig.subplots()\n",
    "    print(\" \", end=\"\", flush=True)\n",
    "    bar = tqdm(\n",
    "        desc=f'{model}-{checkpoint} Cross Correlation',\n",
    "        total=len(models[model][models[model].index(int(checkpoint)):]) - 1\n",
    "    )\n",
    "    one_evals = memorization_results[f'{model}-{checkpoint}']\n",
    "    corr_peaks = {}\n",
    "    \n",
    "    # Iterating through checkpoints\n",
    "    for (model_two, evals) in memorization_results.items():\n",
    "        m, c = model_two.split('-')\n",
    "        if(m != model): continue\n",
    "        if(int(c) <= int(checkpoint)): continue\n",
    "        name, peak = plot_normalized_cross_correlation(\n",
    "            f'{model}-{checkpoint}', one_evals, \n",
    "            model_two, evals,\n",
    "            ax, next(cycol)\n",
    "        )\n",
    "        corr_peaks[name] = peak\n",
    "        bar.update(1)\n",
    "    \n",
    "    # Titling and labeling plot\n",
    "    handles, labels = fig.gca().get_legend_handles_labels()\n",
    "    labels, handles = zip(*sorted(zip(labels, handles), key=lambda t: -corr_peaks[t[0]]))\n",
    "    fig.suptitle(\"Memorization Accuracy Cross Correlation\", fontsize=20)\n",
    "    fig.supxlabel(\"Correlation Lags\", fontsize=20)\n",
    "    fig.supylabel(\"Discrete Linear Normalized Correlation\", fontsize=20)\n",
    "    ax.set_xlim(-1e5, 1e5)\n",
    "    ax.legend(handles, labels, loc='lower right')\n",
    "    \n",
    "    # Saving plot\n",
    "    fig.savefig(f'./plots/{model}-{checkpoint}_normalized_correlation.png', facecolor='white')\n",
    "    bar.close()\n",
    "\n",
    "\n",
    "def normalized_corr(x, y):\n",
    "    '''Performs Normalized Signal Correlation, Defined as:\n",
    "    $$ normalized (f * g)(\\tau) = \\frac{1}{N}\\frac{((f-\\mu_f) * (g - \\mu_g))(\\tau)}{\\sigma_f\\sigma_g} $$\n",
    "    where \n",
    "        a*b(\\tau) is full discrete linear cross-correlation of a and b\n",
    "        \n",
    "    returns Correlation and It's correlation lags\n",
    "    '''\n",
    "    x -= x.mean()\n",
    "    y -= y.mean()\n",
    "    corr = scipy.signal.correlate(x, y)\n",
    "    corr /= (np.sqrt(np.sum(x**2) * np.sum(y**2)))\n",
    "    corr_lags = scipy.signal.correlation_lags(len(x), len(y))\n",
    "    return corr, corr_lags\n",
    "\n",
    "def plot_normalized_cross_correlation(name_one, evals_one, name_two, evals_two, axis, color):\n",
    "    '''Plots Normalized Cross Correlation\n",
    "    \n",
    "    `name_one`, `name_two`: Model names with checkpoints\n",
    "    `eval_one`, `eval_two`: Evaluation Results\n",
    "    `color`: Beautifying parameter\n",
    "    '''\n",
    "    # Extract Data\n",
    "    model_one, checkpoint_one = name_one.split('-')\n",
    "    corr_peaks = {}\n",
    "    model_two, checkpoint_two = name_two.split('-')\n",
    "    x = evals_one['accuracy']\n",
    "    y = evals_two['accuracy'][:len(x)]\n",
    "    \n",
    "    # Perform correlation\n",
    "    corr, corr_lags = normalized_corr(x, y)\n",
    "    \n",
    "    # Plotting\n",
    "    plot_color = next(cycol)\n",
    "    plot_label = f'{model_one}: {checkpoint_one} and {checkpoint_two}'\n",
    "    axis.plot(corr_lags, corr, label = plot_label,color=plot_color)\n",
    "    \n",
    "    # Indicate peaks\n",
    "    corr_peaks[plot_label] = np.max(corr)\n",
    "    axis.plot(corr_lags[np.argmax(corr)], np.max(corr), '_', \n",
    "             markersize=32.0, markeredgewidth=2.0, color=plot_color)\n",
    "    return plot_label, np.max(corr)"
   ]
  },
  {
   "cell_type": "code",
   "execution_count": 12,
   "id": "9c938f91",
   "metadata": {
    "scrolled": true
   },
   "outputs": [
    {
     "data": {
      "text/html": [
       "\n",
       "        <style>\n",
       "            .jupyter-widgets {color: #d5d5d5 !important;}\n",
       "            .widget-label {color: #d5d5d5 !important;}\n",
       "        </style>\n",
       "    "
      ],
      "text/plain": [
       "<IPython.core.display.HTML object>"
      ]
     },
     "metadata": {},
     "output_type": "display_data"
    },
    {
     "name": "stdout",
     "output_type": "stream",
     "text": [
      "       "
     ]
    },
    {
     "data": {
      "application/json": {
       "ascii": false,
       "bar_format": null,
       "colour": null,
       "elapsed": 0.8528485298156738,
       "initial": 0,
       "n": 0,
       "ncols": null,
       "nrows": null,
       "postfix": null,
       "prefix": "13B-23000 Cross Correlation",
       "rate": null,
       "total": 6,
       "unit": "it",
       "unit_divisor": 1000,
       "unit_scale": false
      },
      "application/vnd.jupyter.widget-view+json": {
       "model_id": "e9d0e699e24745b0b4abba8964ca3377",
       "version_major": 2,
       "version_minor": 0
      },
      "text/plain": [
       "13B-23000 Cross Correlation:   0%|          | 0/6 [00:00<?, ?it/s]"
      ]
     },
     "metadata": {},
     "output_type": "display_data"
    },
    {
     "name": "stdout",
     "output_type": "stream",
     "text": [
      "  "
     ]
    },
    {
     "data": {
      "application/json": {
       "ascii": false,
       "bar_format": null,
       "colour": null,
       "elapsed": 0.9939801692962646,
       "initial": 0,
       "n": 0,
       "ncols": null,
       "nrows": null,
       "postfix": null,
       "prefix": "13B-43000 Cross Correlation",
       "rate": null,
       "total": 5,
       "unit": "it",
       "unit_divisor": 1000,
       "unit_scale": false
      },
      "application/vnd.jupyter.widget-view+json": {
       "model_id": "88667d9e72e64877928d6b68c23bdfed",
       "version_major": 2,
       "version_minor": 0
      },
      "text/plain": [
       "13B-43000 Cross Correlation:   0%|          | 0/5 [00:00<?, ?it/s]"
      ]
     },
     "metadata": {},
     "output_type": "display_data"
    },
    {
     "data": {
      "application/json": {
       "ascii": false,
       "bar_format": null,
       "colour": null,
       "elapsed": 0.8546366691589355,
       "initial": 0,
       "n": 0,
       "ncols": null,
       "nrows": null,
       "postfix": null,
       "prefix": "13B-63000 Cross Correlation",
       "rate": null,
       "total": 4,
       "unit": "it",
       "unit_divisor": 1000,
       "unit_scale": false
      },
      "application/vnd.jupyter.widget-view+json": {
       "model_id": "c3a4399a51b0417ca057feae0b92afee",
       "version_major": 2,
       "version_minor": 0
      },
      "text/plain": [
       "13B-63000 Cross Correlation:   0%|          | 0/4 [00:00<?, ?it/s]"
      ]
     },
     "metadata": {},
     "output_type": "display_data"
    },
    {
     "name": "stdout",
     "output_type": "stream",
     "text": [
      "  "
     ]
    },
    {
     "data": {
      "application/json": {
       "ascii": false,
       "bar_format": null,
       "colour": null,
       "elapsed": 0.9993510246276855,
       "initial": 0,
       "n": 0,
       "ncols": null,
       "nrows": null,
       "postfix": null,
       "prefix": "13B-83000 Cross Correlation",
       "rate": null,
       "total": 3,
       "unit": "it",
       "unit_divisor": 1000,
       "unit_scale": false
      },
      "application/vnd.jupyter.widget-view+json": {
       "model_id": "24ec6558dceb4beb8cc6f6447a6f1d83",
       "version_major": 2,
       "version_minor": 0
      },
      "text/plain": [
       "13B-83000 Cross Correlation:   0%|          | 0/3 [00:00<?, ?it/s]"
      ]
     },
     "metadata": {},
     "output_type": "display_data"
    },
    {
     "data": {
      "application/json": {
       "ascii": false,
       "bar_format": null,
       "colour": null,
       "elapsed": 0.8586220741271973,
       "initial": 0,
       "n": 0,
       "ncols": null,
       "nrows": null,
       "postfix": null,
       "prefix": "13B-103000 Cross Correlation",
       "rate": null,
       "total": 2,
       "unit": "it",
       "unit_divisor": 1000,
       "unit_scale": false
      },
      "application/vnd.jupyter.widget-view+json": {
       "model_id": "455ee4c530ef483f8539de47ad7ccdbb",
       "version_major": 2,
       "version_minor": 0
      },
      "text/plain": [
       "13B-103000 Cross Correlation:   0%|          | 0/2 [00:00<?, ?it/s]"
      ]
     },
     "metadata": {},
     "output_type": "display_data"
    },
    {
     "name": "stdout",
     "output_type": "stream",
     "text": [
      "  "
     ]
    },
    {
     "data": {
      "application/json": {
       "ascii": false,
       "bar_format": null,
       "colour": null,
       "elapsed": 1.0196473598480225,
       "initial": 0,
       "n": 0,
       "ncols": null,
       "nrows": null,
       "postfix": null,
       "prefix": "13B-123000 Cross Correlation",
       "rate": null,
       "total": 1,
       "unit": "it",
       "unit_divisor": 1000,
       "unit_scale": false
      },
      "application/vnd.jupyter.widget-view+json": {
       "model_id": "acc8232ffc8a44f4a0083e78aaa4a83d",
       "version_major": 2,
       "version_minor": 0
      },
      "text/plain": [
       "13B-123000 Cross Correlation:   0%|          | 0/1 [00:01<?, ?it/s]"
      ]
     },
     "metadata": {},
     "output_type": "display_data"
    },
    {
     "data": {
      "application/json": {
       "ascii": false,
       "bar_format": null,
       "colour": null,
       "elapsed": 0.8772430419921875,
       "initial": 0,
       "n": 0,
       "ncols": null,
       "nrows": null,
       "postfix": null,
       "prefix": "13B_deduped-23000 Cross Correlation",
       "rate": null,
       "total": 6,
       "unit": "it",
       "unit_divisor": 1000,
       "unit_scale": false
      },
      "application/vnd.jupyter.widget-view+json": {
       "model_id": "e2776839d9a44099a6a1e2a1ff53de85",
       "version_major": 2,
       "version_minor": 0
      },
      "text/plain": [
       "13B_deduped-23000 Cross Correlation:   0%|          | 0/6 [00:00<?, ?it/s]"
      ]
     },
     "metadata": {},
     "output_type": "display_data"
    },
    {
     "name": "stdout",
     "output_type": "stream",
     "text": [
      " "
     ]
    },
    {
     "data": {
      "application/json": {
       "ascii": false,
       "bar_format": null,
       "colour": null,
       "elapsed": 0.8870804309844971,
       "initial": 0,
       "n": 0,
       "ncols": null,
       "nrows": null,
       "postfix": null,
       "prefix": "13B_deduped-43000 Cross Correlation",
       "rate": null,
       "total": 5,
       "unit": "it",
       "unit_divisor": 1000,
       "unit_scale": false
      },
      "application/vnd.jupyter.widget-view+json": {
       "model_id": "718f1a5352714be19cdb5b1dd154e8e1",
       "version_major": 2,
       "version_minor": 0
      },
      "text/plain": [
       "13B_deduped-43000 Cross Correlation:   0%|          | 0/5 [00:00<?, ?it/s]"
      ]
     },
     "metadata": {},
     "output_type": "display_data"
    },
    {
     "data": {
      "application/json": {
       "ascii": false,
       "bar_format": null,
       "colour": null,
       "elapsed": 0.750481367111206,
       "initial": 0,
       "n": 0,
       "ncols": null,
       "nrows": null,
       "postfix": null,
       "prefix": "13B_deduped-63000 Cross Correlation",
       "rate": null,
       "total": 4,
       "unit": "it",
       "unit_divisor": 1000,
       "unit_scale": false
      },
      "application/vnd.jupyter.widget-view+json": {
       "model_id": "0901802c5701434bb7d26433d7925c05",
       "version_major": 2,
       "version_minor": 0
      },
      "text/plain": [
       "13B_deduped-63000 Cross Correlation:   0%|          | 0/4 [00:00<?, ?it/s]"
      ]
     },
     "metadata": {},
     "output_type": "display_data"
    },
    {
     "name": "stdout",
     "output_type": "stream",
     "text": [
      " "
     ]
    },
    {
     "data": {
      "application/json": {
       "ascii": false,
       "bar_format": null,
       "colour": null,
       "elapsed": 0.7732644081115723,
       "initial": 0,
       "n": 0,
       "ncols": null,
       "nrows": null,
       "postfix": null,
       "prefix": "13B_deduped-83000 Cross Correlation",
       "rate": null,
       "total": 3,
       "unit": "it",
       "unit_divisor": 1000,
       "unit_scale": false
      },
      "application/vnd.jupyter.widget-view+json": {
       "model_id": "a88e6b1027504d61b0a9a8e76bcbcd21",
       "version_major": 2,
       "version_minor": 0
      },
      "text/plain": [
       "13B_deduped-83000 Cross Correlation:   0%|          | 0/3 [00:00<?, ?it/s]"
      ]
     },
     "metadata": {},
     "output_type": "display_data"
    },
    {
     "name": "stdout",
     "output_type": "stream",
     "text": [
      " "
     ]
    },
    {
     "data": {
      "application/json": {
       "ascii": false,
       "bar_format": null,
       "colour": null,
       "elapsed": 0.7897191047668457,
       "initial": 0,
       "n": 0,
       "ncols": null,
       "nrows": null,
       "postfix": null,
       "prefix": "13B_deduped-103000 Cross Correlation",
       "rate": null,
       "total": 2,
       "unit": "it",
       "unit_divisor": 1000,
       "unit_scale": false
      },
      "application/vnd.jupyter.widget-view+json": {
       "model_id": "8ab4075274ee486dbd5fb20a5b49413d",
       "version_major": 2,
       "version_minor": 0
      },
      "text/plain": [
       "13B_deduped-103000 Cross Correlation:   0%|          | 0/2 [00:00<?, ?it/s]"
      ]
     },
     "metadata": {},
     "output_type": "display_data"
    },
    {
     "name": "stdout",
     "output_type": "stream",
     "text": [
      " "
     ]
    },
    {
     "data": {
      "application/json": {
       "ascii": false,
       "bar_format": null,
       "colour": null,
       "elapsed": 0.8069436550140381,
       "initial": 0,
       "n": 0,
       "ncols": null,
       "nrows": null,
       "postfix": null,
       "prefix": "13B_deduped-123000 Cross Correlation",
       "rate": null,
       "total": 1,
       "unit": "it",
       "unit_divisor": 1000,
       "unit_scale": false
      },
      "application/vnd.jupyter.widget-view+json": {
       "model_id": "fab40866323b49b1bdde6bd734d57f7a",
       "version_major": 2,
       "version_minor": 0
      },
      "text/plain": [
       "13B_deduped-123000 Cross Correlation:   0%|          | 0/1 [00:00<?, ?it/s]"
      ]
     },
     "metadata": {},
     "output_type": "display_data"
    },
    {
     "name": "stdout",
     "output_type": "stream",
     "text": [
      " "
     ]
    },
    {
     "data": {
      "application/json": {
       "ascii": false,
       "bar_format": null,
       "colour": null,
       "elapsed": 0.8315598964691162,
       "initial": 0,
       "n": 0,
       "ncols": null,
       "nrows": null,
       "postfix": null,
       "prefix": "6.7B-23000 Cross Correlation",
       "rate": null,
       "total": 6,
       "unit": "it",
       "unit_divisor": 1000,
       "unit_scale": false
      },
      "application/vnd.jupyter.widget-view+json": {
       "model_id": "a3288a639c98498b802caaaa64aa4ae5",
       "version_major": 2,
       "version_minor": 0
      },
      "text/plain": [
       "6.7B-23000 Cross Correlation:   0%|          | 0/6 [00:00<?, ?it/s]"
      ]
     },
     "metadata": {},
     "output_type": "display_data"
    },
    {
     "name": "stdout",
     "output_type": "stream",
     "text": [
      " "
     ]
    },
    {
     "data": {
      "application/json": {
       "ascii": false,
       "bar_format": null,
       "colour": null,
       "elapsed": 0.8400511741638184,
       "initial": 0,
       "n": 0,
       "ncols": null,
       "nrows": null,
       "postfix": null,
       "prefix": "6.7B-43000 Cross Correlation",
       "rate": null,
       "total": 5,
       "unit": "it",
       "unit_divisor": 1000,
       "unit_scale": false
      },
      "application/vnd.jupyter.widget-view+json": {
       "model_id": "48828b99b3cf4bd6ab503becff5621cf",
       "version_major": 2,
       "version_minor": 0
      },
      "text/plain": [
       "6.7B-43000 Cross Correlation:   0%|          | 0/5 [00:00<?, ?it/s]"
      ]
     },
     "metadata": {},
     "output_type": "display_data"
    },
    {
     "data": {
      "application/json": {
       "ascii": false,
       "bar_format": null,
       "colour": null,
       "elapsed": 0.6727108955383301,
       "initial": 0,
       "n": 0,
       "ncols": null,
       "nrows": null,
       "postfix": null,
       "prefix": "6.7B-63000 Cross Correlation",
       "rate": null,
       "total": 4,
       "unit": "it",
       "unit_divisor": 1000,
       "unit_scale": false
      },
      "application/vnd.jupyter.widget-view+json": {
       "model_id": "21b0f9892a354578a7ee5188eae5b506",
       "version_major": 2,
       "version_minor": 0
      },
      "text/plain": [
       "6.7B-63000 Cross Correlation:   0%|          | 0/4 [00:00<?, ?it/s]"
      ]
     },
     "metadata": {},
     "output_type": "display_data"
    },
    {
     "name": "stdout",
     "output_type": "stream",
     "text": [
      " "
     ]
    },
    {
     "data": {
      "application/json": {
       "ascii": false,
       "bar_format": null,
       "colour": null,
       "elapsed": 0.6840002536773682,
       "initial": 0,
       "n": 0,
       "ncols": null,
       "nrows": null,
       "postfix": null,
       "prefix": "6.7B-83000 Cross Correlation",
       "rate": null,
       "total": 3,
       "unit": "it",
       "unit_divisor": 1000,
       "unit_scale": false
      },
      "application/vnd.jupyter.widget-view+json": {
       "model_id": "4182692d44b345079d72bb6d67267fef",
       "version_major": 2,
       "version_minor": 0
      },
      "text/plain": [
       "6.7B-83000 Cross Correlation:   0%|          | 0/3 [00:00<?, ?it/s]"
      ]
     },
     "metadata": {},
     "output_type": "display_data"
    },
    {
     "name": "stdout",
     "output_type": "stream",
     "text": [
      "  "
     ]
    },
    {
     "data": {
      "application/json": {
       "ascii": false,
       "bar_format": null,
       "colour": null,
       "elapsed": 0.8780858516693115,
       "initial": 0,
       "n": 0,
       "ncols": null,
       "nrows": null,
       "postfix": null,
       "prefix": "6.7B-103000 Cross Correlation",
       "rate": null,
       "total": 2,
       "unit": "it",
       "unit_divisor": 1000,
       "unit_scale": false
      },
      "application/vnd.jupyter.widget-view+json": {
       "model_id": "5e8ca997196e4d3b84dbc00b219e9f2d",
       "version_major": 2,
       "version_minor": 0
      },
      "text/plain": [
       "6.7B-103000 Cross Correlation:   0%|          | 0/2 [00:00<?, ?it/s]"
      ]
     },
     "metadata": {},
     "output_type": "display_data"
    },
    {
     "name": "stdout",
     "output_type": "stream",
     "text": [
      " "
     ]
    },
    {
     "data": {
      "application/json": {
       "ascii": false,
       "bar_format": null,
       "colour": null,
       "elapsed": 0.8928849697113037,
       "initial": 0,
       "n": 0,
       "ncols": null,
       "nrows": null,
       "postfix": null,
       "prefix": "6.7B-123000 Cross Correlation",
       "rate": null,
       "total": 1,
       "unit": "it",
       "unit_divisor": 1000,
       "unit_scale": false
      },
      "application/vnd.jupyter.widget-view+json": {
       "model_id": "855e01df23a144bebaed58ec691ef623",
       "version_major": 2,
       "version_minor": 0
      },
      "text/plain": [
       "6.7B-123000 Cross Correlation:   0%|          | 0/1 [00:00<?, ?it/s]"
      ]
     },
     "metadata": {},
     "output_type": "display_data"
    },
    {
     "name": "stdout",
     "output_type": "stream",
     "text": [
      " "
     ]
    },
    {
     "data": {
      "application/json": {
       "ascii": false,
       "bar_format": null,
       "colour": null,
       "elapsed": 0.9289193153381348,
       "initial": 0,
       "n": 0,
       "ncols": null,
       "nrows": null,
       "postfix": null,
       "prefix": "6.7B_deduped-23000 Cross Correlation",
       "rate": null,
       "total": 6,
       "unit": "it",
       "unit_divisor": 1000,
       "unit_scale": false
      },
      "application/vnd.jupyter.widget-view+json": {
       "model_id": "d00349600593421bb9f66ef0e07cb991",
       "version_major": 2,
       "version_minor": 0
      },
      "text/plain": [
       "6.7B_deduped-23000 Cross Correlation:   0%|          | 0/6 [00:00<?, ?it/s]"
      ]
     },
     "metadata": {},
     "output_type": "display_data"
    },
    {
     "data": {
      "application/json": {
       "ascii": false,
       "bar_format": null,
       "colour": null,
       "elapsed": 0.7572486400604248,
       "initial": 0,
       "n": 0,
       "ncols": null,
       "nrows": null,
       "postfix": null,
       "prefix": "6.7B_deduped-43000 Cross Correlation",
       "rate": null,
       "total": 5,
       "unit": "it",
       "unit_divisor": 1000,
       "unit_scale": false
      },
      "application/vnd.jupyter.widget-view+json": {
       "model_id": "f9516d1f4acf4a3281c4ee6860d32baf",
       "version_major": 2,
       "version_minor": 0
      },
      "text/plain": [
       "6.7B_deduped-43000 Cross Correlation:   0%|          | 0/5 [00:00<?, ?it/s]"
      ]
     },
     "metadata": {},
     "output_type": "display_data"
    },
    {
     "name": "stdout",
     "output_type": "stream",
     "text": [
      " "
     ]
    },
    {
     "data": {
      "application/json": {
       "ascii": false,
       "bar_format": null,
       "colour": null,
       "elapsed": 0.760115385055542,
       "initial": 0,
       "n": 0,
       "ncols": null,
       "nrows": null,
       "postfix": null,
       "prefix": "6.7B_deduped-63000 Cross Correlation",
       "rate": null,
       "total": 4,
       "unit": "it",
       "unit_divisor": 1000,
       "unit_scale": false
      },
      "application/vnd.jupyter.widget-view+json": {
       "model_id": "2a2adc179a454b34ab92c53c386db8ae",
       "version_major": 2,
       "version_minor": 0
      },
      "text/plain": [
       "6.7B_deduped-63000 Cross Correlation:   0%|          | 0/4 [00:00<?, ?it/s]"
      ]
     },
     "metadata": {},
     "output_type": "display_data"
    },
    {
     "name": "stdout",
     "output_type": "stream",
     "text": [
      " "
     ]
    },
    {
     "data": {
      "application/json": {
       "ascii": false,
       "bar_format": null,
       "colour": null,
       "elapsed": 0.7780032157897949,
       "initial": 0,
       "n": 0,
       "ncols": null,
       "nrows": null,
       "postfix": null,
       "prefix": "6.7B_deduped-83000 Cross Correlation",
       "rate": null,
       "total": 3,
       "unit": "it",
       "unit_divisor": 1000,
       "unit_scale": false
      },
      "application/vnd.jupyter.widget-view+json": {
       "model_id": "ef997e0e060847439612f5ec9ab1a836",
       "version_major": 2,
       "version_minor": 0
      },
      "text/plain": [
       "6.7B_deduped-83000 Cross Correlation:   0%|          | 0/3 [00:00<?, ?it/s]"
      ]
     },
     "metadata": {},
     "output_type": "display_data"
    },
    {
     "name": "stdout",
     "output_type": "stream",
     "text": [
      " "
     ]
    },
    {
     "data": {
      "application/json": {
       "ascii": false,
       "bar_format": null,
       "colour": null,
       "elapsed": 0.7763428688049316,
       "initial": 0,
       "n": 0,
       "ncols": null,
       "nrows": null,
       "postfix": null,
       "prefix": "6.7B_deduped-103000 Cross Correlation",
       "rate": null,
       "total": 2,
       "unit": "it",
       "unit_divisor": 1000,
       "unit_scale": false
      },
      "application/vnd.jupyter.widget-view+json": {
       "model_id": "ec041ca495fa40b692a02a86398bfd9b",
       "version_major": 2,
       "version_minor": 0
      },
      "text/plain": [
       "6.7B_deduped-103000 Cross Correlation:   0%|          | 0/2 [00:00<?, ?it/s]"
      ]
     },
     "metadata": {},
     "output_type": "display_data"
    },
    {
     "name": "stdout",
     "output_type": "stream",
     "text": [
      " "
     ]
    },
    {
     "data": {
      "application/json": {
       "ascii": false,
       "bar_format": null,
       "colour": null,
       "elapsed": 0.8054726123809814,
       "initial": 0,
       "n": 0,
       "ncols": null,
       "nrows": null,
       "postfix": null,
       "prefix": "6.7B_deduped-123000 Cross Correlation",
       "rate": null,
       "total": 1,
       "unit": "it",
       "unit_divisor": 1000,
       "unit_scale": false
      },
      "application/vnd.jupyter.widget-view+json": {
       "model_id": "b6c347f9192d4e769799cfa8d74b646f",
       "version_major": 2,
       "version_minor": 0
      },
      "text/plain": [
       "6.7B_deduped-123000 Cross Correlation:   0%|          | 0/1 [00:00<?, ?it/s]"
      ]
     },
     "metadata": {},
     "output_type": "display_data"
    },
    {
     "name": "stdout",
     "output_type": "stream",
     "text": [
      " "
     ]
    },
    {
     "data": {
      "application/json": {
       "ascii": false,
       "bar_format": null,
       "colour": null,
       "elapsed": 0.8364648818969727,
       "initial": 0,
       "n": 0,
       "ncols": null,
       "nrows": null,
       "postfix": null,
       "prefix": "2.7B-23000 Cross Correlation",
       "rate": null,
       "total": 6,
       "unit": "it",
       "unit_divisor": 1000,
       "unit_scale": false
      },
      "application/vnd.jupyter.widget-view+json": {
       "model_id": "b99957580e2d4a80b60843d1dcf69f1e",
       "version_major": 2,
       "version_minor": 0
      },
      "text/plain": [
       "2.7B-23000 Cross Correlation:   0%|          | 0/6 [00:00<?, ?it/s]"
      ]
     },
     "metadata": {},
     "output_type": "display_data"
    },
    {
     "name": "stdout",
     "output_type": "stream",
     "text": [
      " "
     ]
    },
    {
     "data": {
      "application/json": {
       "ascii": false,
       "bar_format": null,
       "colour": null,
       "elapsed": 0.6384468078613281,
       "initial": 0,
       "n": 0,
       "ncols": null,
       "nrows": null,
       "postfix": null,
       "prefix": "2.7B-43000 Cross Correlation",
       "rate": null,
       "total": 5,
       "unit": "it",
       "unit_divisor": 1000,
       "unit_scale": false
      },
      "application/vnd.jupyter.widget-view+json": {
       "model_id": "06caf044e6794b6ba7c041f2bef24908",
       "version_major": 2,
       "version_minor": 0
      },
      "text/plain": [
       "2.7B-43000 Cross Correlation:   0%|          | 0/5 [00:00<?, ?it/s]"
      ]
     },
     "metadata": {},
     "output_type": "display_data"
    },
    {
     "data": {
      "application/json": {
       "ascii": false,
       "bar_format": null,
       "colour": null,
       "elapsed": 0.6772439479827881,
       "initial": 0,
       "n": 0,
       "ncols": null,
       "nrows": null,
       "postfix": null,
       "prefix": "2.7B-63000 Cross Correlation",
       "rate": null,
       "total": 4,
       "unit": "it",
       "unit_divisor": 1000,
       "unit_scale": false
      },
      "application/vnd.jupyter.widget-view+json": {
       "model_id": "c943d24398684fb791d5af0846a34d1c",
       "version_major": 2,
       "version_minor": 0
      },
      "text/plain": [
       "2.7B-63000 Cross Correlation:   0%|          | 0/4 [00:00<?, ?it/s]"
      ]
     },
     "metadata": {},
     "output_type": "display_data"
    },
    {
     "name": "stdout",
     "output_type": "stream",
     "text": [
      " "
     ]
    },
    {
     "data": {
      "application/json": {
       "ascii": false,
       "bar_format": null,
       "colour": null,
       "elapsed": 0.8959956169128418,
       "initial": 0,
       "n": 0,
       "ncols": null,
       "nrows": null,
       "postfix": null,
       "prefix": "2.7B-83000 Cross Correlation",
       "rate": null,
       "total": 3,
       "unit": "it",
       "unit_divisor": 1000,
       "unit_scale": false
      },
      "application/vnd.jupyter.widget-view+json": {
       "model_id": "5ad6da186b8f4390855201f292de2661",
       "version_major": 2,
       "version_minor": 0
      },
      "text/plain": [
       "2.7B-83000 Cross Correlation:   0%|          | 0/3 [00:00<?, ?it/s]"
      ]
     },
     "metadata": {},
     "output_type": "display_data"
    },
    {
     "name": "stdout",
     "output_type": "stream",
     "text": [
      "   "
     ]
    },
    {
     "data": {
      "application/json": {
       "ascii": false,
       "bar_format": null,
       "colour": null,
       "elapsed": 1.1377816200256348,
       "initial": 0,
       "n": 0,
       "ncols": null,
       "nrows": null,
       "postfix": null,
       "prefix": "2.7B-103000 Cross Correlation",
       "rate": null,
       "total": 2,
       "unit": "it",
       "unit_divisor": 1000,
       "unit_scale": false
      },
      "application/vnd.jupyter.widget-view+json": {
       "model_id": "9693d2638c694de69bc59a54a4df1c66",
       "version_major": 2,
       "version_minor": 0
      },
      "text/plain": [
       "2.7B-103000 Cross Correlation:   0%|          | 0/2 [00:01<?, ?it/s]"
      ]
     },
     "metadata": {},
     "output_type": "display_data"
    },
    {
     "name": "stdout",
     "output_type": "stream",
     "text": [
      " "
     ]
    },
    {
     "data": {
      "application/json": {
       "ascii": false,
       "bar_format": null,
       "colour": null,
       "elapsed": 1.1434049606323242,
       "initial": 0,
       "n": 0,
       "ncols": null,
       "nrows": null,
       "postfix": null,
       "prefix": "2.7B-123000 Cross Correlation",
       "rate": null,
       "total": 1,
       "unit": "it",
       "unit_divisor": 1000,
       "unit_scale": false
      },
      "application/vnd.jupyter.widget-view+json": {
       "model_id": "800d6d3ef6c043debe3ba4fc22010717",
       "version_major": 2,
       "version_minor": 0
      },
      "text/plain": [
       "2.7B-123000 Cross Correlation:   0%|          | 0/1 [00:01<?, ?it/s]"
      ]
     },
     "metadata": {},
     "output_type": "display_data"
    },
    {
     "name": "stdout",
     "output_type": "stream",
     "text": [
      " "
     ]
    },
    {
     "data": {
      "application/json": {
       "ascii": false,
       "bar_format": null,
       "colour": null,
       "elapsed": 1.1438329219818115,
       "initial": 0,
       "n": 0,
       "ncols": null,
       "nrows": null,
       "postfix": null,
       "prefix": "1.3B-11500 Cross Correlation",
       "rate": null,
       "total": 6,
       "unit": "it",
       "unit_divisor": 1000,
       "unit_scale": false
      },
      "application/vnd.jupyter.widget-view+json": {
       "model_id": "9f7855f30f23478fab1315836ed73211",
       "version_major": 2,
       "version_minor": 0
      },
      "text/plain": [
       "1.3B-11500 Cross Correlation:   0%|          | 0/6 [00:01<?, ?it/s]"
      ]
     },
     "metadata": {},
     "output_type": "display_data"
    },
    {
     "name": "stdout",
     "output_type": "stream",
     "text": [
      "    "
     ]
    },
    {
     "data": {
      "application/json": {
       "ascii": false,
       "bar_format": null,
       "colour": null,
       "elapsed": 1.5815637111663818,
       "initial": 0,
       "n": 0,
       "ncols": null,
       "nrows": null,
       "postfix": null,
       "prefix": "1.3B-21500 Cross Correlation",
       "rate": null,
       "total": 5,
       "unit": "it",
       "unit_divisor": 1000,
       "unit_scale": false
      },
      "application/vnd.jupyter.widget-view+json": {
       "model_id": "a6db83e00ccf4af7a16cb02059befd99",
       "version_major": 2,
       "version_minor": 0
      },
      "text/plain": [
       "1.3B-21500 Cross Correlation:   0%|          | 0/5 [00:01<?, ?it/s]"
      ]
     },
     "metadata": {},
     "output_type": "display_data"
    },
    {
     "name": "stdout",
     "output_type": "stream",
     "text": [
      " "
     ]
    },
    {
     "data": {
      "application/json": {
       "ascii": false,
       "bar_format": null,
       "colour": null,
       "elapsed": 1.588965892791748,
       "initial": 0,
       "n": 0,
       "ncols": null,
       "nrows": null,
       "postfix": null,
       "prefix": "1.3B-31500 Cross Correlation",
       "rate": null,
       "total": 4,
       "unit": "it",
       "unit_divisor": 1000,
       "unit_scale": false
      },
      "application/vnd.jupyter.widget-view+json": {
       "model_id": "c62da03465754d8f9cc424fe7c837482",
       "version_major": 2,
       "version_minor": 0
      },
      "text/plain": [
       "1.3B-31500 Cross Correlation:   0%|          | 0/4 [00:01<?, ?it/s]"
      ]
     },
     "metadata": {},
     "output_type": "display_data"
    },
    {
     "data": {
      "application/json": {
       "ascii": false,
       "bar_format": null,
       "colour": null,
       "elapsed": 1.3674583435058594,
       "initial": 0,
       "n": 0,
       "ncols": null,
       "nrows": null,
       "postfix": null,
       "prefix": "1.3B-41500 Cross Correlation",
       "rate": null,
       "total": 3,
       "unit": "it",
       "unit_divisor": 1000,
       "unit_scale": false
      },
      "application/vnd.jupyter.widget-view+json": {
       "model_id": "b8084113998a4e489bf3e7768f83e57a",
       "version_major": 2,
       "version_minor": 0
      },
      "text/plain": [
       "1.3B-41500 Cross Correlation:   0%|          | 0/3 [00:01<?, ?it/s]"
      ]
     },
     "metadata": {},
     "output_type": "display_data"
    },
    {
     "data": {
      "application/json": {
       "ascii": false,
       "bar_format": null,
       "colour": null,
       "elapsed": 1.3646061420440674,
       "initial": 0,
       "n": 0,
       "ncols": null,
       "nrows": null,
       "postfix": null,
       "prefix": "1.3B-51500 Cross Correlation",
       "rate": null,
       "total": 2,
       "unit": "it",
       "unit_divisor": 1000,
       "unit_scale": false
      },
      "application/vnd.jupyter.widget-view+json": {
       "model_id": "751f3c5fb109432a844fa9b1365e852f",
       "version_major": 2,
       "version_minor": 0
      },
      "text/plain": [
       "1.3B-51500 Cross Correlation:   0%|          | 0/2 [00:01<?, ?it/s]"
      ]
     },
     "metadata": {},
     "output_type": "display_data"
    },
    {
     "data": {
      "application/json": {
       "ascii": false,
       "bar_format": null,
       "colour": null,
       "elapsed": 1.1515166759490967,
       "initial": 0,
       "n": 0,
       "ncols": null,
       "nrows": null,
       "postfix": null,
       "prefix": "1.3B-61500 Cross Correlation",
       "rate": null,
       "total": 1,
       "unit": "it",
       "unit_divisor": 1000,
       "unit_scale": false
      },
      "application/vnd.jupyter.widget-view+json": {
       "model_id": "7d7c6a5cedd946d78872755b726d0de8",
       "version_major": 2,
       "version_minor": 0
      },
      "text/plain": [
       "1.3B-61500 Cross Correlation:   0%|          | 0/1 [00:01<?, ?it/s]"
      ]
     },
     "metadata": {},
     "output_type": "display_data"
    },
    {
     "name": "stdout",
     "output_type": "stream",
     "text": [
      "   "
     ]
    },
    {
     "data": {
      "application/json": {
       "ascii": false,
       "bar_format": null,
       "colour": null,
       "elapsed": 1.2495830059051514,
       "initial": 0,
       "n": 0,
       "ncols": null,
       "nrows": null,
       "postfix": null,
       "prefix": "1.3B_deduped-21500 Cross Correlation",
       "rate": null,
       "total": 5,
       "unit": "it",
       "unit_divisor": 1000,
       "unit_scale": false
      },
      "application/vnd.jupyter.widget-view+json": {
       "model_id": "3e089426f21945e4a8d871f58985be82",
       "version_major": 2,
       "version_minor": 0
      },
      "text/plain": [
       "1.3B_deduped-21500 Cross Correlation:   0%|          | 0/5 [00:01<?, ?it/s]"
      ]
     },
     "metadata": {},
     "output_type": "display_data"
    },
    {
     "name": "stdout",
     "output_type": "stream",
     "text": [
      " "
     ]
    },
    {
     "data": {
      "application/json": {
       "ascii": false,
       "bar_format": null,
       "colour": null,
       "elapsed": 1.515615463256836,
       "initial": 0,
       "n": 0,
       "ncols": null,
       "nrows": null,
       "postfix": null,
       "prefix": "1.3B_deduped-31500 Cross Correlation",
       "rate": null,
       "total": 4,
       "unit": "it",
       "unit_divisor": 1000,
       "unit_scale": false
      },
      "application/vnd.jupyter.widget-view+json": {
       "model_id": "7c37b8c7b4d3467593362eec6ec33bd8",
       "version_major": 2,
       "version_minor": 0
      },
      "text/plain": [
       "1.3B_deduped-31500 Cross Correlation:   0%|          | 0/4 [00:01<?, ?it/s]"
      ]
     },
     "metadata": {},
     "output_type": "display_data"
    },
    {
     "name": "stdout",
     "output_type": "stream",
     "text": [
      " "
     ]
    },
    {
     "data": {
      "application/json": {
       "ascii": false,
       "bar_format": null,
       "colour": null,
       "elapsed": 1.324721097946167,
       "initial": 0,
       "n": 0,
       "ncols": null,
       "nrows": null,
       "postfix": null,
       "prefix": "1.3B_deduped-51500 Cross Correlation",
       "rate": null,
       "total": 2,
       "unit": "it",
       "unit_divisor": 1000,
       "unit_scale": false
      },
      "application/vnd.jupyter.widget-view+json": {
       "model_id": "9f5e158219ce4457a60a90a0456dbd03",
       "version_major": 2,
       "version_minor": 0
      },
      "text/plain": [
       "1.3B_deduped-51500 Cross Correlation:   0%|          | 0/2 [00:01<?, ?it/s]"
      ]
     },
     "metadata": {},
     "output_type": "display_data"
    },
    {
     "data": {
      "application/json": {
       "ascii": false,
       "bar_format": null,
       "colour": null,
       "elapsed": 2.239218235015869,
       "initial": 0,
       "n": 0,
       "ncols": null,
       "nrows": null,
       "postfix": null,
       "prefix": "1.3B_deduped-11500 Cross Correlation",
       "rate": null,
       "total": 6,
       "unit": "it",
       "unit_divisor": 1000,
       "unit_scale": false
      },
      "application/vnd.jupyter.widget-view+json": {
       "model_id": "735bbc0c2ea147b2a8ad6c3f61bb9109",
       "version_major": 2,
       "version_minor": 0
      },
      "text/plain": [
       "1.3B_deduped-11500 Cross Correlation:   0%|          | 0/6 [00:02<?, ?it/s]"
      ]
     },
     "metadata": {},
     "output_type": "display_data"
    },
    {
     "name": "stdout",
     "output_type": "stream",
     "text": [
      " "
     ]
    },
    {
     "data": {
      "application/json": {
       "ascii": false,
       "bar_format": null,
       "colour": null,
       "elapsed": 1.8228802680969238,
       "initial": 0,
       "n": 0,
       "ncols": null,
       "nrows": null,
       "postfix": null,
       "prefix": "1.3B_deduped-41500 Cross Correlation",
       "rate": null,
       "total": 3,
       "unit": "it",
       "unit_divisor": 1000,
       "unit_scale": false
      },
      "application/vnd.jupyter.widget-view+json": {
       "model_id": "4b0ae4655b50470591ebce8ac6ecc1bb",
       "version_major": 2,
       "version_minor": 0
      },
      "text/plain": [
       "1.3B_deduped-41500 Cross Correlation:   0%|          | 0/3 [00:01<?, ?it/s]"
      ]
     },
     "metadata": {},
     "output_type": "display_data"
    },
    {
     "name": "stdout",
     "output_type": "stream",
     "text": [
      " "
     ]
    },
    {
     "data": {
      "application/json": {
       "ascii": false,
       "bar_format": null,
       "colour": null,
       "elapsed": 1.1626935005187988,
       "initial": 0,
       "n": 0,
       "ncols": null,
       "nrows": null,
       "postfix": null,
       "prefix": "800M-23000 Cross Correlation",
       "rate": null,
       "total": 6,
       "unit": "it",
       "unit_divisor": 1000,
       "unit_scale": false
      },
      "application/vnd.jupyter.widget-view+json": {
       "model_id": "1633bc5e27e6455bb3f859e18ff6aa4c",
       "version_major": 2,
       "version_minor": 0
      },
      "text/plain": [
       "800M-23000 Cross Correlation:   0%|          | 0/6 [00:01<?, ?it/s]"
      ]
     },
     "metadata": {},
     "output_type": "display_data"
    },
    {
     "data": {
      "application/json": {
       "ascii": false,
       "bar_format": null,
       "colour": null,
       "elapsed": 1.4589183330535889,
       "initial": 0,
       "n": 0,
       "ncols": null,
       "nrows": null,
       "postfix": null,
       "prefix": "1.3B_deduped-61500 Cross Correlation",
       "rate": null,
       "total": 1,
       "unit": "it",
       "unit_divisor": 1000,
       "unit_scale": false
      },
      "application/vnd.jupyter.widget-view+json": {
       "model_id": "226e29c116b4452797ddfd4df988486c",
       "version_major": 2,
       "version_minor": 0
      },
      "text/plain": [
       "1.3B_deduped-61500 Cross Correlation:   0%|          | 0/1 [00:01<?, ?it/s]"
      ]
     },
     "metadata": {},
     "output_type": "display_data"
    },
    {
     "data": {
      "application/json": {
       "ascii": false,
       "bar_format": null,
       "colour": null,
       "elapsed": 0.6538586616516113,
       "initial": 0,
       "n": 0,
       "ncols": null,
       "nrows": null,
       "postfix": null,
       "prefix": "800M-63000 Cross Correlation",
       "rate": null,
       "total": 4,
       "unit": "it",
       "unit_divisor": 1000,
       "unit_scale": false
      },
      "application/vnd.jupyter.widget-view+json": {
       "model_id": "c3c85b894ee6440ebda703b0b7bfa3a8",
       "version_major": 2,
       "version_minor": 0
      },
      "text/plain": [
       "800M-63000 Cross Correlation:   0%|          | 0/4 [00:00<?, ?it/s]"
      ]
     },
     "metadata": {},
     "output_type": "display_data"
    },
    {
     "data": {
      "application/json": {
       "ascii": false,
       "bar_format": null,
       "colour": null,
       "elapsed": 0.9330503940582275,
       "initial": 0,
       "n": 0,
       "ncols": null,
       "nrows": null,
       "postfix": null,
       "prefix": "800M-43000 Cross Correlation",
       "rate": null,
       "total": 5,
       "unit": "it",
       "unit_divisor": 1000,
       "unit_scale": false
      },
      "application/vnd.jupyter.widget-view+json": {
       "model_id": "7a181ed539744742b8a11177f3945c62",
       "version_major": 2,
       "version_minor": 0
      },
      "text/plain": [
       "800M-43000 Cross Correlation:   0%|          | 0/5 [00:00<?, ?it/s]"
      ]
     },
     "metadata": {},
     "output_type": "display_data"
    },
    {
     "data": {
      "application/json": {
       "ascii": false,
       "bar_format": null,
       "colour": null,
       "elapsed": 0.1397082805633545,
       "initial": 0,
       "n": 0,
       "ncols": null,
       "nrows": null,
       "postfix": null,
       "prefix": "800M-103000 Cross Correlation",
       "rate": null,
       "total": 2,
       "unit": "it",
       "unit_divisor": 1000,
       "unit_scale": false
      },
      "application/vnd.jupyter.widget-view+json": {
       "model_id": "bae17af7422f48a3a385c2cfec1c7d13",
       "version_major": 2,
       "version_minor": 0
      },
      "text/plain": [
       "800M-103000 Cross Correlation:   0%|          | 0/2 [00:00<?, ?it/s]"
      ]
     },
     "metadata": {},
     "output_type": "display_data"
    },
    {
     "data": {
      "application/json": {
       "ascii": false,
       "bar_format": null,
       "colour": null,
       "elapsed": 0.47179198265075684,
       "initial": 0,
       "n": 0,
       "ncols": null,
       "nrows": null,
       "postfix": null,
       "prefix": "800M-83000 Cross Correlation",
       "rate": null,
       "total": 3,
       "unit": "it",
       "unit_divisor": 1000,
       "unit_scale": false
      },
      "application/vnd.jupyter.widget-view+json": {
       "model_id": "ad278a347c9142c1a6532d9cbfb20c99",
       "version_major": 2,
       "version_minor": 0
      },
      "text/plain": [
       "800M-83000 Cross Correlation:   0%|          | 0/3 [00:00<?, ?it/s]"
      ]
     },
     "metadata": {},
     "output_type": "display_data"
    },
    {
     "data": {
      "application/json": {
       "ascii": false,
       "bar_format": null,
       "colour": null,
       "elapsed": 0.20023822784423828,
       "initial": 0,
       "n": 0,
       "ncols": null,
       "nrows": null,
       "postfix": null,
       "prefix": "800M-123000 Cross Correlation",
       "rate": null,
       "total": 1,
       "unit": "it",
       "unit_divisor": 1000,
       "unit_scale": false
      },
      "application/vnd.jupyter.widget-view+json": {
       "model_id": "b35ebd45c9ad4446bee7b934acf62b41",
       "version_major": 2,
       "version_minor": 0
      },
      "text/plain": [
       "800M-123000 Cross Correlation:   0%|          | 0/1 [00:00<?, ?it/s]"
      ]
     },
     "metadata": {},
     "output_type": "display_data"
    },
    {
     "name": "stdout",
     "output_type": "stream",
     "text": [
      "       "
     ]
    },
    {
     "data": {
      "application/json": {
       "ascii": false,
       "bar_format": null,
       "colour": null,
       "elapsed": 0.8511250019073486,
       "initial": 0,
       "n": 0,
       "ncols": null,
       "nrows": null,
       "postfix": null,
       "prefix": "800M_deduped-23000 Cross Correlation",
       "rate": null,
       "total": 6,
       "unit": "it",
       "unit_divisor": 1000,
       "unit_scale": false
      },
      "application/vnd.jupyter.widget-view+json": {
       "model_id": "fe16be2f4def443ab138ef74a02f7dc8",
       "version_major": 2,
       "version_minor": 0
      },
      "text/plain": [
       "800M_deduped-23000 Cross Correlation:   0%|          | 0/6 [00:00<?, ?it/s]"
      ]
     },
     "metadata": {},
     "output_type": "display_data"
    },
    {
     "name": "stdout",
     "output_type": "stream",
     "text": [
      " "
     ]
    },
    {
     "data": {
      "application/json": {
       "ascii": false,
       "bar_format": null,
       "colour": null,
       "elapsed": 0.849759578704834,
       "initial": 0,
       "n": 0,
       "ncols": null,
       "nrows": null,
       "postfix": null,
       "prefix": "800M_deduped-43000 Cross Correlation",
       "rate": null,
       "total": 5,
       "unit": "it",
       "unit_divisor": 1000,
       "unit_scale": false
      },
      "application/vnd.jupyter.widget-view+json": {
       "model_id": "07d7402e6969416bb79866210b12d7aa",
       "version_major": 2,
       "version_minor": 0
      },
      "text/plain": [
       "800M_deduped-43000 Cross Correlation:   0%|          | 0/5 [00:00<?, ?it/s]"
      ]
     },
     "metadata": {},
     "output_type": "display_data"
    },
    {
     "name": "stdout",
     "output_type": "stream",
     "text": [
      " "
     ]
    },
    {
     "data": {
      "application/json": {
       "ascii": false,
       "bar_format": null,
       "colour": null,
       "elapsed": 0.8494181632995605,
       "initial": 0,
       "n": 0,
       "ncols": null,
       "nrows": null,
       "postfix": null,
       "prefix": "800M_deduped-63000 Cross Correlation",
       "rate": null,
       "total": 4,
       "unit": "it",
       "unit_divisor": 1000,
       "unit_scale": false
      },
      "application/vnd.jupyter.widget-view+json": {
       "model_id": "8e826bc127644e0ca081d972e5bc8476",
       "version_major": 2,
       "version_minor": 0
      },
      "text/plain": [
       "800M_deduped-63000 Cross Correlation:   0%|          | 0/4 [00:00<?, ?it/s]"
      ]
     },
     "metadata": {},
     "output_type": "display_data"
    },
    {
     "name": "stdout",
     "output_type": "stream",
     "text": [
      " "
     ]
    },
    {
     "data": {
      "application/json": {
       "ascii": false,
       "bar_format": null,
       "colour": null,
       "elapsed": 0.8704278469085693,
       "initial": 0,
       "n": 0,
       "ncols": null,
       "nrows": null,
       "postfix": null,
       "prefix": "800M_deduped-83000 Cross Correlation",
       "rate": null,
       "total": 3,
       "unit": "it",
       "unit_divisor": 1000,
       "unit_scale": false
      },
      "application/vnd.jupyter.widget-view+json": {
       "model_id": "f4a5a231fbfe4bd7b69e8f92c9bdb962",
       "version_major": 2,
       "version_minor": 0
      },
      "text/plain": [
       "800M_deduped-83000 Cross Correlation:   0%|          | 0/3 [00:00<?, ?it/s]"
      ]
     },
     "metadata": {},
     "output_type": "display_data"
    },
    {
     "name": "stdout",
     "output_type": "stream",
     "text": [
      " "
     ]
    },
    {
     "data": {
      "application/json": {
       "ascii": false,
       "bar_format": null,
       "colour": null,
       "elapsed": 0.8923842906951904,
       "initial": 0,
       "n": 0,
       "ncols": null,
       "nrows": null,
       "postfix": null,
       "prefix": "800M_deduped-103000 Cross Correlation",
       "rate": null,
       "total": 2,
       "unit": "it",
       "unit_divisor": 1000,
       "unit_scale": false
      },
      "application/vnd.jupyter.widget-view+json": {
       "model_id": "006b9497fae74585afe0031c09fd282a",
       "version_major": 2,
       "version_minor": 0
      },
      "text/plain": [
       "800M_deduped-103000 Cross Correlation:   0%|          | 0/2 [00:00<?, ?it/s]"
      ]
     },
     "metadata": {},
     "output_type": "display_data"
    },
    {
     "data": {
      "application/json": {
       "ascii": false,
       "bar_format": null,
       "colour": null,
       "elapsed": 0.7525286674499512,
       "initial": 0,
       "n": 0,
       "ncols": null,
       "nrows": null,
       "postfix": null,
       "prefix": "800M_deduped-123000 Cross Correlation",
       "rate": null,
       "total": 1,
       "unit": "it",
       "unit_divisor": 1000,
       "unit_scale": false
      },
      "application/vnd.jupyter.widget-view+json": {
       "model_id": "1cf5b3ddbf514587a9792f2ac8c4b1c9",
       "version_major": 2,
       "version_minor": 0
      },
      "text/plain": [
       "800M_deduped-123000 Cross Correlation:   0%|          | 0/1 [00:00<?, ?it/s]"
      ]
     },
     "metadata": {},
     "output_type": "display_data"
    },
    {
     "name": "stdout",
     "output_type": "stream",
     "text": [
      "  "
     ]
    },
    {
     "data": {
      "application/json": {
       "ascii": false,
       "bar_format": null,
       "colour": null,
       "elapsed": 0.8011424541473389,
       "initial": 0,
       "n": 0,
       "ncols": null,
       "nrows": null,
       "postfix": null,
       "prefix": "350M-21500 Cross Correlation",
       "rate": null,
       "total": 5,
       "unit": "it",
       "unit_divisor": 1000,
       "unit_scale": false
      },
      "application/vnd.jupyter.widget-view+json": {
       "model_id": "e392d69f3ff84a658b90ea16f4692d0e",
       "version_major": 2,
       "version_minor": 0
      },
      "text/plain": [
       "350M-21500 Cross Correlation:   0%|          | 0/5 [00:00<?, ?it/s]"
      ]
     },
     "metadata": {},
     "output_type": "display_data"
    },
    {
     "data": {
      "application/json": {
       "ascii": false,
       "bar_format": null,
       "colour": null,
       "elapsed": 0.9421873092651367,
       "initial": 0,
       "n": 0,
       "ncols": null,
       "nrows": null,
       "postfix": null,
       "prefix": "350M-11500 Cross Correlation",
       "rate": null,
       "total": 6,
       "unit": "it",
       "unit_divisor": 1000,
       "unit_scale": false
      },
      "application/vnd.jupyter.widget-view+json": {
       "model_id": "eb87a7ca5bdf4cd3af0ea6a5cbe3ea75",
       "version_major": 2,
       "version_minor": 0
      },
      "text/plain": [
       "350M-11500 Cross Correlation:   0%|          | 0/6 [00:00<?, ?it/s]"
      ]
     },
     "metadata": {},
     "output_type": "display_data"
    },
    {
     "name": "stdout",
     "output_type": "stream",
     "text": [
      " "
     ]
    },
    {
     "data": {
      "application/json": {
       "ascii": false,
       "bar_format": null,
       "colour": null,
       "elapsed": 0.8267614841461182,
       "initial": 0,
       "n": 0,
       "ncols": null,
       "nrows": null,
       "postfix": null,
       "prefix": "350M-31500 Cross Correlation",
       "rate": null,
       "total": 4,
       "unit": "it",
       "unit_divisor": 1000,
       "unit_scale": false
      },
      "application/vnd.jupyter.widget-view+json": {
       "model_id": "a31b1b88dd1b420c9d5a0db65e6b2e91",
       "version_major": 2,
       "version_minor": 0
      },
      "text/plain": [
       "350M-31500 Cross Correlation:   0%|          | 0/4 [00:00<?, ?it/s]"
      ]
     },
     "metadata": {},
     "output_type": "display_data"
    },
    {
     "name": "stdout",
     "output_type": "stream",
     "text": [
      " "
     ]
    },
    {
     "data": {
      "application/json": {
       "ascii": false,
       "bar_format": null,
       "colour": null,
       "elapsed": 0.8406620025634766,
       "initial": 0,
       "n": 0,
       "ncols": null,
       "nrows": null,
       "postfix": null,
       "prefix": "350M-41500 Cross Correlation",
       "rate": null,
       "total": 3,
       "unit": "it",
       "unit_divisor": 1000,
       "unit_scale": false
      },
      "application/vnd.jupyter.widget-view+json": {
       "model_id": "cfc4e1c7a0f84e518dfc9cf5badedf96",
       "version_major": 2,
       "version_minor": 0
      },
      "text/plain": [
       "350M-41500 Cross Correlation:   0%|          | 0/3 [00:00<?, ?it/s]"
      ]
     },
     "metadata": {},
     "output_type": "display_data"
    },
    {
     "name": "stdout",
     "output_type": "stream",
     "text": [
      " "
     ]
    },
    {
     "data": {
      "application/json": {
       "ascii": false,
       "bar_format": null,
       "colour": null,
       "elapsed": 0.6844451427459717,
       "initial": 0,
       "n": 0,
       "ncols": null,
       "nrows": null,
       "postfix": null,
       "prefix": "350M-61500 Cross Correlation",
       "rate": null,
       "total": 1,
       "unit": "it",
       "unit_divisor": 1000,
       "unit_scale": false
      },
      "application/vnd.jupyter.widget-view+json": {
       "model_id": "c014f7e10ea4497b9c6e1dc1426b2d31",
       "version_major": 2,
       "version_minor": 0
      },
      "text/plain": [
       "350M-61500 Cross Correlation:   0%|          | 0/1 [00:00<?, ?it/s]"
      ]
     },
     "metadata": {},
     "output_type": "display_data"
    },
    {
     "data": {
      "application/json": {
       "ascii": false,
       "bar_format": null,
       "colour": null,
       "elapsed": 0.8519651889801025,
       "initial": 0,
       "n": 0,
       "ncols": null,
       "nrows": null,
       "postfix": null,
       "prefix": "350M-51500 Cross Correlation",
       "rate": null,
       "total": 2,
       "unit": "it",
       "unit_divisor": 1000,
       "unit_scale": false
      },
      "application/vnd.jupyter.widget-view+json": {
       "model_id": "e3e5d4a3cda947adbf2a9774e1569289",
       "version_major": 2,
       "version_minor": 0
      },
      "text/plain": [
       "350M-51500 Cross Correlation:   0%|          | 0/2 [00:00<?, ?it/s]"
      ]
     },
     "metadata": {},
     "output_type": "display_data"
    },
    {
     "name": "stdout",
     "output_type": "stream",
     "text": [
      " "
     ]
    },
    {
     "data": {
      "application/json": {
       "ascii": false,
       "bar_format": null,
       "colour": null,
       "elapsed": 0.6950864791870117,
       "initial": 0,
       "n": 0,
       "ncols": null,
       "nrows": null,
       "postfix": null,
       "prefix": "350M_deduped-11500 Cross Correlation",
       "rate": null,
       "total": 6,
       "unit": "it",
       "unit_divisor": 1000,
       "unit_scale": false
      },
      "application/vnd.jupyter.widget-view+json": {
       "model_id": "71d742e21e164b589f156282ab2091f8",
       "version_major": 2,
       "version_minor": 0
      },
      "text/plain": [
       "350M_deduped-11500 Cross Correlation:   0%|          | 0/6 [00:00<?, ?it/s]"
      ]
     },
     "metadata": {},
     "output_type": "display_data"
    },
    {
     "name": "stdout",
     "output_type": "stream",
     "text": [
      " "
     ]
    },
    {
     "data": {
      "application/json": {
       "ascii": false,
       "bar_format": null,
       "colour": null,
       "elapsed": 0.7179186344146729,
       "initial": 0,
       "n": 0,
       "ncols": null,
       "nrows": null,
       "postfix": null,
       "prefix": "350M_deduped-21500 Cross Correlation",
       "rate": null,
       "total": 5,
       "unit": "it",
       "unit_divisor": 1000,
       "unit_scale": false
      },
      "application/vnd.jupyter.widget-view+json": {
       "model_id": "19dc03e39b954506b086ecad02d9a772",
       "version_major": 2,
       "version_minor": 0
      },
      "text/plain": [
       "350M_deduped-21500 Cross Correlation:   0%|          | 0/5 [00:00<?, ?it/s]"
      ]
     },
     "metadata": {},
     "output_type": "display_data"
    },
    {
     "name": "stdout",
     "output_type": "stream",
     "text": [
      " "
     ]
    },
    {
     "data": {
      "application/json": {
       "ascii": false,
       "bar_format": null,
       "colour": null,
       "elapsed": 0.7207863330841064,
       "initial": 0,
       "n": 0,
       "ncols": null,
       "nrows": null,
       "postfix": null,
       "prefix": "350M_deduped-31500 Cross Correlation",
       "rate": null,
       "total": 4,
       "unit": "it",
       "unit_divisor": 1000,
       "unit_scale": false
      },
      "application/vnd.jupyter.widget-view+json": {
       "model_id": "d1b0e49db7a148c5a8e0be8d72502685",
       "version_major": 2,
       "version_minor": 0
      },
      "text/plain": [
       "350M_deduped-31500 Cross Correlation:   0%|          | 0/4 [00:00<?, ?it/s]"
      ]
     },
     "metadata": {},
     "output_type": "display_data"
    },
    {
     "data": {
      "application/json": {
       "ascii": false,
       "bar_format": null,
       "colour": null,
       "elapsed": 0.5490157604217529,
       "initial": 0,
       "n": 0,
       "ncols": null,
       "nrows": null,
       "postfix": null,
       "prefix": "350M_deduped-41500 Cross Correlation",
       "rate": null,
       "total": 3,
       "unit": "it",
       "unit_divisor": 1000,
       "unit_scale": false
      },
      "application/vnd.jupyter.widget-view+json": {
       "model_id": "1095e0427d3c4224acd42768d007e75a",
       "version_major": 2,
       "version_minor": 0
      },
      "text/plain": [
       "350M_deduped-41500 Cross Correlation:   0%|          | 0/3 [00:00<?, ?it/s]"
      ]
     },
     "metadata": {},
     "output_type": "display_data"
    },
    {
     "name": "stdout",
     "output_type": "stream",
     "text": [
      "  "
     ]
    },
    {
     "data": {
      "application/json": {
       "ascii": false,
       "bar_format": null,
       "colour": null,
       "elapsed": 0.7374513149261475,
       "initial": 0,
       "n": 0,
       "ncols": null,
       "nrows": null,
       "postfix": null,
       "prefix": "350M_deduped-51500 Cross Correlation",
       "rate": null,
       "total": 2,
       "unit": "it",
       "unit_divisor": 1000,
       "unit_scale": false
      },
      "application/vnd.jupyter.widget-view+json": {
       "model_id": "f5fddebffc0b4b44bd7edad543a63bbc",
       "version_major": 2,
       "version_minor": 0
      },
      "text/plain": [
       "350M_deduped-51500 Cross Correlation:   0%|          | 0/2 [00:00<?, ?it/s]"
      ]
     },
     "metadata": {},
     "output_type": "display_data"
    },
    {
     "data": {
      "application/json": {
       "ascii": false,
       "bar_format": null,
       "colour": null,
       "elapsed": 0.5545146465301514,
       "initial": 0,
       "n": 0,
       "ncols": null,
       "nrows": null,
       "postfix": null,
       "prefix": "350M_deduped-61500 Cross Correlation",
       "rate": null,
       "total": 1,
       "unit": "it",
       "unit_divisor": 1000,
       "unit_scale": false
      },
      "application/vnd.jupyter.widget-view+json": {
       "model_id": "6e90cec890e14d64a7375ab6016c35ec",
       "version_major": 2,
       "version_minor": 0
      },
      "text/plain": [
       "350M_deduped-61500 Cross Correlation:   0%|          | 0/1 [00:00<?, ?it/s]"
      ]
     },
     "metadata": {},
     "output_type": "display_data"
    },
    {
     "name": "stdout",
     "output_type": "stream",
     "text": [
      "  "
     ]
    },
    {
     "data": {
      "application/json": {
       "ascii": false,
       "bar_format": null,
       "colour": null,
       "elapsed": 0.7528133392333984,
       "initial": 0,
       "n": 0,
       "ncols": null,
       "nrows": null,
       "postfix": null,
       "prefix": "125M-11500 Cross Correlation",
       "rate": null,
       "total": 6,
       "unit": "it",
       "unit_divisor": 1000,
       "unit_scale": false
      },
      "application/vnd.jupyter.widget-view+json": {
       "model_id": "ce176663df624d55b1d653e21b46b1df",
       "version_major": 2,
       "version_minor": 0
      },
      "text/plain": [
       "125M-11500 Cross Correlation:   0%|          | 0/6 [00:00<?, ?it/s]"
      ]
     },
     "metadata": {},
     "output_type": "display_data"
    },
    {
     "name": "stdout",
     "output_type": "stream",
     "text": [
      " "
     ]
    },
    {
     "data": {
      "application/json": {
       "ascii": false,
       "bar_format": null,
       "colour": null,
       "elapsed": 0.7580747604370117,
       "initial": 0,
       "n": 0,
       "ncols": null,
       "nrows": null,
       "postfix": null,
       "prefix": "125M-21500 Cross Correlation",
       "rate": null,
       "total": 5,
       "unit": "it",
       "unit_divisor": 1000,
       "unit_scale": false
      },
      "application/vnd.jupyter.widget-view+json": {
       "model_id": "f0c298ae0e734aac80fdf65eaed3ef14",
       "version_major": 2,
       "version_minor": 0
      },
      "text/plain": [
       "125M-21500 Cross Correlation:   0%|          | 0/5 [00:00<?, ?it/s]"
      ]
     },
     "metadata": {},
     "output_type": "display_data"
    },
    {
     "name": "stdout",
     "output_type": "stream",
     "text": [
      " "
     ]
    },
    {
     "data": {
      "application/json": {
       "ascii": false,
       "bar_format": null,
       "colour": null,
       "elapsed": 0.7669522762298584,
       "initial": 0,
       "n": 0,
       "ncols": null,
       "nrows": null,
       "postfix": null,
       "prefix": "125M-31500 Cross Correlation",
       "rate": null,
       "total": 4,
       "unit": "it",
       "unit_divisor": 1000,
       "unit_scale": false
      },
      "application/vnd.jupyter.widget-view+json": {
       "model_id": "9527334c941d4251b2d13dd6184fef22",
       "version_major": 2,
       "version_minor": 0
      },
      "text/plain": [
       "125M-31500 Cross Correlation:   0%|          | 0/4 [00:00<?, ?it/s]"
      ]
     },
     "metadata": {},
     "output_type": "display_data"
    },
    {
     "name": "stdout",
     "output_type": "stream",
     "text": [
      " "
     ]
    },
    {
     "data": {
      "application/json": {
       "ascii": false,
       "bar_format": null,
       "colour": null,
       "elapsed": 0.7802746295928955,
       "initial": 0,
       "n": 0,
       "ncols": null,
       "nrows": null,
       "postfix": null,
       "prefix": "125M-41500 Cross Correlation",
       "rate": null,
       "total": 3,
       "unit": "it",
       "unit_divisor": 1000,
       "unit_scale": false
      },
      "application/vnd.jupyter.widget-view+json": {
       "model_id": "1117f360aeba48a19f37d9889e23ee2b",
       "version_major": 2,
       "version_minor": 0
      },
      "text/plain": [
       "125M-41500 Cross Correlation:   0%|          | 0/3 [00:00<?, ?it/s]"
      ]
     },
     "metadata": {},
     "output_type": "display_data"
    },
    {
     "name": "stdout",
     "output_type": "stream",
     "text": [
      "  "
     ]
    },
    {
     "data": {
      "application/json": {
       "ascii": false,
       "bar_format": null,
       "colour": null,
       "elapsed": 0.9915385246276855,
       "initial": 0,
       "n": 0,
       "ncols": null,
       "nrows": null,
       "postfix": null,
       "prefix": "125M-51500 Cross Correlation",
       "rate": null,
       "total": 2,
       "unit": "it",
       "unit_divisor": 1000,
       "unit_scale": false
      },
      "application/vnd.jupyter.widget-view+json": {
       "model_id": "979e2213c45f4148af9067b3a052909e",
       "version_major": 2,
       "version_minor": 0
      },
      "text/plain": [
       "125M-51500 Cross Correlation:   0%|          | 0/2 [00:00<?, ?it/s]"
      ]
     },
     "metadata": {},
     "output_type": "display_data"
    },
    {
     "name": "stdout",
     "output_type": "stream",
     "text": [
      " "
     ]
    },
    {
     "data": {
      "application/json": {
       "ascii": false,
       "bar_format": null,
       "colour": null,
       "elapsed": 1.0060076713562012,
       "initial": 0,
       "n": 0,
       "ncols": null,
       "nrows": null,
       "postfix": null,
       "prefix": "125M-61500 Cross Correlation",
       "rate": null,
       "total": 1,
       "unit": "it",
       "unit_divisor": 1000,
       "unit_scale": false
      },
      "application/vnd.jupyter.widget-view+json": {
       "model_id": "8bf71e46cfe54eb5920b779ee05ce298",
       "version_major": 2,
       "version_minor": 0
      },
      "text/plain": [
       "125M-61500 Cross Correlation:   0%|          | 0/1 [00:01<?, ?it/s]"
      ]
     },
     "metadata": {},
     "output_type": "display_data"
    },
    {
     "data": {
      "application/json": {
       "ascii": false,
       "bar_format": null,
       "colour": null,
       "elapsed": 0.8152773380279541,
       "initial": 0,
       "n": 0,
       "ncols": null,
       "nrows": null,
       "postfix": null,
       "prefix": "125M_deduped-11500 Cross Correlation",
       "rate": null,
       "total": 6,
       "unit": "it",
       "unit_divisor": 1000,
       "unit_scale": false
      },
      "application/vnd.jupyter.widget-view+json": {
       "model_id": "320b66218be74eb2b911d79ab6252952",
       "version_major": 2,
       "version_minor": 0
      },
      "text/plain": [
       "125M_deduped-11500 Cross Correlation:   0%|          | 0/6 [00:00<?, ?it/s]"
      ]
     },
     "metadata": {},
     "output_type": "display_data"
    },
    {
     "data": {
      "application/json": {
       "ascii": false,
       "bar_format": null,
       "colour": null,
       "elapsed": 0.6237330436706543,
       "initial": 0,
       "n": 0,
       "ncols": null,
       "nrows": null,
       "postfix": null,
       "prefix": "125M_deduped-21500 Cross Correlation",
       "rate": null,
       "total": 5,
       "unit": "it",
       "unit_divisor": 1000,
       "unit_scale": false
      },
      "application/vnd.jupyter.widget-view+json": {
       "model_id": "26152512e581437e887793e1cc56f328",
       "version_major": 2,
       "version_minor": 0
      },
      "text/plain": [
       "125M_deduped-21500 Cross Correlation:   0%|          | 0/5 [00:00<?, ?it/s]"
      ]
     },
     "metadata": {},
     "output_type": "display_data"
    },
    {
     "data": {
      "application/json": {
       "ascii": false,
       "bar_format": null,
       "colour": null,
       "elapsed": 0.41337108612060547,
       "initial": 0,
       "n": 0,
       "ncols": null,
       "nrows": null,
       "postfix": null,
       "prefix": "125M_deduped-31500 Cross Correlation",
       "rate": null,
       "total": 4,
       "unit": "it",
       "unit_divisor": 1000,
       "unit_scale": false
      },
      "application/vnd.jupyter.widget-view+json": {
       "model_id": "2146250f9a26448983bc16c4616fda32",
       "version_major": 2,
       "version_minor": 0
      },
      "text/plain": [
       "125M_deduped-31500 Cross Correlation:   0%|          | 0/4 [00:00<?, ?it/s]"
      ]
     },
     "metadata": {},
     "output_type": "display_data"
    },
    {
     "data": {
      "application/json": {
       "ascii": false,
       "bar_format": null,
       "colour": null,
       "elapsed": 0.21724843978881836,
       "initial": 0,
       "n": 0,
       "ncols": null,
       "nrows": null,
       "postfix": null,
       "prefix": "125M_deduped-41500 Cross Correlation",
       "rate": null,
       "total": 3,
       "unit": "it",
       "unit_divisor": 1000,
       "unit_scale": false
      },
      "application/vnd.jupyter.widget-view+json": {
       "model_id": "c4c23167529e420b88cab162eb7cfd72",
       "version_major": 2,
       "version_minor": 0
      },
      "text/plain": [
       "125M_deduped-41500 Cross Correlation:   0%|          | 0/3 [00:00<?, ?it/s]"
      ]
     },
     "metadata": {},
     "output_type": "display_data"
    },
    {
     "name": "stdout",
     "output_type": "stream",
     "text": [
      " "
     ]
    },
    {
     "data": {
      "application/json": {
       "ascii": false,
       "bar_format": null,
       "colour": null,
       "elapsed": 0.07551431655883789,
       "initial": 0,
       "n": 0,
       "ncols": null,
       "nrows": null,
       "postfix": null,
       "prefix": "125M_deduped-51500 Cross Correlation",
       "rate": null,
       "total": 2,
       "unit": "it",
       "unit_divisor": 1000,
       "unit_scale": false
      },
      "application/vnd.jupyter.widget-view+json": {
       "model_id": "1d0701ef782048cc85d123702d501b22",
       "version_major": 2,
       "version_minor": 0
      },
      "text/plain": [
       "125M_deduped-51500 Cross Correlation:   0%|          | 0/2 [00:00<?, ?it/s]"
      ]
     },
     "metadata": {},
     "output_type": "display_data"
    },
    {
     "data": {
      "application/json": {
       "ascii": false,
       "bar_format": null,
       "colour": null,
       "elapsed": 0.05496811866760254,
       "initial": 0,
       "n": 0,
       "ncols": null,
       "nrows": null,
       "postfix": null,
       "prefix": "125M_deduped-61500 Cross Correlation",
       "rate": null,
       "total": 1,
       "unit": "it",
       "unit_divisor": 1000,
       "unit_scale": false
      },
      "application/vnd.jupyter.widget-view+json": {
       "model_id": "3ae529ed20914221ba09709eca0c2d10",
       "version_major": 2,
       "version_minor": 0
      },
      "text/plain": [
       "125M_deduped-61500 Cross Correlation:   0%|          | 0/1 [00:00<?, ?it/s]"
      ]
     },
     "metadata": {},
     "output_type": "display_data"
    }
   ],
   "source": [
    "manager = MPManager()\n",
    "tot_processes = 0\n",
    "for model_one, checkpoints in models.items():\n",
    "    for checkpoint_one in checkpoints:\n",
    "        if(checkpoint_one in [143000, 71500]): continue # No models to correlate with 143000 and 71500\n",
    "            # Since these are final checkpoints\n",
    "        manager.add(Process(target=plot_normalized_cross_correlation_of_model, args=(model_one, \n",
    "            str(checkpoint_one), models)))\n",
    "        tot_processes+=1\n",
    "        if(tot_processes >= mp.cpu_count()):\n",
    "            tot_processes = 0\n",
    "            manager.join()\n",
    "    \n",
    "manager.join()"
   ]
  },
  {
   "cell_type": "markdown",
   "id": "22935c8d",
   "metadata": {},
   "source": [
    "# Only Hist Plot"
   ]
  },
  {
   "cell_type": "code",
   "execution_count": null,
   "id": "c26f6e17",
   "metadata": {},
   "outputs": [],
   "source": [
    "import seaborn as sns\n",
    "import matplotlib.pyplot as plt\n",
    "import img2pdf\n",
    "from matplotlib.colors import LogNorm\n",
    "\n",
    "def hist_plot_of_checkpoint(model, checkpoint):\n",
    "    '''Plots accuracy distribution on marginal axes and Scatter plot on joint axis\n",
    "    \n",
    "    Note that the colormap of scatter plot is log normalized\n",
    "    `model`: Model name\n",
    "    `checkpoint`: Checkpoint of the corresponding model\n",
    "    '''\n",
    "    # Theming\n",
    "    plt.clf()\n",
    "    sns.set_theme(font_scale=1)\n",
    "    model_name = f'{model}-{checkpoint}'\n",
    "    \n",
    "    # Extract Data\n",
    "    evals = memorization_results[model_name].sample(frac=0.001)\n",
    "    evals['Memorization Score'] = evals['accuracy']\n",
    "    evals['Sequence Index'] = evals['index']\n",
    "    \n",
    "    # Binning\n",
    "    bins = pd.cut(evals['Memorization Score'], bins=32)\n",
    "    counts = evals.groupby(bins)['index'].count().reset_index()\n",
    "    \n",
    "    # Map binning counts to each row\n",
    "    evals['acc_bin_counts'] = bins.apply(lambda x:counts[\n",
    "        counts['Memorization Score'] == x]['index'].iloc[0]).astype('int32')\n",
    "    \n",
    "    # Calculate distribution of values\n",
    "    acc_density = evals['acc_bin_counts']/evals['acc_bin_counts'].max()\n",
    "    ax = sns.histplot(\n",
    "        evals, \n",
    "        x = 'Memorization Score', \n",
    "        hue = acc_density.to_numpy(), \n",
    "        bins = 32, \n",
    "        legend = False, \n",
    "        stat = 'proportion',\n",
    "        hue_norm = LogNorm(),\n",
    "    )\n",
    "    ax.set_yscale('log')\n",
    "\n",
    "    # Labeling figure\n",
    "    ax.set_ylabel(\"Proportion of Memorized Sequences\")\n",
    "    checkpoint = checkpoint_names[checkpoints.index(checkpoint)]\n",
    "    model_name = f'{model}-{checkpoint}'\n",
    "    fig  = ax.get_figure()\n",
    "#     fig.suptitle(f\"{model_name} Memorization Score Distribution Plot\", fontsize=15)\n",
    "    fig.tight_layout()\n",
    "    fig.subplots_adjust(top=0.90)\n",
    "    plt.savefig(f\"./plots/tmp.png\")\n",
    "    plt.show()\n",
    "    with open(f\"./plots/memorization_dist_deduped_{model}-{checkpoint}.pdf\",\"wb\") as f:\n",
    "        f.write(img2pdf.convert('./plots/tmp.png'))\n",
    "        \n",
    "for model in models:\n",
    "    for checkpoint in tqdm(checkpoints, desc = model):\n",
    "        hist_plot_of_checkpoint(model, checkpoint)"
   ]
  },
  {
   "cell_type": "markdown",
   "id": "234191b8",
   "metadata": {},
   "source": [
    "# Scatter Hist Plot"
   ]
  },
  {
   "cell_type": "code",
   "execution_count": 10,
   "id": "15fbc5e1",
   "metadata": {},
   "outputs": [],
   "source": [
    "import seaborn as sns\n",
    "from matplotlib.colors import LogNorm\n",
    "\n",
    "def scatter_plot_of_checkpoint(model, checkpoint):\n",
    "    '''Plots accuracy distribution on marginal axes and Scatter plot on joint axis\n",
    "    \n",
    "    Note that the colormap of scatter plot is log normalized\n",
    "    `model`: Model name\n",
    "    `checkpoint`: Checkpoint of the corresponding model\n",
    "    '''\n",
    "    # Theming\n",
    "    plt.clf()\n",
    "    sns.set_theme(font_scale=1)\n",
    "    model_name = f'{model}-{checkpoint}'\n",
    "    \n",
    "    # Extract Data\n",
    "    evals = memorization_results[model_name].sample(frac=0.001)\n",
    "    evals['Memorization Score'] = evals['accuracy']\n",
    "    evals['Sequence Index'] = evals['index']\n",
    "    \n",
    "    # Binning\n",
    "    bins = pd.cut(evals['Memorization Score'], bins=32)\n",
    "    counts = evals.groupby(bins)['index'].count().reset_index()\n",
    "    \n",
    "    # Map binning counts to each row\n",
    "    evals['acc_bin_counts'] = bins.apply(lambda x:counts[\n",
    "        counts['Memorization Score'] == x]['index'].iloc[0]).astype('int32')\n",
    "    \n",
    "    # Calculate distribution of values\n",
    "    acc_density = evals['acc_bin_counts']/evals['acc_bin_counts'].max()\n",
    "    \n",
    "    # Plotting\n",
    "    grid = sns.JointGrid(\n",
    "        data = evals, \n",
    "        x = 'Sequence Index', \n",
    "        y = 'Memorization Score', \n",
    "        height = 8,  \n",
    "        space = 0, \n",
    "        marginal_ticks = True,\n",
    "        hue = acc_density.to_numpy(), \n",
    "#         hue_norm = LogNorm(),\n",
    "    )\n",
    "    \n",
    "    # Scatter plot\n",
    "    grid.plot_joint(\n",
    "        sns.scatterplot,\n",
    "        legend=False\n",
    "    )\n",
    "    \n",
    "    # Histograms\n",
    "    grid.plot_marginals(sns.histplot, fill=True, alpha=1, stat='probability', bins=32)\n",
    "    \n",
    "    # Labeling figure\n",
    "    checkpoint = checkpoint_names[checkpoints.index(checkpoint)]\n",
    "    model_name = f'{model}-{checkpoint}'\n",
    "    fig  = grid.figure\n",
    "    fig.suptitle(f\"{model_name} Scatter and Hist Plot\", fontsize=15)\n",
    "    fig.tight_layout()\n",
    "    fig.subplots_adjust(top=0.95)\n",
    "    plt.savefig(f\"./plots/tmp.png\")\n",
    "    with open(f\"./plots/scatter_hist_{model}-{checkpoint}.pdf\",\"wb\") as f:\n",
    "        f.write(img2pdf.convert('./plots/tmp.png'))\n",
    "    "
   ]
  },
  {
   "cell_type": "code",
   "execution_count": null,
   "id": "1663ecad",
   "metadata": {},
   "outputs": [],
   "source": [
    "import multiprocessing as mp\n",
    "from multiprocessing import Process, Lock\n",
    "manager = MPManager()\n",
    "lock = Lock()\n",
    "for model in models:\n",
    "    for checkpoint in tqdm(checkpoints, desc = model):\n",
    "#         manager.add(Process(target=scatter_plot_of_checkpoint, args=(model, \n",
    "#             checkpoint)))\n",
    "        scatter_plot_of_checkpoint(model, checkpoint)"
   ]
  },
  {
   "cell_type": "markdown",
   "id": "ee3eef0f",
   "metadata": {},
   "source": [
    "# Model correlation plots"
   ]
  },
  {
   "cell_type": "code",
   "execution_count": 11,
   "id": "e811547c",
   "metadata": {
    "scrolled": true
   },
   "outputs": [
    {
     "data": {
      "application/vnd.jupyter.widget-view+json": {
       "model_id": "cb74bbfb88c748f2a74f9702bcccb3eb",
       "version_major": 2,
       "version_minor": 0
      },
      "text/plain": [
       "70M-deduped:   0%|          | 0/8 [00:00<?, ?it/s]"
      ]
     },
     "metadata": {},
     "output_type": "display_data"
    },
    {
     "data": {
      "application/vnd.jupyter.widget-view+json": {
       "model_id": "c8b13b57c6a5411b9b94a376ee4f5a9f",
       "version_major": 2,
       "version_minor": 0
      },
      "text/plain": [
       "160M-deduped:   0%|          | 0/8 [00:00<?, ?it/s]"
      ]
     },
     "metadata": {},
     "output_type": "display_data"
    },
    {
     "data": {
      "application/vnd.jupyter.widget-view+json": {
       "model_id": "0fae22d7b03f4780bdd317cdd908ea28",
       "version_major": 2,
       "version_minor": 0
      },
      "text/plain": [
       "410M-deduped:   0%|          | 0/8 [00:00<?, ?it/s]"
      ]
     },
     "metadata": {},
     "output_type": "display_data"
    },
    {
     "data": {
      "application/vnd.jupyter.widget-view+json": {
       "model_id": "375c9b11ec924d97b47b29c078956319",
       "version_major": 2,
       "version_minor": 0
      },
      "text/plain": [
       "1B-deduped:   0%|          | 0/8 [00:00<?, ?it/s]"
      ]
     },
     "metadata": {},
     "output_type": "display_data"
    },
    {
     "data": {
      "application/vnd.jupyter.widget-view+json": {
       "model_id": "af115d5d793c455ebfdc5a032d46d022",
       "version_major": 2,
       "version_minor": 0
      },
      "text/plain": [
       "1.4B-deduped:   0%|          | 0/8 [00:00<?, ?it/s]"
      ]
     },
     "metadata": {},
     "output_type": "display_data"
    },
    {
     "data": {
      "application/vnd.jupyter.widget-view+json": {
       "model_id": "6a29a1eb2eff4b599a2266effc340392",
       "version_major": 2,
       "version_minor": 0
      },
      "text/plain": [
       "2.8B-deduped:   0%|          | 0/8 [00:00<?, ?it/s]"
      ]
     },
     "metadata": {},
     "output_type": "display_data"
    },
    {
     "data": {
      "application/vnd.jupyter.widget-view+json": {
       "model_id": "516a6c42b9ea4d66b39cd4c5dec61577",
       "version_major": 2,
       "version_minor": 0
      },
      "text/plain": [
       "6.9B-deduped:   0%|          | 0/8 [00:00<?, ?it/s]"
      ]
     },
     "metadata": {},
     "output_type": "display_data"
    },
    {
     "data": {
      "application/vnd.jupyter.widget-view+json": {
       "model_id": "dcc03a87af5d4ce083c99974b1d916b2",
       "version_major": 2,
       "version_minor": 0
      },
      "text/plain": [
       "12B-deduped:   0%|          | 0/8 [00:00<?, ?it/s]"
      ]
     },
     "metadata": {},
     "output_type": "display_data"
    },
    {
     "name": "stderr",
     "output_type": "stream",
     "text": [
      "Image contains an alpha channel. Computing a separate soft mask (/SMask) image to store transparency in PDF.\n"
     ]
    },
    {
     "data": {
      "application/vnd.jupyter.widget-view+json": {
       "model_id": "2ebb998f68f6421e95e04ea8c3cc2075",
       "version_major": 2,
       "version_minor": 0
      },
      "text/plain": [
       "70M-deduped:   0%|          | 0/8 [00:00<?, ?it/s]"
      ]
     },
     "metadata": {},
     "output_type": "display_data"
    },
    {
     "data": {
      "application/vnd.jupyter.widget-view+json": {
       "model_id": "8c2f26fbd20f4ff6b4502fbd3b24a5a2",
       "version_major": 2,
       "version_minor": 0
      },
      "text/plain": [
       "160M-deduped:   0%|          | 0/8 [00:00<?, ?it/s]"
      ]
     },
     "metadata": {},
     "output_type": "display_data"
    },
    {
     "data": {
      "application/vnd.jupyter.widget-view+json": {
       "model_id": "d70bc8c98c3c49f8afcc3cbed4e2cfe0",
       "version_major": 2,
       "version_minor": 0
      },
      "text/plain": [
       "410M-deduped:   0%|          | 0/8 [00:00<?, ?it/s]"
      ]
     },
     "metadata": {},
     "output_type": "display_data"
    },
    {
     "data": {
      "application/vnd.jupyter.widget-view+json": {
       "model_id": "2323ae86e0f54f24a2f5d213ac0d3132",
       "version_major": 2,
       "version_minor": 0
      },
      "text/plain": [
       "1B-deduped:   0%|          | 0/8 [00:00<?, ?it/s]"
      ]
     },
     "metadata": {},
     "output_type": "display_data"
    },
    {
     "data": {
      "application/vnd.jupyter.widget-view+json": {
       "model_id": "252d50f1977741599f7dba8948ca510c",
       "version_major": 2,
       "version_minor": 0
      },
      "text/plain": [
       "1.4B-deduped:   0%|          | 0/8 [00:00<?, ?it/s]"
      ]
     },
     "metadata": {},
     "output_type": "display_data"
    },
    {
     "data": {
      "application/vnd.jupyter.widget-view+json": {
       "model_id": "dc790560a0ec4d27951af37a8eca9197",
       "version_major": 2,
       "version_minor": 0
      },
      "text/plain": [
       "2.8B-deduped:   0%|          | 0/8 [00:00<?, ?it/s]"
      ]
     },
     "metadata": {},
     "output_type": "display_data"
    },
    {
     "data": {
      "application/vnd.jupyter.widget-view+json": {
       "model_id": "dd34e8b4373b47129f83c42ee2a7309f",
       "version_major": 2,
       "version_minor": 0
      },
      "text/plain": [
       "6.9B-deduped:   0%|          | 0/8 [00:00<?, ?it/s]"
      ]
     },
     "metadata": {},
     "output_type": "display_data"
    },
    {
     "data": {
      "application/vnd.jupyter.widget-view+json": {
       "model_id": "af093b10b67640478c4980f7309399c3",
       "version_major": 2,
       "version_minor": 0
      },
      "text/plain": [
       "12B-deduped:   0%|          | 0/8 [00:00<?, ?it/s]"
      ]
     },
     "metadata": {},
     "output_type": "display_data"
    },
    {
     "name": "stderr",
     "output_type": "stream",
     "text": [
      "Image contains an alpha channel. Computing a separate soft mask (/SMask) image to store transparency in PDF.\n"
     ]
    },
    {
     "data": {
      "application/vnd.jupyter.widget-view+json": {
       "model_id": "8dce570f0a834526a1d6883df2906cd0",
       "version_major": 2,
       "version_minor": 0
      },
      "text/plain": [
       "70M-deduped:   0%|          | 0/8 [00:00<?, ?it/s]"
      ]
     },
     "metadata": {},
     "output_type": "display_data"
    },
    {
     "data": {
      "application/vnd.jupyter.widget-view+json": {
       "model_id": "79091ffacc344a81a15727661e4c5351",
       "version_major": 2,
       "version_minor": 0
      },
      "text/plain": [
       "160M-deduped:   0%|          | 0/8 [00:00<?, ?it/s]"
      ]
     },
     "metadata": {},
     "output_type": "display_data"
    },
    {
     "data": {
      "application/vnd.jupyter.widget-view+json": {
       "model_id": "ad232d91c7754af6a8fdba332470cd79",
       "version_major": 2,
       "version_minor": 0
      },
      "text/plain": [
       "410M-deduped:   0%|          | 0/8 [00:00<?, ?it/s]"
      ]
     },
     "metadata": {},
     "output_type": "display_data"
    },
    {
     "data": {
      "application/vnd.jupyter.widget-view+json": {
       "model_id": "0e3d567d8d7f4cb1a7d2433b82f0966d",
       "version_major": 2,
       "version_minor": 0
      },
      "text/plain": [
       "1B-deduped:   0%|          | 0/8 [00:00<?, ?it/s]"
      ]
     },
     "metadata": {},
     "output_type": "display_data"
    },
    {
     "data": {
      "application/vnd.jupyter.widget-view+json": {
       "model_id": "7da61ccb18c54441b03557fea57a41c6",
       "version_major": 2,
       "version_minor": 0
      },
      "text/plain": [
       "1.4B-deduped:   0%|          | 0/8 [00:00<?, ?it/s]"
      ]
     },
     "metadata": {},
     "output_type": "display_data"
    },
    {
     "data": {
      "application/vnd.jupyter.widget-view+json": {
       "model_id": "ae3be0aed3f748e1b06808326ec86856",
       "version_major": 2,
       "version_minor": 0
      },
      "text/plain": [
       "2.8B-deduped:   0%|          | 0/8 [00:00<?, ?it/s]"
      ]
     },
     "metadata": {},
     "output_type": "display_data"
    },
    {
     "data": {
      "application/vnd.jupyter.widget-view+json": {
       "model_id": "baf42a28e28b4523b5b886e620ab9554",
       "version_major": 2,
       "version_minor": 0
      },
      "text/plain": [
       "6.9B-deduped:   0%|          | 0/8 [00:00<?, ?it/s]"
      ]
     },
     "metadata": {},
     "output_type": "display_data"
    },
    {
     "data": {
      "application/vnd.jupyter.widget-view+json": {
       "model_id": "b95a9946b99845279cfe71eab0a1ce31",
       "version_major": 2,
       "version_minor": 0
      },
      "text/plain": [
       "12B-deduped:   0%|          | 0/8 [00:00<?, ?it/s]"
      ]
     },
     "metadata": {},
     "output_type": "display_data"
    },
    {
     "name": "stderr",
     "output_type": "stream",
     "text": [
      "Image contains an alpha channel. Computing a separate soft mask (/SMask) image to store transparency in PDF.\n"
     ]
    },
    {
     "data": {
      "application/vnd.jupyter.widget-view+json": {
       "model_id": "ae75ab91c9454bcfb08982b7c47caaba",
       "version_major": 2,
       "version_minor": 0
      },
      "text/plain": [
       "70M-deduped:   0%|          | 0/8 [00:00<?, ?it/s]"
      ]
     },
     "metadata": {},
     "output_type": "display_data"
    },
    {
     "data": {
      "application/vnd.jupyter.widget-view+json": {
       "model_id": "4f342540f1814279a4dba4b2830c520d",
       "version_major": 2,
       "version_minor": 0
      },
      "text/plain": [
       "160M-deduped:   0%|          | 0/8 [00:00<?, ?it/s]"
      ]
     },
     "metadata": {},
     "output_type": "display_data"
    },
    {
     "data": {
      "application/vnd.jupyter.widget-view+json": {
       "model_id": "76343dfee7ea4819b1c37d64c1a5acdf",
       "version_major": 2,
       "version_minor": 0
      },
      "text/plain": [
       "410M-deduped:   0%|          | 0/8 [00:00<?, ?it/s]"
      ]
     },
     "metadata": {},
     "output_type": "display_data"
    },
    {
     "data": {
      "application/vnd.jupyter.widget-view+json": {
       "model_id": "c802b9afb15146c89a592370a358982a",
       "version_major": 2,
       "version_minor": 0
      },
      "text/plain": [
       "1B-deduped:   0%|          | 0/8 [00:00<?, ?it/s]"
      ]
     },
     "metadata": {},
     "output_type": "display_data"
    },
    {
     "data": {
      "application/vnd.jupyter.widget-view+json": {
       "model_id": "aac07342163542a3a5ea19d88320355f",
       "version_major": 2,
       "version_minor": 0
      },
      "text/plain": [
       "1.4B-deduped:   0%|          | 0/8 [00:00<?, ?it/s]"
      ]
     },
     "metadata": {},
     "output_type": "display_data"
    },
    {
     "data": {
      "application/vnd.jupyter.widget-view+json": {
       "model_id": "f4d904f235f84e4e93e1310f6c19fc25",
       "version_major": 2,
       "version_minor": 0
      },
      "text/plain": [
       "2.8B-deduped:   0%|          | 0/8 [00:00<?, ?it/s]"
      ]
     },
     "metadata": {},
     "output_type": "display_data"
    },
    {
     "data": {
      "application/vnd.jupyter.widget-view+json": {
       "model_id": "11defe56ff2b4d8b8685ec4f1cf6329e",
       "version_major": 2,
       "version_minor": 0
      },
      "text/plain": [
       "6.9B-deduped:   0%|          | 0/8 [00:00<?, ?it/s]"
      ]
     },
     "metadata": {},
     "output_type": "display_data"
    },
    {
     "data": {
      "application/vnd.jupyter.widget-view+json": {
       "model_id": "5dbc2a8e466845178d593b9ca3f2e73e",
       "version_major": 2,
       "version_minor": 0
      },
      "text/plain": [
       "12B-deduped:   0%|          | 0/8 [00:00<?, ?it/s]"
      ]
     },
     "metadata": {},
     "output_type": "display_data"
    },
    {
     "name": "stderr",
     "output_type": "stream",
     "text": [
      "Image contains an alpha channel. Computing a separate soft mask (/SMask) image to store transparency in PDF.\n"
     ]
    },
    {
     "data": {
      "application/vnd.jupyter.widget-view+json": {
       "model_id": "c32d920ea2444ea5a99168516a2a485d",
       "version_major": 2,
       "version_minor": 0
      },
      "text/plain": [
       "70M-deduped:   0%|          | 0/8 [00:00<?, ?it/s]"
      ]
     },
     "metadata": {},
     "output_type": "display_data"
    },
    {
     "data": {
      "application/vnd.jupyter.widget-view+json": {
       "model_id": "6cfa712446954e6f816a4ee638b1292c",
       "version_major": 2,
       "version_minor": 0
      },
      "text/plain": [
       "160M-deduped:   0%|          | 0/8 [00:00<?, ?it/s]"
      ]
     },
     "metadata": {},
     "output_type": "display_data"
    },
    {
     "data": {
      "application/vnd.jupyter.widget-view+json": {
       "model_id": "69da4f4689b04ab1b57bc6c271ce8c41",
       "version_major": 2,
       "version_minor": 0
      },
      "text/plain": [
       "410M-deduped:   0%|          | 0/8 [00:00<?, ?it/s]"
      ]
     },
     "metadata": {},
     "output_type": "display_data"
    },
    {
     "data": {
      "application/vnd.jupyter.widget-view+json": {
       "model_id": "7f449f1cc8a94da08e65b06b5d3dfe4d",
       "version_major": 2,
       "version_minor": 0
      },
      "text/plain": [
       "1B-deduped:   0%|          | 0/8 [00:00<?, ?it/s]"
      ]
     },
     "metadata": {},
     "output_type": "display_data"
    },
    {
     "data": {
      "application/vnd.jupyter.widget-view+json": {
       "model_id": "7cf27e9a5c1343ab96fac101a75e550b",
       "version_major": 2,
       "version_minor": 0
      },
      "text/plain": [
       "1.4B-deduped:   0%|          | 0/8 [00:00<?, ?it/s]"
      ]
     },
     "metadata": {},
     "output_type": "display_data"
    },
    {
     "data": {
      "application/vnd.jupyter.widget-view+json": {
       "model_id": "3d408c06805a4fde92f27f8ecba51fe3",
       "version_major": 2,
       "version_minor": 0
      },
      "text/plain": [
       "2.8B-deduped:   0%|          | 0/8 [00:00<?, ?it/s]"
      ]
     },
     "metadata": {},
     "output_type": "display_data"
    },
    {
     "data": {
      "application/vnd.jupyter.widget-view+json": {
       "model_id": "46b1405826914022bda53dc4be2aa2ab",
       "version_major": 2,
       "version_minor": 0
      },
      "text/plain": [
       "6.9B-deduped:   0%|          | 0/8 [00:00<?, ?it/s]"
      ]
     },
     "metadata": {},
     "output_type": "display_data"
    },
    {
     "data": {
      "application/vnd.jupyter.widget-view+json": {
       "model_id": "e96715ef353a47de8e938bec6bd585bc",
       "version_major": 2,
       "version_minor": 0
      },
      "text/plain": [
       "12B-deduped:   0%|          | 0/8 [00:00<?, ?it/s]"
      ]
     },
     "metadata": {},
     "output_type": "display_data"
    },
    {
     "name": "stderr",
     "output_type": "stream",
     "text": [
      "Image contains an alpha channel. Computing a separate soft mask (/SMask) image to store transparency in PDF.\n"
     ]
    },
    {
     "data": {
      "application/vnd.jupyter.widget-view+json": {
       "model_id": "62200dab7c7048ad810e7cdb9c6eb7b4",
       "version_major": 2,
       "version_minor": 0
      },
      "text/plain": [
       "70M-deduped:   0%|          | 0/8 [00:00<?, ?it/s]"
      ]
     },
     "metadata": {},
     "output_type": "display_data"
    },
    {
     "data": {
      "application/vnd.jupyter.widget-view+json": {
       "model_id": "d66121c75540401f96f2975dcfa6c576",
       "version_major": 2,
       "version_minor": 0
      },
      "text/plain": [
       "160M-deduped:   0%|          | 0/8 [00:00<?, ?it/s]"
      ]
     },
     "metadata": {},
     "output_type": "display_data"
    },
    {
     "data": {
      "application/vnd.jupyter.widget-view+json": {
       "model_id": "2e9eb11768b44db8b8139b2c83501fef",
       "version_major": 2,
       "version_minor": 0
      },
      "text/plain": [
       "410M-deduped:   0%|          | 0/8 [00:00<?, ?it/s]"
      ]
     },
     "metadata": {},
     "output_type": "display_data"
    },
    {
     "data": {
      "application/vnd.jupyter.widget-view+json": {
       "model_id": "802d3196d6f44af5b4e650245bc9f2ce",
       "version_major": 2,
       "version_minor": 0
      },
      "text/plain": [
       "1B-deduped:   0%|          | 0/8 [00:00<?, ?it/s]"
      ]
     },
     "metadata": {},
     "output_type": "display_data"
    },
    {
     "data": {
      "application/vnd.jupyter.widget-view+json": {
       "model_id": "3a2a3b29c7034256a3af884d7a28ebaa",
       "version_major": 2,
       "version_minor": 0
      },
      "text/plain": [
       "1.4B-deduped:   0%|          | 0/8 [00:00<?, ?it/s]"
      ]
     },
     "metadata": {},
     "output_type": "display_data"
    },
    {
     "data": {
      "application/vnd.jupyter.widget-view+json": {
       "model_id": "cc15d2931a50495eb86b0b3b656eafb6",
       "version_major": 2,
       "version_minor": 0
      },
      "text/plain": [
       "2.8B-deduped:   0%|          | 0/8 [00:00<?, ?it/s]"
      ]
     },
     "metadata": {},
     "output_type": "display_data"
    },
    {
     "data": {
      "application/vnd.jupyter.widget-view+json": {
       "model_id": "95857ad7938e4ecca9f8762ccd9e1b21",
       "version_major": 2,
       "version_minor": 0
      },
      "text/plain": [
       "6.9B-deduped:   0%|          | 0/8 [00:00<?, ?it/s]"
      ]
     },
     "metadata": {},
     "output_type": "display_data"
    },
    {
     "data": {
      "application/vnd.jupyter.widget-view+json": {
       "model_id": "021aae2f861e4b9e9a0099caacb685fb",
       "version_major": 2,
       "version_minor": 0
      },
      "text/plain": [
       "12B-deduped:   0%|          | 0/8 [00:00<?, ?it/s]"
      ]
     },
     "metadata": {},
     "output_type": "display_data"
    },
    {
     "name": "stderr",
     "output_type": "stream",
     "text": [
      "Image contains an alpha channel. Computing a separate soft mask (/SMask) image to store transparency in PDF.\n"
     ]
    },
    {
     "data": {
      "application/vnd.jupyter.widget-view+json": {
       "model_id": "734c1710f9be40598a4e9d1fa53f8e63",
       "version_major": 2,
       "version_minor": 0
      },
      "text/plain": [
       "70M-deduped:   0%|          | 0/8 [00:00<?, ?it/s]"
      ]
     },
     "metadata": {},
     "output_type": "display_data"
    },
    {
     "data": {
      "application/vnd.jupyter.widget-view+json": {
       "model_id": "d637e774bf6e4c6da3fe9974087c622b",
       "version_major": 2,
       "version_minor": 0
      },
      "text/plain": [
       "160M-deduped:   0%|          | 0/8 [00:00<?, ?it/s]"
      ]
     },
     "metadata": {},
     "output_type": "display_data"
    },
    {
     "data": {
      "application/vnd.jupyter.widget-view+json": {
       "model_id": "e344fbd1adbd45959dcb51462fd12919",
       "version_major": 2,
       "version_minor": 0
      },
      "text/plain": [
       "410M-deduped:   0%|          | 0/8 [00:00<?, ?it/s]"
      ]
     },
     "metadata": {},
     "output_type": "display_data"
    },
    {
     "data": {
      "application/vnd.jupyter.widget-view+json": {
       "model_id": "12f4c7232e2c4dd580c6fcd4dc9e2b47",
       "version_major": 2,
       "version_minor": 0
      },
      "text/plain": [
       "1B-deduped:   0%|          | 0/8 [00:00<?, ?it/s]"
      ]
     },
     "metadata": {},
     "output_type": "display_data"
    },
    {
     "data": {
      "application/vnd.jupyter.widget-view+json": {
       "model_id": "2a0d0d5c8e1a4f61b91ff85f00988731",
       "version_major": 2,
       "version_minor": 0
      },
      "text/plain": [
       "1.4B-deduped:   0%|          | 0/8 [00:00<?, ?it/s]"
      ]
     },
     "metadata": {},
     "output_type": "display_data"
    },
    {
     "data": {
      "application/vnd.jupyter.widget-view+json": {
       "model_id": "83fe48c8e0d8470880aebf1d2e3bf16c",
       "version_major": 2,
       "version_minor": 0
      },
      "text/plain": [
       "2.8B-deduped:   0%|          | 0/8 [00:00<?, ?it/s]"
      ]
     },
     "metadata": {},
     "output_type": "display_data"
    },
    {
     "data": {
      "application/vnd.jupyter.widget-view+json": {
       "model_id": "b1ad98ede5554b10b5749c38c4d0534a",
       "version_major": 2,
       "version_minor": 0
      },
      "text/plain": [
       "6.9B-deduped:   0%|          | 0/8 [00:00<?, ?it/s]"
      ]
     },
     "metadata": {},
     "output_type": "display_data"
    },
    {
     "data": {
      "application/vnd.jupyter.widget-view+json": {
       "model_id": "ee8c259b6ece40b5aaace841ced47257",
       "version_major": 2,
       "version_minor": 0
      },
      "text/plain": [
       "12B-deduped:   0%|          | 0/8 [00:00<?, ?it/s]"
      ]
     },
     "metadata": {},
     "output_type": "display_data"
    },
    {
     "name": "stderr",
     "output_type": "stream",
     "text": [
      "Image contains an alpha channel. Computing a separate soft mask (/SMask) image to store transparency in PDF.\n"
     ]
    },
    {
     "data": {
      "application/vnd.jupyter.widget-view+json": {
       "model_id": "daa24d0db5f449dbb0186fc157146336",
       "version_major": 2,
       "version_minor": 0
      },
      "text/plain": [
       "70M-deduped:   0%|          | 0/8 [00:00<?, ?it/s]"
      ]
     },
     "metadata": {},
     "output_type": "display_data"
    },
    {
     "data": {
      "application/vnd.jupyter.widget-view+json": {
       "model_id": "ad768a6732c3458e9807c1ecb4efd6c7",
       "version_major": 2,
       "version_minor": 0
      },
      "text/plain": [
       "160M-deduped:   0%|          | 0/8 [00:00<?, ?it/s]"
      ]
     },
     "metadata": {},
     "output_type": "display_data"
    },
    {
     "data": {
      "application/vnd.jupyter.widget-view+json": {
       "model_id": "395b9b9b68aa467ab23e77f4f2e97129",
       "version_major": 2,
       "version_minor": 0
      },
      "text/plain": [
       "410M-deduped:   0%|          | 0/8 [00:00<?, ?it/s]"
      ]
     },
     "metadata": {},
     "output_type": "display_data"
    },
    {
     "data": {
      "application/vnd.jupyter.widget-view+json": {
       "model_id": "301b4cc31ae74b8facc392d163c50907",
       "version_major": 2,
       "version_minor": 0
      },
      "text/plain": [
       "1B-deduped:   0%|          | 0/8 [00:00<?, ?it/s]"
      ]
     },
     "metadata": {},
     "output_type": "display_data"
    },
    {
     "data": {
      "application/vnd.jupyter.widget-view+json": {
       "model_id": "8ffee04f8b9b4816a6957dbe56bde846",
       "version_major": 2,
       "version_minor": 0
      },
      "text/plain": [
       "1.4B-deduped:   0%|          | 0/8 [00:00<?, ?it/s]"
      ]
     },
     "metadata": {},
     "output_type": "display_data"
    },
    {
     "data": {
      "application/vnd.jupyter.widget-view+json": {
       "model_id": "af103befa9ea46018a17556c90543645",
       "version_major": 2,
       "version_minor": 0
      },
      "text/plain": [
       "2.8B-deduped:   0%|          | 0/8 [00:00<?, ?it/s]"
      ]
     },
     "metadata": {},
     "output_type": "display_data"
    },
    {
     "data": {
      "application/vnd.jupyter.widget-view+json": {
       "model_id": "d671d3178b9b4dcf86c171d94f2920e7",
       "version_major": 2,
       "version_minor": 0
      },
      "text/plain": [
       "6.9B-deduped:   0%|          | 0/8 [00:00<?, ?it/s]"
      ]
     },
     "metadata": {},
     "output_type": "display_data"
    },
    {
     "data": {
      "application/vnd.jupyter.widget-view+json": {
       "model_id": "3895194e8d1e44d7a10935cacdae6452",
       "version_major": 2,
       "version_minor": 0
      },
      "text/plain": [
       "12B-deduped:   0%|          | 0/8 [00:00<?, ?it/s]"
      ]
     },
     "metadata": {},
     "output_type": "display_data"
    },
    {
     "name": "stderr",
     "output_type": "stream",
     "text": [
      "Image contains an alpha channel. Computing a separate soft mask (/SMask) image to store transparency in PDF.\n"
     ]
    },
    {
     "data": {
      "application/vnd.jupyter.widget-view+json": {
       "model_id": "3c065704a4674235b96d70308e9cbf79",
       "version_major": 2,
       "version_minor": 0
      },
      "text/plain": [
       "70M-deduped:   0%|          | 0/8 [00:00<?, ?it/s]"
      ]
     },
     "metadata": {},
     "output_type": "display_data"
    },
    {
     "data": {
      "application/vnd.jupyter.widget-view+json": {
       "model_id": "a054991d37144bffa51a3526c2b23dfb",
       "version_major": 2,
       "version_minor": 0
      },
      "text/plain": [
       "160M-deduped:   0%|          | 0/8 [00:00<?, ?it/s]"
      ]
     },
     "metadata": {},
     "output_type": "display_data"
    },
    {
     "data": {
      "application/vnd.jupyter.widget-view+json": {
       "model_id": "5464cf75ee0d4c97ba87ccac6dfa24e6",
       "version_major": 2,
       "version_minor": 0
      },
      "text/plain": [
       "410M-deduped:   0%|          | 0/8 [00:00<?, ?it/s]"
      ]
     },
     "metadata": {},
     "output_type": "display_data"
    },
    {
     "data": {
      "application/vnd.jupyter.widget-view+json": {
       "model_id": "1555f086d80b4948bb98c65847d57c03",
       "version_major": 2,
       "version_minor": 0
      },
      "text/plain": [
       "1B-deduped:   0%|          | 0/8 [00:00<?, ?it/s]"
      ]
     },
     "metadata": {},
     "output_type": "display_data"
    },
    {
     "data": {
      "application/vnd.jupyter.widget-view+json": {
       "model_id": "7e2655f359c6441a82a5c1d41d018e3e",
       "version_major": 2,
       "version_minor": 0
      },
      "text/plain": [
       "1.4B-deduped:   0%|          | 0/8 [00:00<?, ?it/s]"
      ]
     },
     "metadata": {},
     "output_type": "display_data"
    },
    {
     "data": {
      "application/vnd.jupyter.widget-view+json": {
       "model_id": "e2ef6e1d6a024cf59bab0e704020a802",
       "version_major": 2,
       "version_minor": 0
      },
      "text/plain": [
       "2.8B-deduped:   0%|          | 0/8 [00:00<?, ?it/s]"
      ]
     },
     "metadata": {},
     "output_type": "display_data"
    },
    {
     "data": {
      "application/vnd.jupyter.widget-view+json": {
       "model_id": "0206d6922ee54958a0637e8c3240b780",
       "version_major": 2,
       "version_minor": 0
      },
      "text/plain": [
       "6.9B-deduped:   0%|          | 0/8 [00:00<?, ?it/s]"
      ]
     },
     "metadata": {},
     "output_type": "display_data"
    },
    {
     "data": {
      "application/vnd.jupyter.widget-view+json": {
       "model_id": "39e87d4370fa464db9bed811a9e389c7",
       "version_major": 2,
       "version_minor": 0
      },
      "text/plain": [
       "12B-deduped:   0%|          | 0/8 [00:00<?, ?it/s]"
      ]
     },
     "metadata": {},
     "output_type": "display_data"
    },
    {
     "name": "stderr",
     "output_type": "stream",
     "text": [
      "Image contains an alpha channel. Computing a separate soft mask (/SMask) image to store transparency in PDF.\n"
     ]
    },
    {
     "data": {
      "application/vnd.jupyter.widget-view+json": {
       "model_id": "cc0c2a35326b4c048e325d3dfcb3e391",
       "version_major": 2,
       "version_minor": 0
      },
      "text/plain": [
       "70M-deduped:   0%|          | 0/8 [00:00<?, ?it/s]"
      ]
     },
     "metadata": {},
     "output_type": "display_data"
    },
    {
     "data": {
      "application/vnd.jupyter.widget-view+json": {
       "model_id": "f614212e90224993abaf2326416e7d2c",
       "version_major": 2,
       "version_minor": 0
      },
      "text/plain": [
       "160M-deduped:   0%|          | 0/8 [00:00<?, ?it/s]"
      ]
     },
     "metadata": {},
     "output_type": "display_data"
    },
    {
     "data": {
      "application/vnd.jupyter.widget-view+json": {
       "model_id": "6357f217363044659bf44eff9f644061",
       "version_major": 2,
       "version_minor": 0
      },
      "text/plain": [
       "410M-deduped:   0%|          | 0/8 [00:00<?, ?it/s]"
      ]
     },
     "metadata": {},
     "output_type": "display_data"
    },
    {
     "data": {
      "application/vnd.jupyter.widget-view+json": {
       "model_id": "5a8c9b544ea54003b64cc2589250b6eb",
       "version_major": 2,
       "version_minor": 0
      },
      "text/plain": [
       "1B-deduped:   0%|          | 0/8 [00:00<?, ?it/s]"
      ]
     },
     "metadata": {},
     "output_type": "display_data"
    },
    {
     "data": {
      "application/vnd.jupyter.widget-view+json": {
       "model_id": "7061175ac300432599195cb5dd316e5b",
       "version_major": 2,
       "version_minor": 0
      },
      "text/plain": [
       "1.4B-deduped:   0%|          | 0/8 [00:00<?, ?it/s]"
      ]
     },
     "metadata": {},
     "output_type": "display_data"
    },
    {
     "data": {
      "application/vnd.jupyter.widget-view+json": {
       "model_id": "d8affbedfe8e4a9781eb2a35c1c42b68",
       "version_major": 2,
       "version_minor": 0
      },
      "text/plain": [
       "2.8B-deduped:   0%|          | 0/8 [00:00<?, ?it/s]"
      ]
     },
     "metadata": {},
     "output_type": "display_data"
    },
    {
     "data": {
      "application/vnd.jupyter.widget-view+json": {
       "model_id": "0496a1c3172f4d7a9674c45c9889bbb2",
       "version_major": 2,
       "version_minor": 0
      },
      "text/plain": [
       "6.9B-deduped:   0%|          | 0/8 [00:00<?, ?it/s]"
      ]
     },
     "metadata": {},
     "output_type": "display_data"
    },
    {
     "data": {
      "application/vnd.jupyter.widget-view+json": {
       "model_id": "b2842982972f43e7a7de351f8d357532",
       "version_major": 2,
       "version_minor": 0
      },
      "text/plain": [
       "12B-deduped:   0%|          | 0/8 [00:00<?, ?it/s]"
      ]
     },
     "metadata": {},
     "output_type": "display_data"
    },
    {
     "name": "stderr",
     "output_type": "stream",
     "text": [
      "Image contains an alpha channel. Computing a separate soft mask (/SMask) image to store transparency in PDF.\n"
     ]
    },
    {
     "data": {
      "application/vnd.jupyter.widget-view+json": {
       "model_id": "08388284a7134f6d91924561e428f16a",
       "version_major": 2,
       "version_minor": 0
      },
      "text/plain": [
       "70M-deduped:   0%|          | 0/8 [00:00<?, ?it/s]"
      ]
     },
     "metadata": {},
     "output_type": "display_data"
    },
    {
     "data": {
      "application/vnd.jupyter.widget-view+json": {
       "model_id": "d417c8558d8c4c77afe484710109d8f0",
       "version_major": 2,
       "version_minor": 0
      },
      "text/plain": [
       "160M-deduped:   0%|          | 0/8 [00:00<?, ?it/s]"
      ]
     },
     "metadata": {},
     "output_type": "display_data"
    },
    {
     "data": {
      "application/vnd.jupyter.widget-view+json": {
       "model_id": "4734b444552b46f4adb820935cb2c90a",
       "version_major": 2,
       "version_minor": 0
      },
      "text/plain": [
       "410M-deduped:   0%|          | 0/8 [00:00<?, ?it/s]"
      ]
     },
     "metadata": {},
     "output_type": "display_data"
    },
    {
     "data": {
      "application/vnd.jupyter.widget-view+json": {
       "model_id": "f82ff458b4b94a7faec9cf0a1cb9ed3f",
       "version_major": 2,
       "version_minor": 0
      },
      "text/plain": [
       "1B-deduped:   0%|          | 0/8 [00:00<?, ?it/s]"
      ]
     },
     "metadata": {},
     "output_type": "display_data"
    },
    {
     "data": {
      "application/vnd.jupyter.widget-view+json": {
       "model_id": "1dc72d8f1e7b4db3ac78d82b94b7ef05",
       "version_major": 2,
       "version_minor": 0
      },
      "text/plain": [
       "1.4B-deduped:   0%|          | 0/8 [00:00<?, ?it/s]"
      ]
     },
     "metadata": {},
     "output_type": "display_data"
    },
    {
     "data": {
      "application/vnd.jupyter.widget-view+json": {
       "model_id": "8470370eea4f476cb19280891199ce19",
       "version_major": 2,
       "version_minor": 0
      },
      "text/plain": [
       "2.8B-deduped:   0%|          | 0/8 [00:00<?, ?it/s]"
      ]
     },
     "metadata": {},
     "output_type": "display_data"
    },
    {
     "data": {
      "application/vnd.jupyter.widget-view+json": {
       "model_id": "269e59a0cfe746bca9b052d9c4970848",
       "version_major": 2,
       "version_minor": 0
      },
      "text/plain": [
       "6.9B-deduped:   0%|          | 0/8 [00:00<?, ?it/s]"
      ]
     },
     "metadata": {},
     "output_type": "display_data"
    },
    {
     "data": {
      "application/vnd.jupyter.widget-view+json": {
       "model_id": "3fe8f77b54944eb49158004f3cb96f48",
       "version_major": 2,
       "version_minor": 0
      },
      "text/plain": [
       "12B-deduped:   0%|          | 0/8 [00:00<?, ?it/s]"
      ]
     },
     "metadata": {},
     "output_type": "display_data"
    },
    {
     "name": "stderr",
     "output_type": "stream",
     "text": [
      "Image contains an alpha channel. Computing a separate soft mask (/SMask) image to store transparency in PDF.\n"
     ]
    },
    {
     "data": {
      "application/vnd.jupyter.widget-view+json": {
       "model_id": "9a36872f100c4e179fefcaaf0384fad3",
       "version_major": 2,
       "version_minor": 0
      },
      "text/plain": [
       "70M-deduped:   0%|          | 0/8 [00:00<?, ?it/s]"
      ]
     },
     "metadata": {},
     "output_type": "display_data"
    },
    {
     "data": {
      "application/vnd.jupyter.widget-view+json": {
       "model_id": "9fa05ac6c1254c21bea3e9e68880a4d3",
       "version_major": 2,
       "version_minor": 0
      },
      "text/plain": [
       "160M-deduped:   0%|          | 0/8 [00:00<?, ?it/s]"
      ]
     },
     "metadata": {},
     "output_type": "display_data"
    },
    {
     "data": {
      "application/vnd.jupyter.widget-view+json": {
       "model_id": "39bcf10580864f94b2109c5d0029a025",
       "version_major": 2,
       "version_minor": 0
      },
      "text/plain": [
       "410M-deduped:   0%|          | 0/8 [00:00<?, ?it/s]"
      ]
     },
     "metadata": {},
     "output_type": "display_data"
    },
    {
     "data": {
      "application/vnd.jupyter.widget-view+json": {
       "model_id": "7faf22cd8dc44645a929d7f3391d8f16",
       "version_major": 2,
       "version_minor": 0
      },
      "text/plain": [
       "1B-deduped:   0%|          | 0/8 [00:00<?, ?it/s]"
      ]
     },
     "metadata": {},
     "output_type": "display_data"
    },
    {
     "data": {
      "application/vnd.jupyter.widget-view+json": {
       "model_id": "b0b85aa0838746ae859d51bc9b7c1898",
       "version_major": 2,
       "version_minor": 0
      },
      "text/plain": [
       "1.4B-deduped:   0%|          | 0/8 [00:00<?, ?it/s]"
      ]
     },
     "metadata": {},
     "output_type": "display_data"
    },
    {
     "data": {
      "application/vnd.jupyter.widget-view+json": {
       "model_id": "0ea0d646839345148660493edc2a7029",
       "version_major": 2,
       "version_minor": 0
      },
      "text/plain": [
       "2.8B-deduped:   0%|          | 0/8 [00:00<?, ?it/s]"
      ]
     },
     "metadata": {},
     "output_type": "display_data"
    },
    {
     "data": {
      "application/vnd.jupyter.widget-view+json": {
       "model_id": "eeb4ce9771bf4c8ca8a155a52e75177f",
       "version_major": 2,
       "version_minor": 0
      },
      "text/plain": [
       "6.9B-deduped:   0%|          | 0/8 [00:00<?, ?it/s]"
      ]
     },
     "metadata": {},
     "output_type": "display_data"
    },
    {
     "data": {
      "application/vnd.jupyter.widget-view+json": {
       "model_id": "bfc8f4465e0c4c4593bcf1acad4d402e",
       "version_major": 2,
       "version_minor": 0
      },
      "text/plain": [
       "12B-deduped:   0%|          | 0/8 [00:00<?, ?it/s]"
      ]
     },
     "metadata": {},
     "output_type": "display_data"
    },
    {
     "name": "stderr",
     "output_type": "stream",
     "text": [
      "Image contains an alpha channel. Computing a separate soft mask (/SMask) image to store transparency in PDF.\n"
     ]
    },
    {
     "data": {
      "application/vnd.jupyter.widget-view+json": {
       "model_id": "af0ce704cc5049a9adb774683f7df327",
       "version_major": 2,
       "version_minor": 0
      },
      "text/plain": [
       "70M-deduped:   0%|          | 0/8 [00:00<?, ?it/s]"
      ]
     },
     "metadata": {},
     "output_type": "display_data"
    },
    {
     "data": {
      "application/vnd.jupyter.widget-view+json": {
       "model_id": "7faf06647fa44bb18992b74ec47d786c",
       "version_major": 2,
       "version_minor": 0
      },
      "text/plain": [
       "160M-deduped:   0%|          | 0/8 [00:00<?, ?it/s]"
      ]
     },
     "metadata": {},
     "output_type": "display_data"
    },
    {
     "data": {
      "application/vnd.jupyter.widget-view+json": {
       "model_id": "a3bc6b70f19a47e2a6d1fa6aca9663b3",
       "version_major": 2,
       "version_minor": 0
      },
      "text/plain": [
       "410M-deduped:   0%|          | 0/8 [00:00<?, ?it/s]"
      ]
     },
     "metadata": {},
     "output_type": "display_data"
    },
    {
     "data": {
      "application/vnd.jupyter.widget-view+json": {
       "model_id": "6d50216ebae84d299212c4e9658a766d",
       "version_major": 2,
       "version_minor": 0
      },
      "text/plain": [
       "1B-deduped:   0%|          | 0/8 [00:00<?, ?it/s]"
      ]
     },
     "metadata": {},
     "output_type": "display_data"
    },
    {
     "data": {
      "application/vnd.jupyter.widget-view+json": {
       "model_id": "0171a96d55be4641905da714e855d1f5",
       "version_major": 2,
       "version_minor": 0
      },
      "text/plain": [
       "1.4B-deduped:   0%|          | 0/8 [00:00<?, ?it/s]"
      ]
     },
     "metadata": {},
     "output_type": "display_data"
    },
    {
     "data": {
      "application/vnd.jupyter.widget-view+json": {
       "model_id": "5fe1d885fcb849de90d174ea6cebb612",
       "version_major": 2,
       "version_minor": 0
      },
      "text/plain": [
       "2.8B-deduped:   0%|          | 0/8 [00:00<?, ?it/s]"
      ]
     },
     "metadata": {},
     "output_type": "display_data"
    },
    {
     "data": {
      "application/vnd.jupyter.widget-view+json": {
       "model_id": "c57385ecdada480095cc331b13f3e9dc",
       "version_major": 2,
       "version_minor": 0
      },
      "text/plain": [
       "6.9B-deduped:   0%|          | 0/8 [00:00<?, ?it/s]"
      ]
     },
     "metadata": {},
     "output_type": "display_data"
    },
    {
     "data": {
      "application/vnd.jupyter.widget-view+json": {
       "model_id": "35e3e957bf634b28a238235bbb8f13a2",
       "version_major": 2,
       "version_minor": 0
      },
      "text/plain": [
       "12B-deduped:   0%|          | 0/8 [00:00<?, ?it/s]"
      ]
     },
     "metadata": {},
     "output_type": "display_data"
    },
    {
     "name": "stderr",
     "output_type": "stream",
     "text": [
      "Image contains an alpha channel. Computing a separate soft mask (/SMask) image to store transparency in PDF.\n"
     ]
    },
    {
     "data": {
      "application/vnd.jupyter.widget-view+json": {
       "model_id": "43f68c4d4e5445dea69b942d40b12d9d",
       "version_major": 2,
       "version_minor": 0
      },
      "text/plain": [
       "70M-deduped:   0%|          | 0/8 [00:00<?, ?it/s]"
      ]
     },
     "metadata": {},
     "output_type": "display_data"
    },
    {
     "data": {
      "application/vnd.jupyter.widget-view+json": {
       "model_id": "0eaec0d4119942389135f943eccda853",
       "version_major": 2,
       "version_minor": 0
      },
      "text/plain": [
       "160M-deduped:   0%|          | 0/8 [00:00<?, ?it/s]"
      ]
     },
     "metadata": {},
     "output_type": "display_data"
    },
    {
     "data": {
      "application/vnd.jupyter.widget-view+json": {
       "model_id": "29f07e0bd67641e495384c41e39ea30a",
       "version_major": 2,
       "version_minor": 0
      },
      "text/plain": [
       "410M-deduped:   0%|          | 0/8 [00:00<?, ?it/s]"
      ]
     },
     "metadata": {},
     "output_type": "display_data"
    },
    {
     "data": {
      "application/vnd.jupyter.widget-view+json": {
       "model_id": "b650cbcdf9cb4b9686979a7c810b2812",
       "version_major": 2,
       "version_minor": 0
      },
      "text/plain": [
       "1B-deduped:   0%|          | 0/8 [00:00<?, ?it/s]"
      ]
     },
     "metadata": {},
     "output_type": "display_data"
    },
    {
     "data": {
      "application/vnd.jupyter.widget-view+json": {
       "model_id": "159fd650f550490b82db7f41b9e0d5ed",
       "version_major": 2,
       "version_minor": 0
      },
      "text/plain": [
       "1.4B-deduped:   0%|          | 0/8 [00:00<?, ?it/s]"
      ]
     },
     "metadata": {},
     "output_type": "display_data"
    },
    {
     "data": {
      "application/vnd.jupyter.widget-view+json": {
       "model_id": "ce3717abc277487d868c8c21e5e17772",
       "version_major": 2,
       "version_minor": 0
      },
      "text/plain": [
       "2.8B-deduped:   0%|          | 0/8 [00:00<?, ?it/s]"
      ]
     },
     "metadata": {},
     "output_type": "display_data"
    },
    {
     "data": {
      "application/vnd.jupyter.widget-view+json": {
       "model_id": "89b71f0aa525442480931cc72d2d582e",
       "version_major": 2,
       "version_minor": 0
      },
      "text/plain": [
       "6.9B-deduped:   0%|          | 0/8 [00:00<?, ?it/s]"
      ]
     },
     "metadata": {},
     "output_type": "display_data"
    },
    {
     "data": {
      "application/vnd.jupyter.widget-view+json": {
       "model_id": "e953f2456a384536a10871a52cbe80bb",
       "version_major": 2,
       "version_minor": 0
      },
      "text/plain": [
       "12B-deduped:   0%|          | 0/8 [00:00<?, ?it/s]"
      ]
     },
     "metadata": {},
     "output_type": "display_data"
    },
    {
     "name": "stderr",
     "output_type": "stream",
     "text": [
      "Image contains an alpha channel. Computing a separate soft mask (/SMask) image to store transparency in PDF.\n"
     ]
    },
    {
     "data": {
      "application/vnd.jupyter.widget-view+json": {
       "model_id": "3ca959e8c6a94e0e8403814a52cc884e",
       "version_major": 2,
       "version_minor": 0
      },
      "text/plain": [
       "70M-deduped:   0%|          | 0/8 [00:00<?, ?it/s]"
      ]
     },
     "metadata": {},
     "output_type": "display_data"
    },
    {
     "data": {
      "application/vnd.jupyter.widget-view+json": {
       "model_id": "6d0abc368fc146fcae25fac2d0d0cae5",
       "version_major": 2,
       "version_minor": 0
      },
      "text/plain": [
       "160M-deduped:   0%|          | 0/8 [00:00<?, ?it/s]"
      ]
     },
     "metadata": {},
     "output_type": "display_data"
    },
    {
     "data": {
      "application/vnd.jupyter.widget-view+json": {
       "model_id": "277f0151cc1c4486be5d0579947914ec",
       "version_major": 2,
       "version_minor": 0
      },
      "text/plain": [
       "410M-deduped:   0%|          | 0/8 [00:00<?, ?it/s]"
      ]
     },
     "metadata": {},
     "output_type": "display_data"
    },
    {
     "data": {
      "application/vnd.jupyter.widget-view+json": {
       "model_id": "be78e98bb930494daffcf22873931845",
       "version_major": 2,
       "version_minor": 0
      },
      "text/plain": [
       "1B-deduped:   0%|          | 0/8 [00:00<?, ?it/s]"
      ]
     },
     "metadata": {},
     "output_type": "display_data"
    },
    {
     "data": {
      "application/vnd.jupyter.widget-view+json": {
       "model_id": "dabcfdd147394a63869d9bdd3b0cdb47",
       "version_major": 2,
       "version_minor": 0
      },
      "text/plain": [
       "1.4B-deduped:   0%|          | 0/8 [00:00<?, ?it/s]"
      ]
     },
     "metadata": {},
     "output_type": "display_data"
    },
    {
     "data": {
      "application/vnd.jupyter.widget-view+json": {
       "model_id": "59350738faf6455898dc46ec67f73c8e",
       "version_major": 2,
       "version_minor": 0
      },
      "text/plain": [
       "2.8B-deduped:   0%|          | 0/8 [00:00<?, ?it/s]"
      ]
     },
     "metadata": {},
     "output_type": "display_data"
    },
    {
     "data": {
      "application/vnd.jupyter.widget-view+json": {
       "model_id": "356af086c74b4329821663299d55cd9f",
       "version_major": 2,
       "version_minor": 0
      },
      "text/plain": [
       "6.9B-deduped:   0%|          | 0/8 [00:00<?, ?it/s]"
      ]
     },
     "metadata": {},
     "output_type": "display_data"
    },
    {
     "data": {
      "application/vnd.jupyter.widget-view+json": {
       "model_id": "310fa3a590f54596af70c75a9161fd03",
       "version_major": 2,
       "version_minor": 0
      },
      "text/plain": [
       "12B-deduped:   0%|          | 0/8 [00:00<?, ?it/s]"
      ]
     },
     "metadata": {},
     "output_type": "display_data"
    },
    {
     "name": "stderr",
     "output_type": "stream",
     "text": [
      "Image contains an alpha channel. Computing a separate soft mask (/SMask) image to store transparency in PDF.\n"
     ]
    },
    {
     "data": {
      "application/vnd.jupyter.widget-view+json": {
       "model_id": "2848bb5cc1014911ab566178680940df",
       "version_major": 2,
       "version_minor": 0
      },
      "text/plain": [
       "70M-deduped:   0%|          | 0/8 [00:00<?, ?it/s]"
      ]
     },
     "metadata": {},
     "output_type": "display_data"
    },
    {
     "data": {
      "application/vnd.jupyter.widget-view+json": {
       "model_id": "c6fa4e7e74ba42b88f8ceba34c399f95",
       "version_major": 2,
       "version_minor": 0
      },
      "text/plain": [
       "160M-deduped:   0%|          | 0/8 [00:00<?, ?it/s]"
      ]
     },
     "metadata": {},
     "output_type": "display_data"
    },
    {
     "data": {
      "application/vnd.jupyter.widget-view+json": {
       "model_id": "744f4876af9a42a196ceed94746f87c2",
       "version_major": 2,
       "version_minor": 0
      },
      "text/plain": [
       "410M-deduped:   0%|          | 0/8 [00:00<?, ?it/s]"
      ]
     },
     "metadata": {},
     "output_type": "display_data"
    },
    {
     "data": {
      "application/vnd.jupyter.widget-view+json": {
       "model_id": "c6cca033062a4c28b44bd3184e0aec44",
       "version_major": 2,
       "version_minor": 0
      },
      "text/plain": [
       "1B-deduped:   0%|          | 0/8 [00:00<?, ?it/s]"
      ]
     },
     "metadata": {},
     "output_type": "display_data"
    },
    {
     "data": {
      "application/vnd.jupyter.widget-view+json": {
       "model_id": "047008edb1074697ab889c522acac940",
       "version_major": 2,
       "version_minor": 0
      },
      "text/plain": [
       "1.4B-deduped:   0%|          | 0/8 [00:00<?, ?it/s]"
      ]
     },
     "metadata": {},
     "output_type": "display_data"
    },
    {
     "data": {
      "application/vnd.jupyter.widget-view+json": {
       "model_id": "1e94189a64534582b66db0842523dffc",
       "version_major": 2,
       "version_minor": 0
      },
      "text/plain": [
       "2.8B-deduped:   0%|          | 0/8 [00:00<?, ?it/s]"
      ]
     },
     "metadata": {},
     "output_type": "display_data"
    },
    {
     "data": {
      "application/vnd.jupyter.widget-view+json": {
       "model_id": "1bc6e9e942fd48cf9f86e50d32044126",
       "version_major": 2,
       "version_minor": 0
      },
      "text/plain": [
       "6.9B-deduped:   0%|          | 0/8 [00:00<?, ?it/s]"
      ]
     },
     "metadata": {},
     "output_type": "display_data"
    },
    {
     "data": {
      "application/vnd.jupyter.widget-view+json": {
       "model_id": "7c65546dc9a049b09271be5bac618363",
       "version_major": 2,
       "version_minor": 0
      },
      "text/plain": [
       "12B-deduped:   0%|          | 0/8 [00:00<?, ?it/s]"
      ]
     },
     "metadata": {},
     "output_type": "display_data"
    },
    {
     "name": "stderr",
     "output_type": "stream",
     "text": [
      "Image contains an alpha channel. Computing a separate soft mask (/SMask) image to store transparency in PDF.\n"
     ]
    },
    {
     "data": {
      "application/vnd.jupyter.widget-view+json": {
       "model_id": "646529cffaf248e3a41552b8895e05b5",
       "version_major": 2,
       "version_minor": 0
      },
      "text/plain": [
       "70M-deduped:   0%|          | 0/8 [00:00<?, ?it/s]"
      ]
     },
     "metadata": {},
     "output_type": "display_data"
    },
    {
     "data": {
      "application/vnd.jupyter.widget-view+json": {
       "model_id": "d3cd4383af864f509e683c63678bac9c",
       "version_major": 2,
       "version_minor": 0
      },
      "text/plain": [
       "160M-deduped:   0%|          | 0/8 [00:00<?, ?it/s]"
      ]
     },
     "metadata": {},
     "output_type": "display_data"
    },
    {
     "data": {
      "application/vnd.jupyter.widget-view+json": {
       "model_id": "d1861d18558f49d4bd0322066805f16b",
       "version_major": 2,
       "version_minor": 0
      },
      "text/plain": [
       "410M-deduped:   0%|          | 0/8 [00:00<?, ?it/s]"
      ]
     },
     "metadata": {},
     "output_type": "display_data"
    },
    {
     "data": {
      "application/vnd.jupyter.widget-view+json": {
       "model_id": "047ec562324a41a182ff734b56d51647",
       "version_major": 2,
       "version_minor": 0
      },
      "text/plain": [
       "1B-deduped:   0%|          | 0/8 [00:00<?, ?it/s]"
      ]
     },
     "metadata": {},
     "output_type": "display_data"
    },
    {
     "data": {
      "application/vnd.jupyter.widget-view+json": {
       "model_id": "3a41a45770504dfab93b4e665846216c",
       "version_major": 2,
       "version_minor": 0
      },
      "text/plain": [
       "1.4B-deduped:   0%|          | 0/8 [00:00<?, ?it/s]"
      ]
     },
     "metadata": {},
     "output_type": "display_data"
    },
    {
     "data": {
      "application/vnd.jupyter.widget-view+json": {
       "model_id": "52531f69bdb44a3790ca3f3ab814bba0",
       "version_major": 2,
       "version_minor": 0
      },
      "text/plain": [
       "2.8B-deduped:   0%|          | 0/8 [00:00<?, ?it/s]"
      ]
     },
     "metadata": {},
     "output_type": "display_data"
    },
    {
     "data": {
      "application/vnd.jupyter.widget-view+json": {
       "model_id": "cebf47a0341547c891f1d16eb87bd807",
       "version_major": 2,
       "version_minor": 0
      },
      "text/plain": [
       "6.9B-deduped:   0%|          | 0/8 [00:00<?, ?it/s]"
      ]
     },
     "metadata": {},
     "output_type": "display_data"
    },
    {
     "data": {
      "application/vnd.jupyter.widget-view+json": {
       "model_id": "2a96c95f9d954c4eb18276e1021547b3",
       "version_major": 2,
       "version_minor": 0
      },
      "text/plain": [
       "12B-deduped:   0%|          | 0/8 [00:00<?, ?it/s]"
      ]
     },
     "metadata": {},
     "output_type": "display_data"
    },
    {
     "name": "stderr",
     "output_type": "stream",
     "text": [
      "Image contains an alpha channel. Computing a separate soft mask (/SMask) image to store transparency in PDF.\n"
     ]
    },
    {
     "data": {
      "application/vnd.jupyter.widget-view+json": {
       "model_id": "00f1047f22fd4e51a37a91906773d651",
       "version_major": 2,
       "version_minor": 0
      },
      "text/plain": [
       "70M-deduped:   0%|          | 0/8 [00:00<?, ?it/s]"
      ]
     },
     "metadata": {},
     "output_type": "display_data"
    },
    {
     "data": {
      "application/vnd.jupyter.widget-view+json": {
       "model_id": "26ff70bda75a405f889293d0abfedd35",
       "version_major": 2,
       "version_minor": 0
      },
      "text/plain": [
       "160M-deduped:   0%|          | 0/8 [00:00<?, ?it/s]"
      ]
     },
     "metadata": {},
     "output_type": "display_data"
    },
    {
     "data": {
      "application/vnd.jupyter.widget-view+json": {
       "model_id": "f19e6ffac4ea4e6f99a7163fa608bd31",
       "version_major": 2,
       "version_minor": 0
      },
      "text/plain": [
       "410M-deduped:   0%|          | 0/8 [00:00<?, ?it/s]"
      ]
     },
     "metadata": {},
     "output_type": "display_data"
    },
    {
     "data": {
      "application/vnd.jupyter.widget-view+json": {
       "model_id": "3bee412ba91c4a058f15cfc48a02813f",
       "version_major": 2,
       "version_minor": 0
      },
      "text/plain": [
       "1B-deduped:   0%|          | 0/8 [00:00<?, ?it/s]"
      ]
     },
     "metadata": {},
     "output_type": "display_data"
    },
    {
     "data": {
      "application/vnd.jupyter.widget-view+json": {
       "model_id": "7c09f423633440e89fcc4bbf5f7440c8",
       "version_major": 2,
       "version_minor": 0
      },
      "text/plain": [
       "1.4B-deduped:   0%|          | 0/8 [00:00<?, ?it/s]"
      ]
     },
     "metadata": {},
     "output_type": "display_data"
    },
    {
     "data": {
      "application/vnd.jupyter.widget-view+json": {
       "model_id": "ad31bc9251104ed6b581ffda87b9b7a5",
       "version_major": 2,
       "version_minor": 0
      },
      "text/plain": [
       "2.8B-deduped:   0%|          | 0/8 [00:00<?, ?it/s]"
      ]
     },
     "metadata": {},
     "output_type": "display_data"
    },
    {
     "data": {
      "application/vnd.jupyter.widget-view+json": {
       "model_id": "80ccaf79fdd64ff6b32061003c68bac3",
       "version_major": 2,
       "version_minor": 0
      },
      "text/plain": [
       "6.9B-deduped:   0%|          | 0/8 [00:00<?, ?it/s]"
      ]
     },
     "metadata": {},
     "output_type": "display_data"
    },
    {
     "data": {
      "application/vnd.jupyter.widget-view+json": {
       "model_id": "37eb20a3a5394fc9924e569377514971",
       "version_major": 2,
       "version_minor": 0
      },
      "text/plain": [
       "12B-deduped:   0%|          | 0/8 [00:00<?, ?it/s]"
      ]
     },
     "metadata": {},
     "output_type": "display_data"
    },
    {
     "name": "stderr",
     "output_type": "stream",
     "text": [
      "Image contains an alpha channel. Computing a separate soft mask (/SMask) image to store transparency in PDF.\n"
     ]
    },
    {
     "data": {
      "application/vnd.jupyter.widget-view+json": {
       "model_id": "049112fcd6894315b93cbd1ec8b75948",
       "version_major": 2,
       "version_minor": 0
      },
      "text/plain": [
       "70M-deduped:   0%|          | 0/8 [00:00<?, ?it/s]"
      ]
     },
     "metadata": {},
     "output_type": "display_data"
    },
    {
     "data": {
      "application/vnd.jupyter.widget-view+json": {
       "model_id": "8b907cdaba6f4cdca9b376c3a2673c2f",
       "version_major": 2,
       "version_minor": 0
      },
      "text/plain": [
       "160M-deduped:   0%|          | 0/8 [00:00<?, ?it/s]"
      ]
     },
     "metadata": {},
     "output_type": "display_data"
    },
    {
     "data": {
      "application/vnd.jupyter.widget-view+json": {
       "model_id": "cb5f2b7c6d9d4c759f5ed8348089bf2d",
       "version_major": 2,
       "version_minor": 0
      },
      "text/plain": [
       "410M-deduped:   0%|          | 0/8 [00:00<?, ?it/s]"
      ]
     },
     "metadata": {},
     "output_type": "display_data"
    },
    {
     "data": {
      "application/vnd.jupyter.widget-view+json": {
       "model_id": "a7c00912f8b0409690dd9ecffa9afe07",
       "version_major": 2,
       "version_minor": 0
      },
      "text/plain": [
       "1B-deduped:   0%|          | 0/8 [00:00<?, ?it/s]"
      ]
     },
     "metadata": {},
     "output_type": "display_data"
    },
    {
     "data": {
      "application/vnd.jupyter.widget-view+json": {
       "model_id": "7fbb0d3cf5284c8daaf88eb3523ceb74",
       "version_major": 2,
       "version_minor": 0
      },
      "text/plain": [
       "1.4B-deduped:   0%|          | 0/8 [00:00<?, ?it/s]"
      ]
     },
     "metadata": {},
     "output_type": "display_data"
    },
    {
     "data": {
      "application/vnd.jupyter.widget-view+json": {
       "model_id": "4439940964574ba78088d5957df5f88c",
       "version_major": 2,
       "version_minor": 0
      },
      "text/plain": [
       "2.8B-deduped:   0%|          | 0/8 [00:00<?, ?it/s]"
      ]
     },
     "metadata": {},
     "output_type": "display_data"
    },
    {
     "data": {
      "application/vnd.jupyter.widget-view+json": {
       "model_id": "ca7701d69a1b4a78a0fce58553664700",
       "version_major": 2,
       "version_minor": 0
      },
      "text/plain": [
       "6.9B-deduped:   0%|          | 0/8 [00:00<?, ?it/s]"
      ]
     },
     "metadata": {},
     "output_type": "display_data"
    },
    {
     "data": {
      "application/vnd.jupyter.widget-view+json": {
       "model_id": "0cfa018827f144c3bdf3dd115d776eac",
       "version_major": 2,
       "version_minor": 0
      },
      "text/plain": [
       "12B-deduped:   0%|          | 0/8 [00:00<?, ?it/s]"
      ]
     },
     "metadata": {},
     "output_type": "display_data"
    },
    {
     "name": "stderr",
     "output_type": "stream",
     "text": [
      "Image contains an alpha channel. Computing a separate soft mask (/SMask) image to store transparency in PDF.\n"
     ]
    },
    {
     "data": {
      "application/vnd.jupyter.widget-view+json": {
       "model_id": "35ddd430a03f4c3c995459173fdd604d",
       "version_major": 2,
       "version_minor": 0
      },
      "text/plain": [
       "70M-deduped:   0%|          | 0/8 [00:00<?, ?it/s]"
      ]
     },
     "metadata": {},
     "output_type": "display_data"
    },
    {
     "data": {
      "application/vnd.jupyter.widget-view+json": {
       "model_id": "9c5e6fe827e44cac94edb1ae3b4ac4d5",
       "version_major": 2,
       "version_minor": 0
      },
      "text/plain": [
       "160M-deduped:   0%|          | 0/8 [00:00<?, ?it/s]"
      ]
     },
     "metadata": {},
     "output_type": "display_data"
    },
    {
     "data": {
      "application/vnd.jupyter.widget-view+json": {
       "model_id": "cb42f9f5648b4ff793bab4c0e2d26580",
       "version_major": 2,
       "version_minor": 0
      },
      "text/plain": [
       "410M-deduped:   0%|          | 0/8 [00:00<?, ?it/s]"
      ]
     },
     "metadata": {},
     "output_type": "display_data"
    },
    {
     "data": {
      "application/vnd.jupyter.widget-view+json": {
       "model_id": "68424d6adf9542b1bfd00879fef5c437",
       "version_major": 2,
       "version_minor": 0
      },
      "text/plain": [
       "1B-deduped:   0%|          | 0/8 [00:00<?, ?it/s]"
      ]
     },
     "metadata": {},
     "output_type": "display_data"
    },
    {
     "data": {
      "application/vnd.jupyter.widget-view+json": {
       "model_id": "8f51a52a0e0e4ef1a112ae47106b6ebc",
       "version_major": 2,
       "version_minor": 0
      },
      "text/plain": [
       "1.4B-deduped:   0%|          | 0/8 [00:00<?, ?it/s]"
      ]
     },
     "metadata": {},
     "output_type": "display_data"
    },
    {
     "data": {
      "application/vnd.jupyter.widget-view+json": {
       "model_id": "a2064c377908401087070214ecfb8a73",
       "version_major": 2,
       "version_minor": 0
      },
      "text/plain": [
       "2.8B-deduped:   0%|          | 0/8 [00:00<?, ?it/s]"
      ]
     },
     "metadata": {},
     "output_type": "display_data"
    },
    {
     "data": {
      "application/vnd.jupyter.widget-view+json": {
       "model_id": "1714ffb53d04432fbf935c7ebc5549e5",
       "version_major": 2,
       "version_minor": 0
      },
      "text/plain": [
       "6.9B-deduped:   0%|          | 0/8 [00:00<?, ?it/s]"
      ]
     },
     "metadata": {},
     "output_type": "display_data"
    },
    {
     "data": {
      "application/vnd.jupyter.widget-view+json": {
       "model_id": "5e8bfacd67f04ebd85cba85274b07212",
       "version_major": 2,
       "version_minor": 0
      },
      "text/plain": [
       "12B-deduped:   0%|          | 0/8 [00:00<?, ?it/s]"
      ]
     },
     "metadata": {},
     "output_type": "display_data"
    },
    {
     "name": "stderr",
     "output_type": "stream",
     "text": [
      "Image contains an alpha channel. Computing a separate soft mask (/SMask) image to store transparency in PDF.\n"
     ]
    },
    {
     "data": {
      "application/vnd.jupyter.widget-view+json": {
       "model_id": "104806391d2149958ed044a57ec1d1e3",
       "version_major": 2,
       "version_minor": 0
      },
      "text/plain": [
       "70M-deduped:   0%|          | 0/8 [00:00<?, ?it/s]"
      ]
     },
     "metadata": {},
     "output_type": "display_data"
    },
    {
     "data": {
      "application/vnd.jupyter.widget-view+json": {
       "model_id": "90e4936308fe45b683859f518a76cdb4",
       "version_major": 2,
       "version_minor": 0
      },
      "text/plain": [
       "160M-deduped:   0%|          | 0/8 [00:00<?, ?it/s]"
      ]
     },
     "metadata": {},
     "output_type": "display_data"
    },
    {
     "data": {
      "application/vnd.jupyter.widget-view+json": {
       "model_id": "b90f74898b514ad3af916dbcfba70981",
       "version_major": 2,
       "version_minor": 0
      },
      "text/plain": [
       "410M-deduped:   0%|          | 0/8 [00:00<?, ?it/s]"
      ]
     },
     "metadata": {},
     "output_type": "display_data"
    },
    {
     "data": {
      "application/vnd.jupyter.widget-view+json": {
       "model_id": "0d63b020ec3d4de69a833587d8c3807c",
       "version_major": 2,
       "version_minor": 0
      },
      "text/plain": [
       "1B-deduped:   0%|          | 0/8 [00:00<?, ?it/s]"
      ]
     },
     "metadata": {},
     "output_type": "display_data"
    },
    {
     "data": {
      "application/vnd.jupyter.widget-view+json": {
       "model_id": "9e1e375bde844bb5841fd70f7de0a721",
       "version_major": 2,
       "version_minor": 0
      },
      "text/plain": [
       "1.4B-deduped:   0%|          | 0/8 [00:00<?, ?it/s]"
      ]
     },
     "metadata": {},
     "output_type": "display_data"
    },
    {
     "data": {
      "application/vnd.jupyter.widget-view+json": {
       "model_id": "86831fb7fdfb4093a9f0ce84b4974620",
       "version_major": 2,
       "version_minor": 0
      },
      "text/plain": [
       "2.8B-deduped:   0%|          | 0/8 [00:00<?, ?it/s]"
      ]
     },
     "metadata": {},
     "output_type": "display_data"
    },
    {
     "data": {
      "application/vnd.jupyter.widget-view+json": {
       "model_id": "7b8fba40056d430aa01909a93f7cd81f",
       "version_major": 2,
       "version_minor": 0
      },
      "text/plain": [
       "6.9B-deduped:   0%|          | 0/8 [00:00<?, ?it/s]"
      ]
     },
     "metadata": {},
     "output_type": "display_data"
    },
    {
     "data": {
      "application/vnd.jupyter.widget-view+json": {
       "model_id": "49cc64e4ae194314bafa5f42b678f425",
       "version_major": 2,
       "version_minor": 0
      },
      "text/plain": [
       "12B-deduped:   0%|          | 0/8 [00:00<?, ?it/s]"
      ]
     },
     "metadata": {},
     "output_type": "display_data"
    },
    {
     "name": "stderr",
     "output_type": "stream",
     "text": [
      "Image contains an alpha channel. Computing a separate soft mask (/SMask) image to store transparency in PDF.\n"
     ]
    },
    {
     "data": {
      "application/vnd.jupyter.widget-view+json": {
       "model_id": "6ef03e606ad545ce99bdd28784a5219d",
       "version_major": 2,
       "version_minor": 0
      },
      "text/plain": [
       "70M-deduped:   0%|          | 0/8 [00:00<?, ?it/s]"
      ]
     },
     "metadata": {},
     "output_type": "display_data"
    },
    {
     "data": {
      "application/vnd.jupyter.widget-view+json": {
       "model_id": "b46774253f6146779976be06d41af888",
       "version_major": 2,
       "version_minor": 0
      },
      "text/plain": [
       "160M-deduped:   0%|          | 0/8 [00:00<?, ?it/s]"
      ]
     },
     "metadata": {},
     "output_type": "display_data"
    },
    {
     "data": {
      "application/vnd.jupyter.widget-view+json": {
       "model_id": "bb912a5d9ef74b5f9202460d49374eab",
       "version_major": 2,
       "version_minor": 0
      },
      "text/plain": [
       "410M-deduped:   0%|          | 0/8 [00:00<?, ?it/s]"
      ]
     },
     "metadata": {},
     "output_type": "display_data"
    },
    {
     "data": {
      "application/vnd.jupyter.widget-view+json": {
       "model_id": "19dc5ea639134fdf998da33404966d3f",
       "version_major": 2,
       "version_minor": 0
      },
      "text/plain": [
       "1B-deduped:   0%|          | 0/8 [00:00<?, ?it/s]"
      ]
     },
     "metadata": {},
     "output_type": "display_data"
    },
    {
     "data": {
      "application/vnd.jupyter.widget-view+json": {
       "model_id": "4147d9a58c3944bea71c23209eaddecc",
       "version_major": 2,
       "version_minor": 0
      },
      "text/plain": [
       "1.4B-deduped:   0%|          | 0/8 [00:00<?, ?it/s]"
      ]
     },
     "metadata": {},
     "output_type": "display_data"
    },
    {
     "data": {
      "application/vnd.jupyter.widget-view+json": {
       "model_id": "9742d2b82f954f148e80f8b6b685f6a3",
       "version_major": 2,
       "version_minor": 0
      },
      "text/plain": [
       "2.8B-deduped:   0%|          | 0/8 [00:00<?, ?it/s]"
      ]
     },
     "metadata": {},
     "output_type": "display_data"
    },
    {
     "data": {
      "application/vnd.jupyter.widget-view+json": {
       "model_id": "8a2efa05ef634012b03f509d577893ee",
       "version_major": 2,
       "version_minor": 0
      },
      "text/plain": [
       "6.9B-deduped:   0%|          | 0/8 [00:00<?, ?it/s]"
      ]
     },
     "metadata": {},
     "output_type": "display_data"
    },
    {
     "data": {
      "application/vnd.jupyter.widget-view+json": {
       "model_id": "708f80f536d14bf2bed06ca0249dc708",
       "version_major": 2,
       "version_minor": 0
      },
      "text/plain": [
       "12B-deduped:   0%|          | 0/8 [00:00<?, ?it/s]"
      ]
     },
     "metadata": {},
     "output_type": "display_data"
    },
    {
     "name": "stderr",
     "output_type": "stream",
     "text": [
      "Image contains an alpha channel. Computing a separate soft mask (/SMask) image to store transparency in PDF.\n"
     ]
    },
    {
     "data": {
      "application/vnd.jupyter.widget-view+json": {
       "model_id": "9bbf949a60514c028190f9f0fbb2e81e",
       "version_major": 2,
       "version_minor": 0
      },
      "text/plain": [
       "70M-deduped:   0%|          | 0/8 [00:00<?, ?it/s]"
      ]
     },
     "metadata": {},
     "output_type": "display_data"
    },
    {
     "data": {
      "application/vnd.jupyter.widget-view+json": {
       "model_id": "fa773b57a42a4aed9367c02d7d12b58f",
       "version_major": 2,
       "version_minor": 0
      },
      "text/plain": [
       "160M-deduped:   0%|          | 0/8 [00:00<?, ?it/s]"
      ]
     },
     "metadata": {},
     "output_type": "display_data"
    },
    {
     "data": {
      "application/vnd.jupyter.widget-view+json": {
       "model_id": "4499b5188ea14282ae655fd490d4b33f",
       "version_major": 2,
       "version_minor": 0
      },
      "text/plain": [
       "410M-deduped:   0%|          | 0/8 [00:00<?, ?it/s]"
      ]
     },
     "metadata": {},
     "output_type": "display_data"
    },
    {
     "data": {
      "application/vnd.jupyter.widget-view+json": {
       "model_id": "aa28e59bf1184a22ba6fb01d0641e322",
       "version_major": 2,
       "version_minor": 0
      },
      "text/plain": [
       "1B-deduped:   0%|          | 0/8 [00:00<?, ?it/s]"
      ]
     },
     "metadata": {},
     "output_type": "display_data"
    },
    {
     "data": {
      "application/vnd.jupyter.widget-view+json": {
       "model_id": "c58dfae4acb640f0a40e72248ef58a44",
       "version_major": 2,
       "version_minor": 0
      },
      "text/plain": [
       "1.4B-deduped:   0%|          | 0/8 [00:00<?, ?it/s]"
      ]
     },
     "metadata": {},
     "output_type": "display_data"
    },
    {
     "data": {
      "application/vnd.jupyter.widget-view+json": {
       "model_id": "588af2cfd0bc4d29af22953cd3b25bc7",
       "version_major": 2,
       "version_minor": 0
      },
      "text/plain": [
       "2.8B-deduped:   0%|          | 0/8 [00:00<?, ?it/s]"
      ]
     },
     "metadata": {},
     "output_type": "display_data"
    },
    {
     "data": {
      "application/vnd.jupyter.widget-view+json": {
       "model_id": "f9156b520e244d42b36ce6407f24c4bf",
       "version_major": 2,
       "version_minor": 0
      },
      "text/plain": [
       "6.9B-deduped:   0%|          | 0/8 [00:00<?, ?it/s]"
      ]
     },
     "metadata": {},
     "output_type": "display_data"
    },
    {
     "data": {
      "application/vnd.jupyter.widget-view+json": {
       "model_id": "ec0eb64efba04792846ffe1365dd78b0",
       "version_major": 2,
       "version_minor": 0
      },
      "text/plain": [
       "12B-deduped:   0%|          | 0/8 [00:00<?, ?it/s]"
      ]
     },
     "metadata": {},
     "output_type": "display_data"
    },
    {
     "name": "stderr",
     "output_type": "stream",
     "text": [
      "Image contains an alpha channel. Computing a separate soft mask (/SMask) image to store transparency in PDF.\n"
     ]
    },
    {
     "data": {
      "application/vnd.jupyter.widget-view+json": {
       "model_id": "3b0d7bd887694ded927abf946a3951f4",
       "version_major": 2,
       "version_minor": 0
      },
      "text/plain": [
       "70M-deduped:   0%|          | 0/8 [00:00<?, ?it/s]"
      ]
     },
     "metadata": {},
     "output_type": "display_data"
    },
    {
     "data": {
      "application/vnd.jupyter.widget-view+json": {
       "model_id": "4d8430be5e794440906ed4fe4a4d6d04",
       "version_major": 2,
       "version_minor": 0
      },
      "text/plain": [
       "160M-deduped:   0%|          | 0/8 [00:00<?, ?it/s]"
      ]
     },
     "metadata": {},
     "output_type": "display_data"
    },
    {
     "data": {
      "application/vnd.jupyter.widget-view+json": {
       "model_id": "077a95f2ece645ce9f0ae92bcfb479af",
       "version_major": 2,
       "version_minor": 0
      },
      "text/plain": [
       "410M-deduped:   0%|          | 0/8 [00:00<?, ?it/s]"
      ]
     },
     "metadata": {},
     "output_type": "display_data"
    },
    {
     "data": {
      "application/vnd.jupyter.widget-view+json": {
       "model_id": "f72a20b67b294b10973302355b5fc948",
       "version_major": 2,
       "version_minor": 0
      },
      "text/plain": [
       "1B-deduped:   0%|          | 0/8 [00:00<?, ?it/s]"
      ]
     },
     "metadata": {},
     "output_type": "display_data"
    },
    {
     "data": {
      "application/vnd.jupyter.widget-view+json": {
       "model_id": "f9974d99f8954861927a0ae93e7851db",
       "version_major": 2,
       "version_minor": 0
      },
      "text/plain": [
       "1.4B-deduped:   0%|          | 0/8 [00:00<?, ?it/s]"
      ]
     },
     "metadata": {},
     "output_type": "display_data"
    },
    {
     "data": {
      "application/vnd.jupyter.widget-view+json": {
       "model_id": "c05d416a897548298fb53c8b45ceda67",
       "version_major": 2,
       "version_minor": 0
      },
      "text/plain": [
       "2.8B-deduped:   0%|          | 0/8 [00:00<?, ?it/s]"
      ]
     },
     "metadata": {},
     "output_type": "display_data"
    },
    {
     "data": {
      "application/vnd.jupyter.widget-view+json": {
       "model_id": "4624a0e5dd154e11893d2cd3741457f5",
       "version_major": 2,
       "version_minor": 0
      },
      "text/plain": [
       "6.9B-deduped:   0%|          | 0/8 [00:00<?, ?it/s]"
      ]
     },
     "metadata": {},
     "output_type": "display_data"
    },
    {
     "data": {
      "application/vnd.jupyter.widget-view+json": {
       "model_id": "8078753319a14d4db4914678e743276a",
       "version_major": 2,
       "version_minor": 0
      },
      "text/plain": [
       "12B-deduped:   0%|          | 0/8 [00:00<?, ?it/s]"
      ]
     },
     "metadata": {},
     "output_type": "display_data"
    },
    {
     "name": "stderr",
     "output_type": "stream",
     "text": [
      "Image contains an alpha channel. Computing a separate soft mask (/SMask) image to store transparency in PDF.\n"
     ]
    },
    {
     "data": {
      "application/vnd.jupyter.widget-view+json": {
       "model_id": "74b42ef2ea3e491083d5b3ae0693f06e",
       "version_major": 2,
       "version_minor": 0
      },
      "text/plain": [
       "70M-deduped:   0%|          | 0/8 [00:00<?, ?it/s]"
      ]
     },
     "metadata": {},
     "output_type": "display_data"
    },
    {
     "data": {
      "application/vnd.jupyter.widget-view+json": {
       "model_id": "4d7a8e93d3db4b21bc4c36a31b962552",
       "version_major": 2,
       "version_minor": 0
      },
      "text/plain": [
       "160M-deduped:   0%|          | 0/8 [00:00<?, ?it/s]"
      ]
     },
     "metadata": {},
     "output_type": "display_data"
    },
    {
     "data": {
      "application/vnd.jupyter.widget-view+json": {
       "model_id": "0c2296ab6d2d48378ac3f01ce8887432",
       "version_major": 2,
       "version_minor": 0
      },
      "text/plain": [
       "410M-deduped:   0%|          | 0/8 [00:00<?, ?it/s]"
      ]
     },
     "metadata": {},
     "output_type": "display_data"
    },
    {
     "data": {
      "application/vnd.jupyter.widget-view+json": {
       "model_id": "b412955888b94432a2d85473c0adbb56",
       "version_major": 2,
       "version_minor": 0
      },
      "text/plain": [
       "1B-deduped:   0%|          | 0/8 [00:00<?, ?it/s]"
      ]
     },
     "metadata": {},
     "output_type": "display_data"
    },
    {
     "data": {
      "application/vnd.jupyter.widget-view+json": {
       "model_id": "da1f6872cc574c8d9d1180a2817dbc82",
       "version_major": 2,
       "version_minor": 0
      },
      "text/plain": [
       "1.4B-deduped:   0%|          | 0/8 [00:00<?, ?it/s]"
      ]
     },
     "metadata": {},
     "output_type": "display_data"
    },
    {
     "data": {
      "application/vnd.jupyter.widget-view+json": {
       "model_id": "c87d53b0b7b0477b9f7c8ff96eed7144",
       "version_major": 2,
       "version_minor": 0
      },
      "text/plain": [
       "2.8B-deduped:   0%|          | 0/8 [00:00<?, ?it/s]"
      ]
     },
     "metadata": {},
     "output_type": "display_data"
    },
    {
     "data": {
      "application/vnd.jupyter.widget-view+json": {
       "model_id": "6ed2aa1077564edd81193ca9321b54cd",
       "version_major": 2,
       "version_minor": 0
      },
      "text/plain": [
       "6.9B-deduped:   0%|          | 0/8 [00:00<?, ?it/s]"
      ]
     },
     "metadata": {},
     "output_type": "display_data"
    },
    {
     "data": {
      "application/vnd.jupyter.widget-view+json": {
       "model_id": "3e8f4ec11b174a8b8eea8a3d77cfe272",
       "version_major": 2,
       "version_minor": 0
      },
      "text/plain": [
       "12B-deduped:   0%|          | 0/8 [00:00<?, ?it/s]"
      ]
     },
     "metadata": {},
     "output_type": "display_data"
    },
    {
     "name": "stderr",
     "output_type": "stream",
     "text": [
      "Image contains an alpha channel. Computing a separate soft mask (/SMask) image to store transparency in PDF.\n"
     ]
    },
    {
     "data": {
      "application/vnd.jupyter.widget-view+json": {
       "model_id": "96f0c44ba76447428b87c3f8e9f93493",
       "version_major": 2,
       "version_minor": 0
      },
      "text/plain": [
       "70M-deduped:   0%|          | 0/8 [00:00<?, ?it/s]"
      ]
     },
     "metadata": {},
     "output_type": "display_data"
    },
    {
     "data": {
      "application/vnd.jupyter.widget-view+json": {
       "model_id": "709841de54e4414dbd728575d2050198",
       "version_major": 2,
       "version_minor": 0
      },
      "text/plain": [
       "160M-deduped:   0%|          | 0/8 [00:00<?, ?it/s]"
      ]
     },
     "metadata": {},
     "output_type": "display_data"
    },
    {
     "data": {
      "application/vnd.jupyter.widget-view+json": {
       "model_id": "d4b72d6c21be4011801abac6725efba8",
       "version_major": 2,
       "version_minor": 0
      },
      "text/plain": [
       "410M-deduped:   0%|          | 0/8 [00:00<?, ?it/s]"
      ]
     },
     "metadata": {},
     "output_type": "display_data"
    },
    {
     "data": {
      "application/vnd.jupyter.widget-view+json": {
       "model_id": "4a4203db7e2f485082321524f9e06ac7",
       "version_major": 2,
       "version_minor": 0
      },
      "text/plain": [
       "1B-deduped:   0%|          | 0/8 [00:00<?, ?it/s]"
      ]
     },
     "metadata": {},
     "output_type": "display_data"
    },
    {
     "data": {
      "application/vnd.jupyter.widget-view+json": {
       "model_id": "c867941b58d74eb7bd432834c6d2fe5a",
       "version_major": 2,
       "version_minor": 0
      },
      "text/plain": [
       "1.4B-deduped:   0%|          | 0/8 [00:00<?, ?it/s]"
      ]
     },
     "metadata": {},
     "output_type": "display_data"
    },
    {
     "data": {
      "application/vnd.jupyter.widget-view+json": {
       "model_id": "87f864545a0346b791b9b2622a751598",
       "version_major": 2,
       "version_minor": 0
      },
      "text/plain": [
       "2.8B-deduped:   0%|          | 0/8 [00:00<?, ?it/s]"
      ]
     },
     "metadata": {},
     "output_type": "display_data"
    },
    {
     "data": {
      "application/vnd.jupyter.widget-view+json": {
       "model_id": "2aa347966a9441988affccffa22e1185",
       "version_major": 2,
       "version_minor": 0
      },
      "text/plain": [
       "6.9B-deduped:   0%|          | 0/8 [00:00<?, ?it/s]"
      ]
     },
     "metadata": {},
     "output_type": "display_data"
    },
    {
     "data": {
      "application/vnd.jupyter.widget-view+json": {
       "model_id": "1e3318e22e6a4bf18af16f8f132ab611",
       "version_major": 2,
       "version_minor": 0
      },
      "text/plain": [
       "12B-deduped:   0%|          | 0/8 [00:00<?, ?it/s]"
      ]
     },
     "metadata": {},
     "output_type": "display_data"
    },
    {
     "name": "stderr",
     "output_type": "stream",
     "text": [
      "Image contains an alpha channel. Computing a separate soft mask (/SMask) image to store transparency in PDF.\n"
     ]
    },
    {
     "data": {
      "application/vnd.jupyter.widget-view+json": {
       "model_id": "d122e90283f649f388f39bab8ff751f2",
       "version_major": 2,
       "version_minor": 0
      },
      "text/plain": [
       "70M-deduped:   0%|          | 0/8 [00:00<?, ?it/s]"
      ]
     },
     "metadata": {},
     "output_type": "display_data"
    },
    {
     "data": {
      "application/vnd.jupyter.widget-view+json": {
       "model_id": "243bc37cf6db48d29117792b0d5ed830",
       "version_major": 2,
       "version_minor": 0
      },
      "text/plain": [
       "160M-deduped:   0%|          | 0/8 [00:00<?, ?it/s]"
      ]
     },
     "metadata": {},
     "output_type": "display_data"
    },
    {
     "data": {
      "application/vnd.jupyter.widget-view+json": {
       "model_id": "aebdafb239994890bff11875526d87fd",
       "version_major": 2,
       "version_minor": 0
      },
      "text/plain": [
       "410M-deduped:   0%|          | 0/8 [00:00<?, ?it/s]"
      ]
     },
     "metadata": {},
     "output_type": "display_data"
    },
    {
     "data": {
      "application/vnd.jupyter.widget-view+json": {
       "model_id": "020001741447498f8ea2db50c75d81cf",
       "version_major": 2,
       "version_minor": 0
      },
      "text/plain": [
       "1B-deduped:   0%|          | 0/8 [00:00<?, ?it/s]"
      ]
     },
     "metadata": {},
     "output_type": "display_data"
    },
    {
     "data": {
      "application/vnd.jupyter.widget-view+json": {
       "model_id": "a744dd7bfd524aadbfb040a67b5a9daa",
       "version_major": 2,
       "version_minor": 0
      },
      "text/plain": [
       "1.4B-deduped:   0%|          | 0/8 [00:00<?, ?it/s]"
      ]
     },
     "metadata": {},
     "output_type": "display_data"
    },
    {
     "data": {
      "application/vnd.jupyter.widget-view+json": {
       "model_id": "82d36919ffc448a8888c75d6c281b85d",
       "version_major": 2,
       "version_minor": 0
      },
      "text/plain": [
       "2.8B-deduped:   0%|          | 0/8 [00:00<?, ?it/s]"
      ]
     },
     "metadata": {},
     "output_type": "display_data"
    },
    {
     "data": {
      "application/vnd.jupyter.widget-view+json": {
       "model_id": "1ffe84d9611e42daacf979b31eb02c91",
       "version_major": 2,
       "version_minor": 0
      },
      "text/plain": [
       "6.9B-deduped:   0%|          | 0/8 [00:00<?, ?it/s]"
      ]
     },
     "metadata": {},
     "output_type": "display_data"
    },
    {
     "data": {
      "application/vnd.jupyter.widget-view+json": {
       "model_id": "0eacdef42efa425097eccc6f5411d9dd",
       "version_major": 2,
       "version_minor": 0
      },
      "text/plain": [
       "12B-deduped:   0%|          | 0/8 [00:00<?, ?it/s]"
      ]
     },
     "metadata": {},
     "output_type": "display_data"
    },
    {
     "name": "stderr",
     "output_type": "stream",
     "text": [
      "Image contains an alpha channel. Computing a separate soft mask (/SMask) image to store transparency in PDF.\n"
     ]
    },
    {
     "data": {
      "application/vnd.jupyter.widget-view+json": {
       "model_id": "824063d25f154b55894ff1b0b6adf6b1",
       "version_major": 2,
       "version_minor": 0
      },
      "text/plain": [
       "70M-deduped:   0%|          | 0/8 [00:00<?, ?it/s]"
      ]
     },
     "metadata": {},
     "output_type": "display_data"
    },
    {
     "data": {
      "application/vnd.jupyter.widget-view+json": {
       "model_id": "bdefef01d6734959ab0ce0d484d8c67a",
       "version_major": 2,
       "version_minor": 0
      },
      "text/plain": [
       "160M-deduped:   0%|          | 0/8 [00:00<?, ?it/s]"
      ]
     },
     "metadata": {},
     "output_type": "display_data"
    },
    {
     "data": {
      "application/vnd.jupyter.widget-view+json": {
       "model_id": "1f5e358e1f8340d2ab22a954c96e0f20",
       "version_major": 2,
       "version_minor": 0
      },
      "text/plain": [
       "410M-deduped:   0%|          | 0/8 [00:00<?, ?it/s]"
      ]
     },
     "metadata": {},
     "output_type": "display_data"
    },
    {
     "data": {
      "application/vnd.jupyter.widget-view+json": {
       "model_id": "bbaf0457ad694604b223cbca5575f0b9",
       "version_major": 2,
       "version_minor": 0
      },
      "text/plain": [
       "1B-deduped:   0%|          | 0/8 [00:00<?, ?it/s]"
      ]
     },
     "metadata": {},
     "output_type": "display_data"
    },
    {
     "data": {
      "application/vnd.jupyter.widget-view+json": {
       "model_id": "40aae3019cd341bebadcbeff212b888e",
       "version_major": 2,
       "version_minor": 0
      },
      "text/plain": [
       "1.4B-deduped:   0%|          | 0/8 [00:00<?, ?it/s]"
      ]
     },
     "metadata": {},
     "output_type": "display_data"
    },
    {
     "data": {
      "application/vnd.jupyter.widget-view+json": {
       "model_id": "ddbe3db8307b451f88c74f35353099b0",
       "version_major": 2,
       "version_minor": 0
      },
      "text/plain": [
       "2.8B-deduped:   0%|          | 0/8 [00:00<?, ?it/s]"
      ]
     },
     "metadata": {},
     "output_type": "display_data"
    },
    {
     "data": {
      "application/vnd.jupyter.widget-view+json": {
       "model_id": "db7a54c1671541d8a3071da21d3d8d14",
       "version_major": 2,
       "version_minor": 0
      },
      "text/plain": [
       "6.9B-deduped:   0%|          | 0/8 [00:00<?, ?it/s]"
      ]
     },
     "metadata": {},
     "output_type": "display_data"
    },
    {
     "data": {
      "application/vnd.jupyter.widget-view+json": {
       "model_id": "ba84052a1b7a413f8a53ac47d9dfc456",
       "version_major": 2,
       "version_minor": 0
      },
      "text/plain": [
       "12B-deduped:   0%|          | 0/8 [00:00<?, ?it/s]"
      ]
     },
     "metadata": {},
     "output_type": "display_data"
    },
    {
     "name": "stderr",
     "output_type": "stream",
     "text": [
      "Image contains an alpha channel. Computing a separate soft mask (/SMask) image to store transparency in PDF.\n"
     ]
    },
    {
     "data": {
      "image/png": "[encoded data removed]",
      "text/plain": [
       "<Figure size 1500x1000 with 2 Axes>"
      ]
     },
     "metadata": {},
     "output_type": "display_data"
    }
   ],
   "source": [
    "import seaborn as sns\n",
    "import matplotlib.pyplot as plt\n",
    "from scipy import stats\n",
    "import img2pdf\n",
    "import numpy as np\n",
    "\n",
    "def correlation_heatmap_of_models(percentile=0, checkpoint=143000):\n",
    "    '''Plots Pearson'R correlation between models\n",
    "    \n",
    "    `percentile`: Most memorized data percentile\n",
    "    '''\n",
    "    # Theming\n",
    "    plt.clf()\n",
    "    plt.rcParams[\"figure.figsize\"] = (32,32)\n",
    "    sns.set_theme(font_scale=1.7)\n",
    "    \n",
    "    \n",
    "    # We will use stats.pearsonr for correlation calculations\n",
    "    df = {}\n",
    "    for model in models:\n",
    "        df[model] = memorization_results[f'{model}-{checkpoint}']['accuracy']\n",
    "    \n",
    "    # Extract top percentile evals if specified\n",
    "    for model in models:\n",
    "        if percentile > 0 and percentile != 1:\n",
    "            top_percentile_acc = np.nanpercentile(df[f'{model}'],percentile)\n",
    "            df[f'{model}'] = df[f'{model}'] >= top_percentile_acc\n",
    "            df[f'{model}'] = df[f'{model}'].astype('float32').to_numpy()\n",
    "        elif percentile == 1:\n",
    "            df[f'{model}'] = df[f'{model}'] == 1\n",
    "            df[f'{model}'] = df[f'{model}'].astype('float32')\n",
    "    \n",
    "    model_names = [m.split('-')[0] for m in models]\n",
    "    correlation = pd.DataFrame(index = model_names)\n",
    "    for model_1 in models:\n",
    "        corrs = []\n",
    "        for model_2 in tqdm(models, desc=model_1):\n",
    "            acc_1 = df[model_1]\n",
    "            acc_2 = df[model_2]\n",
    "            corr = stats.pearsonr(acc_1, acc_2).statistic\n",
    "            corrs.append(corr)\n",
    "        correlation[model_names[models.index(model_1)]] = corrs\n",
    "    \n",
    "    # Heatmap we add annotations to also indicate value of pearson's R\n",
    "    ax = sns.heatmap(correlation, annot=True, fmt='.2f', vmin=0, vmax=1, yticklabels = model_names, xticklabels = model_names)\n",
    "    ax.invert_yaxis()\n",
    "    checkpoint = checkpoint_names[checkpoints.index(checkpoint)]\n",
    "    title = f\"{checkpoint} Deduped Checkpoint Correlation Heatmap\"\n",
    "    if percentile == 1:\n",
    "        title += f\" on Memorized Indicies\"\n",
    "    elif percentile > 0:\n",
    "        title += f\" on top {percentile} Indicies\"\n",
    "#     plt.title(title, fontsize=25)\n",
    "    plt.ylabel(\"Deduped Models\", fontsize=20)\n",
    "    plt.savefig('./plots/tmp.png')\n",
    "    if percentile == 0:\n",
    "        with open(f\"./plots/model_correlation_deduped_{checkpoint}.pdf\",\"wb\") as f:\n",
    "            f.write(img2pdf.convert('./plots/tmp.png'))\n",
    "    elif percentile == 1:\n",
    "        with open(f\"./plots/model_correlation_deduped_{checkpoint}_acc1.pdf\",\"wb\") as f:\n",
    "            f.write(img2pdf.convert('./plots/tmp.png'))\n",
    "    else:\n",
    "        with open(f\"./plots/model_correlation_deduped_{checkpoint}_{percentile}_percentile.pdf\",\"wb\") as f:\n",
    "            f.write(img2pdf.convert('./plots/tmp.png'))\n",
    "update_params()\n",
    "for checkpoint in checkpoints:\n",
    "    correlation_heatmap_of_models(0, checkpoint)\n",
    "    correlation_heatmap_of_models(90, checkpoint)\n",
    "    correlation_heatmap_of_models(99, checkpoint)\n",
    "    correlation_heatmap_of_models(1, checkpoint)"
   ]
  },
  {
   "cell_type": "markdown",
   "id": "5cba282c",
   "metadata": {},
   "source": [
    "# Checkpoint correlation plots"
   ]
  },
  {
   "cell_type": "code",
   "execution_count": 12,
   "id": "c88ff7d6",
   "metadata": {
    "scrolled": true
   },
   "outputs": [
    {
     "data": {
      "application/vnd.jupyter.widget-view+json": {
       "model_id": "85f68e8547c04809a8fba24ebdd9dcd4",
       "version_major": 2,
       "version_minor": 0
      },
      "text/plain": [
       "70M-deduped-23000:   0%|          | 0/7 [00:00<?, ?it/s]"
      ]
     },
     "metadata": {},
     "output_type": "display_data"
    },
    {
     "data": {
      "application/vnd.jupyter.widget-view+json": {
       "model_id": "eef4e7e760364cbdb177511c5c019759",
       "version_major": 2,
       "version_minor": 0
      },
      "text/plain": [
       "70M-deduped-43000:   0%|          | 0/7 [00:00<?, ?it/s]"
      ]
     },
     "metadata": {},
     "output_type": "display_data"
    },
    {
     "data": {
      "application/vnd.jupyter.widget-view+json": {
       "model_id": "714729b4f7b14d97a41b9698c3014243",
       "version_major": 2,
       "version_minor": 0
      },
      "text/plain": [
       "70M-deduped-63000:   0%|          | 0/7 [00:00<?, ?it/s]"
      ]
     },
     "metadata": {},
     "output_type": "display_data"
    },
    {
     "data": {
      "application/vnd.jupyter.widget-view+json": {
       "model_id": "6b598619828a49d595e26ae30eaf88ba",
       "version_major": 2,
       "version_minor": 0
      },
      "text/plain": [
       "70M-deduped-83000:   0%|          | 0/7 [00:00<?, ?it/s]"
      ]
     },
     "metadata": {},
     "output_type": "display_data"
    },
    {
     "data": {
      "application/vnd.jupyter.widget-view+json": {
       "model_id": "974e791013ef433db2a1f31b89488333",
       "version_major": 2,
       "version_minor": 0
      },
      "text/plain": [
       "70M-deduped-103000:   0%|          | 0/7 [00:00<?, ?it/s]"
      ]
     },
     "metadata": {},
     "output_type": "display_data"
    },
    {
     "data": {
      "application/vnd.jupyter.widget-view+json": {
       "model_id": "9834c2c3ceff47279a123c59fe4216c2",
       "version_major": 2,
       "version_minor": 0
      },
      "text/plain": [
       "70M-deduped-123000:   0%|          | 0/7 [00:00<?, ?it/s]"
      ]
     },
     "metadata": {},
     "output_type": "display_data"
    },
    {
     "data": {
      "application/vnd.jupyter.widget-view+json": {
       "model_id": "76330c1406c84e9bbb98ce3344255dbf",
       "version_major": 2,
       "version_minor": 0
      },
      "text/plain": [
       "70M-deduped-143000:   0%|          | 0/7 [00:00<?, ?it/s]"
      ]
     },
     "metadata": {},
     "output_type": "display_data"
    },
    {
     "name": "stderr",
     "output_type": "stream",
     "text": [
      "Image contains an alpha channel. Computing a separate soft mask (/SMask) image to store transparency in PDF.\n"
     ]
    },
    {
     "data": {
      "application/vnd.jupyter.widget-view+json": {
       "model_id": "c4fceea8b37a449abc495543ff2e4662",
       "version_major": 2,
       "version_minor": 0
      },
      "text/plain": [
       "160M-deduped-23000:   0%|          | 0/7 [00:00<?, ?it/s]"
      ]
     },
     "metadata": {},
     "output_type": "display_data"
    },
    {
     "data": {
      "application/vnd.jupyter.widget-view+json": {
       "model_id": "d8b3602291d44406ae37bcdb4e4d826a",
       "version_major": 2,
       "version_minor": 0
      },
      "text/plain": [
       "160M-deduped-43000:   0%|          | 0/7 [00:00<?, ?it/s]"
      ]
     },
     "metadata": {},
     "output_type": "display_data"
    },
    {
     "data": {
      "application/vnd.jupyter.widget-view+json": {
       "model_id": "cfb0aa596aee45b1ab92e6cb30f9fc2f",
       "version_major": 2,
       "version_minor": 0
      },
      "text/plain": [
       "160M-deduped-63000:   0%|          | 0/7 [00:00<?, ?it/s]"
      ]
     },
     "metadata": {},
     "output_type": "display_data"
    },
    {
     "data": {
      "application/vnd.jupyter.widget-view+json": {
       "model_id": "8967bde718d84e3ca34dc7adca4a9dfd",
       "version_major": 2,
       "version_minor": 0
      },
      "text/plain": [
       "160M-deduped-83000:   0%|          | 0/7 [00:00<?, ?it/s]"
      ]
     },
     "metadata": {},
     "output_type": "display_data"
    },
    {
     "data": {
      "application/vnd.jupyter.widget-view+json": {
       "model_id": "d77110ef562b4dec924a9db00874af98",
       "version_major": 2,
       "version_minor": 0
      },
      "text/plain": [
       "160M-deduped-103000:   0%|          | 0/7 [00:00<?, ?it/s]"
      ]
     },
     "metadata": {},
     "output_type": "display_data"
    },
    {
     "data": {
      "application/vnd.jupyter.widget-view+json": {
       "model_id": "189d7f21894b479393d668eb88a7004a",
       "version_major": 2,
       "version_minor": 0
      },
      "text/plain": [
       "160M-deduped-123000:   0%|          | 0/7 [00:00<?, ?it/s]"
      ]
     },
     "metadata": {},
     "output_type": "display_data"
    },
    {
     "data": {
      "application/vnd.jupyter.widget-view+json": {
       "model_id": "125519aa95f84ffabecbacc4ae71cb25",
       "version_major": 2,
       "version_minor": 0
      },
      "text/plain": [
       "160M-deduped-143000:   0%|          | 0/7 [00:00<?, ?it/s]"
      ]
     },
     "metadata": {},
     "output_type": "display_data"
    },
    {
     "name": "stderr",
     "output_type": "stream",
     "text": [
      "Image contains an alpha channel. Computing a separate soft mask (/SMask) image to store transparency in PDF.\n"
     ]
    },
    {
     "data": {
      "application/vnd.jupyter.widget-view+json": {
       "model_id": "8ae809d61cad432fb01d674370136751",
       "version_major": 2,
       "version_minor": 0
      },
      "text/plain": [
       "410M-deduped-23000:   0%|          | 0/7 [00:00<?, ?it/s]"
      ]
     },
     "metadata": {},
     "output_type": "display_data"
    },
    {
     "data": {
      "application/vnd.jupyter.widget-view+json": {
       "model_id": "e0703c42400e4794b7a3541ecc779dd2",
       "version_major": 2,
       "version_minor": 0
      },
      "text/plain": [
       "410M-deduped-43000:   0%|          | 0/7 [00:00<?, ?it/s]"
      ]
     },
     "metadata": {},
     "output_type": "display_data"
    },
    {
     "data": {
      "application/vnd.jupyter.widget-view+json": {
       "model_id": "f0fb0a5f692043f3a72d257797870091",
       "version_major": 2,
       "version_minor": 0
      },
      "text/plain": [
       "410M-deduped-63000:   0%|          | 0/7 [00:00<?, ?it/s]"
      ]
     },
     "metadata": {},
     "output_type": "display_data"
    },
    {
     "data": {
      "application/vnd.jupyter.widget-view+json": {
       "model_id": "c1794685712745aab850a4809334a2f4",
       "version_major": 2,
       "version_minor": 0
      },
      "text/plain": [
       "410M-deduped-83000:   0%|          | 0/7 [00:00<?, ?it/s]"
      ]
     },
     "metadata": {},
     "output_type": "display_data"
    },
    {
     "data": {
      "application/vnd.jupyter.widget-view+json": {
       "model_id": "cd810de791cc4e9c8848f97fec8472ed",
       "version_major": 2,
       "version_minor": 0
      },
      "text/plain": [
       "410M-deduped-103000:   0%|          | 0/7 [00:00<?, ?it/s]"
      ]
     },
     "metadata": {},
     "output_type": "display_data"
    },
    {
     "data": {
      "application/vnd.jupyter.widget-view+json": {
       "model_id": "c88d760b0eac43abb63b6ae3af054ebf",
       "version_major": 2,
       "version_minor": 0
      },
      "text/plain": [
       "410M-deduped-123000:   0%|          | 0/7 [00:00<?, ?it/s]"
      ]
     },
     "metadata": {},
     "output_type": "display_data"
    },
    {
     "data": {
      "application/vnd.jupyter.widget-view+json": {
       "model_id": "4cfb5cd812944262bfacf26087d4c131",
       "version_major": 2,
       "version_minor": 0
      },
      "text/plain": [
       "410M-deduped-143000:   0%|          | 0/7 [00:00<?, ?it/s]"
      ]
     },
     "metadata": {},
     "output_type": "display_data"
    },
    {
     "name": "stderr",
     "output_type": "stream",
     "text": [
      "Image contains an alpha channel. Computing a separate soft mask (/SMask) image to store transparency in PDF.\n"
     ]
    },
    {
     "data": {
      "application/vnd.jupyter.widget-view+json": {
       "model_id": "0a82e9dcd7704316b671ab6c199cd8de",
       "version_major": 2,
       "version_minor": 0
      },
      "text/plain": [
       "1B-deduped-23000:   0%|          | 0/7 [00:00<?, ?it/s]"
      ]
     },
     "metadata": {},
     "output_type": "display_data"
    },
    {
     "data": {
      "application/vnd.jupyter.widget-view+json": {
       "model_id": "d6e503a203074f7f9e5dddfcb22d60b2",
       "version_major": 2,
       "version_minor": 0
      },
      "text/plain": [
       "1B-deduped-43000:   0%|          | 0/7 [00:00<?, ?it/s]"
      ]
     },
     "metadata": {},
     "output_type": "display_data"
    },
    {
     "data": {
      "application/vnd.jupyter.widget-view+json": {
       "model_id": "b2f977ab39ad4550ad7c55bc1df98295",
       "version_major": 2,
       "version_minor": 0
      },
      "text/plain": [
       "1B-deduped-63000:   0%|          | 0/7 [00:00<?, ?it/s]"
      ]
     },
     "metadata": {},
     "output_type": "display_data"
    },
    {
     "data": {
      "application/vnd.jupyter.widget-view+json": {
       "model_id": "ea76b3ea1c124de8bbd7721e3649f320",
       "version_major": 2,
       "version_minor": 0
      },
      "text/plain": [
       "1B-deduped-83000:   0%|          | 0/7 [00:00<?, ?it/s]"
      ]
     },
     "metadata": {},
     "output_type": "display_data"
    },
    {
     "data": {
      "application/vnd.jupyter.widget-view+json": {
       "model_id": "dab8eed30a7b4d7c81c90eeb3460275a",
       "version_major": 2,
       "version_minor": 0
      },
      "text/plain": [
       "1B-deduped-103000:   0%|          | 0/7 [00:00<?, ?it/s]"
      ]
     },
     "metadata": {},
     "output_type": "display_data"
    },
    {
     "data": {
      "application/vnd.jupyter.widget-view+json": {
       "model_id": "af37b35ba07f4816a50fdef4d1c128b2",
       "version_major": 2,
       "version_minor": 0
      },
      "text/plain": [
       "1B-deduped-123000:   0%|          | 0/7 [00:00<?, ?it/s]"
      ]
     },
     "metadata": {},
     "output_type": "display_data"
    },
    {
     "data": {
      "application/vnd.jupyter.widget-view+json": {
       "model_id": "6daa532b5c214464a2f9b508244471cd",
       "version_major": 2,
       "version_minor": 0
      },
      "text/plain": [
       "1B-deduped-143000:   0%|          | 0/7 [00:00<?, ?it/s]"
      ]
     },
     "metadata": {},
     "output_type": "display_data"
    },
    {
     "name": "stderr",
     "output_type": "stream",
     "text": [
      "Image contains an alpha channel. Computing a separate soft mask (/SMask) image to store transparency in PDF.\n"
     ]
    },
    {
     "data": {
      "application/vnd.jupyter.widget-view+json": {
       "model_id": "0b52a3b7f7b14ec69c3b2a9d31ab5b2d",
       "version_major": 2,
       "version_minor": 0
      },
      "text/plain": [
       "1.4B-deduped-23000:   0%|          | 0/7 [00:00<?, ?it/s]"
      ]
     },
     "metadata": {},
     "output_type": "display_data"
    },
    {
     "data": {
      "application/vnd.jupyter.widget-view+json": {
       "model_id": "70c1633c3afb4a47893222d9ae9fab47",
       "version_major": 2,
       "version_minor": 0
      },
      "text/plain": [
       "1.4B-deduped-43000:   0%|          | 0/7 [00:00<?, ?it/s]"
      ]
     },
     "metadata": {},
     "output_type": "display_data"
    },
    {
     "data": {
      "application/vnd.jupyter.widget-view+json": {
       "model_id": "85b1afd8f09245639a84ceedc7e0b303",
       "version_major": 2,
       "version_minor": 0
      },
      "text/plain": [
       "1.4B-deduped-63000:   0%|          | 0/7 [00:00<?, ?it/s]"
      ]
     },
     "metadata": {},
     "output_type": "display_data"
    },
    {
     "data": {
      "application/vnd.jupyter.widget-view+json": {
       "model_id": "c9ca865c6fba460dafbb8ae4e0b15057",
       "version_major": 2,
       "version_minor": 0
      },
      "text/plain": [
       "1.4B-deduped-83000:   0%|          | 0/7 [00:00<?, ?it/s]"
      ]
     },
     "metadata": {},
     "output_type": "display_data"
    },
    {
     "data": {
      "application/vnd.jupyter.widget-view+json": {
       "model_id": "3cb8ad5d7cfa4ed085eb47752985f99a",
       "version_major": 2,
       "version_minor": 0
      },
      "text/plain": [
       "1.4B-deduped-103000:   0%|          | 0/7 [00:00<?, ?it/s]"
      ]
     },
     "metadata": {},
     "output_type": "display_data"
    },
    {
     "data": {
      "application/vnd.jupyter.widget-view+json": {
       "model_id": "13af5a86531746859353cff8b3c495d7",
       "version_major": 2,
       "version_minor": 0
      },
      "text/plain": [
       "1.4B-deduped-123000:   0%|          | 0/7 [00:00<?, ?it/s]"
      ]
     },
     "metadata": {},
     "output_type": "display_data"
    },
    {
     "data": {
      "application/vnd.jupyter.widget-view+json": {
       "model_id": "80bdacfbe0a344a182c96944a035acee",
       "version_major": 2,
       "version_minor": 0
      },
      "text/plain": [
       "1.4B-deduped-143000:   0%|          | 0/7 [00:00<?, ?it/s]"
      ]
     },
     "metadata": {},
     "output_type": "display_data"
    },
    {
     "name": "stderr",
     "output_type": "stream",
     "text": [
      "Image contains an alpha channel. Computing a separate soft mask (/SMask) image to store transparency in PDF.\n"
     ]
    },
    {
     "data": {
      "application/vnd.jupyter.widget-view+json": {
       "model_id": "01f07e5938644a1e99386ad58882b959",
       "version_major": 2,
       "version_minor": 0
      },
      "text/plain": [
       "2.8B-deduped-23000:   0%|          | 0/7 [00:00<?, ?it/s]"
      ]
     },
     "metadata": {},
     "output_type": "display_data"
    },
    {
     "data": {
      "application/vnd.jupyter.widget-view+json": {
       "model_id": "faee13038ffd46988adb959bf0fb4d26",
       "version_major": 2,
       "version_minor": 0
      },
      "text/plain": [
       "2.8B-deduped-43000:   0%|          | 0/7 [00:00<?, ?it/s]"
      ]
     },
     "metadata": {},
     "output_type": "display_data"
    },
    {
     "data": {
      "application/vnd.jupyter.widget-view+json": {
       "model_id": "e77f0e6ced0f47f3b6919ea3ad01c94f",
       "version_major": 2,
       "version_minor": 0
      },
      "text/plain": [
       "2.8B-deduped-63000:   0%|          | 0/7 [00:00<?, ?it/s]"
      ]
     },
     "metadata": {},
     "output_type": "display_data"
    },
    {
     "data": {
      "application/vnd.jupyter.widget-view+json": {
       "model_id": "69f8c2fa547c4d68824ec5186d2601d9",
       "version_major": 2,
       "version_minor": 0
      },
      "text/plain": [
       "2.8B-deduped-83000:   0%|          | 0/7 [00:00<?, ?it/s]"
      ]
     },
     "metadata": {},
     "output_type": "display_data"
    },
    {
     "data": {
      "application/vnd.jupyter.widget-view+json": {
       "model_id": "36b2ad3c74814a3ba7dd9b27d0551af7",
       "version_major": 2,
       "version_minor": 0
      },
      "text/plain": [
       "2.8B-deduped-103000:   0%|          | 0/7 [00:00<?, ?it/s]"
      ]
     },
     "metadata": {},
     "output_type": "display_data"
    },
    {
     "data": {
      "application/vnd.jupyter.widget-view+json": {
       "model_id": "e1b709243bec4452b2019b415bc01517",
       "version_major": 2,
       "version_minor": 0
      },
      "text/plain": [
       "2.8B-deduped-123000:   0%|          | 0/7 [00:00<?, ?it/s]"
      ]
     },
     "metadata": {},
     "output_type": "display_data"
    },
    {
     "data": {
      "application/vnd.jupyter.widget-view+json": {
       "model_id": "e88082a56ddc457aa2fcd62ba53b5bef",
       "version_major": 2,
       "version_minor": 0
      },
      "text/plain": [
       "2.8B-deduped-143000:   0%|          | 0/7 [00:00<?, ?it/s]"
      ]
     },
     "metadata": {},
     "output_type": "display_data"
    },
    {
     "name": "stderr",
     "output_type": "stream",
     "text": [
      "Image contains an alpha channel. Computing a separate soft mask (/SMask) image to store transparency in PDF.\n"
     ]
    },
    {
     "data": {
      "application/vnd.jupyter.widget-view+json": {
       "model_id": "78514a7b55a84d1abafe9a8ad3f5650f",
       "version_major": 2,
       "version_minor": 0
      },
      "text/plain": [
       "6.9B-deduped-23000:   0%|          | 0/7 [00:00<?, ?it/s]"
      ]
     },
     "metadata": {},
     "output_type": "display_data"
    },
    {
     "data": {
      "application/vnd.jupyter.widget-view+json": {
       "model_id": "7fc8bd0f14cb43b2a53cf0074786eb96",
       "version_major": 2,
       "version_minor": 0
      },
      "text/plain": [
       "6.9B-deduped-43000:   0%|          | 0/7 [00:00<?, ?it/s]"
      ]
     },
     "metadata": {},
     "output_type": "display_data"
    },
    {
     "data": {
      "application/vnd.jupyter.widget-view+json": {
       "model_id": "e9fb8f687aa54738b0654237496903a6",
       "version_major": 2,
       "version_minor": 0
      },
      "text/plain": [
       "6.9B-deduped-63000:   0%|          | 0/7 [00:00<?, ?it/s]"
      ]
     },
     "metadata": {},
     "output_type": "display_data"
    },
    {
     "data": {
      "application/vnd.jupyter.widget-view+json": {
       "model_id": "08a1fc3c773749e088d0efe0e33a996f",
       "version_major": 2,
       "version_minor": 0
      },
      "text/plain": [
       "6.9B-deduped-83000:   0%|          | 0/7 [00:00<?, ?it/s]"
      ]
     },
     "metadata": {},
     "output_type": "display_data"
    },
    {
     "data": {
      "application/vnd.jupyter.widget-view+json": {
       "model_id": "1460ebcf2be448de988aef8f1a711ec4",
       "version_major": 2,
       "version_minor": 0
      },
      "text/plain": [
       "6.9B-deduped-103000:   0%|          | 0/7 [00:00<?, ?it/s]"
      ]
     },
     "metadata": {},
     "output_type": "display_data"
    },
    {
     "data": {
      "application/vnd.jupyter.widget-view+json": {
       "model_id": "0ebf607949994f7aac5feb9a0baf5e99",
       "version_major": 2,
       "version_minor": 0
      },
      "text/plain": [
       "6.9B-deduped-123000:   0%|          | 0/7 [00:00<?, ?it/s]"
      ]
     },
     "metadata": {},
     "output_type": "display_data"
    },
    {
     "data": {
      "application/vnd.jupyter.widget-view+json": {
       "model_id": "faa8b4dbcafe47339da300f5ab687c84",
       "version_major": 2,
       "version_minor": 0
      },
      "text/plain": [
       "6.9B-deduped-143000:   0%|          | 0/7 [00:00<?, ?it/s]"
      ]
     },
     "metadata": {},
     "output_type": "display_data"
    },
    {
     "name": "stderr",
     "output_type": "stream",
     "text": [
      "Image contains an alpha channel. Computing a separate soft mask (/SMask) image to store transparency in PDF.\n"
     ]
    },
    {
     "data": {
      "application/vnd.jupyter.widget-view+json": {
       "model_id": "580928efda17483fbb55e89e343111d9",
       "version_major": 2,
       "version_minor": 0
      },
      "text/plain": [
       "12B-deduped-23000:   0%|          | 0/7 [00:00<?, ?it/s]"
      ]
     },
     "metadata": {},
     "output_type": "display_data"
    },
    {
     "data": {
      "application/vnd.jupyter.widget-view+json": {
       "model_id": "279e2127036b4ddaa7de4e66dc20e83a",
       "version_major": 2,
       "version_minor": 0
      },
      "text/plain": [
       "12B-deduped-43000:   0%|          | 0/7 [00:00<?, ?it/s]"
      ]
     },
     "metadata": {},
     "output_type": "display_data"
    },
    {
     "data": {
      "application/vnd.jupyter.widget-view+json": {
       "model_id": "9974f90c8ba749f59d79a08a4407c5be",
       "version_major": 2,
       "version_minor": 0
      },
      "text/plain": [
       "12B-deduped-63000:   0%|          | 0/7 [00:00<?, ?it/s]"
      ]
     },
     "metadata": {},
     "output_type": "display_data"
    },
    {
     "data": {
      "application/vnd.jupyter.widget-view+json": {
       "model_id": "d07f0b9273584b71b25eda5a7d93ce1a",
       "version_major": 2,
       "version_minor": 0
      },
      "text/plain": [
       "12B-deduped-83000:   0%|          | 0/7 [00:00<?, ?it/s]"
      ]
     },
     "metadata": {},
     "output_type": "display_data"
    },
    {
     "data": {
      "application/vnd.jupyter.widget-view+json": {
       "model_id": "02c804f0fdca4b20837feb7db5115b4c",
       "version_major": 2,
       "version_minor": 0
      },
      "text/plain": [
       "12B-deduped-103000:   0%|          | 0/7 [00:00<?, ?it/s]"
      ]
     },
     "metadata": {},
     "output_type": "display_data"
    },
    {
     "data": {
      "application/vnd.jupyter.widget-view+json": {
       "model_id": "1a5858f9ede94dc1b190a64684a6781f",
       "version_major": 2,
       "version_minor": 0
      },
      "text/plain": [
       "12B-deduped-123000:   0%|          | 0/7 [00:00<?, ?it/s]"
      ]
     },
     "metadata": {},
     "output_type": "display_data"
    },
    {
     "data": {
      "application/vnd.jupyter.widget-view+json": {
       "model_id": "f36c55e6bb04469da160f3f0a289d921",
       "version_major": 2,
       "version_minor": 0
      },
      "text/plain": [
       "12B-deduped-143000:   0%|          | 0/7 [00:00<?, ?it/s]"
      ]
     },
     "metadata": {},
     "output_type": "display_data"
    },
    {
     "name": "stderr",
     "output_type": "stream",
     "text": [
      "Image contains an alpha channel. Computing a separate soft mask (/SMask) image to store transparency in PDF.\n"
     ]
    },
    {
     "data": {
      "image/png": "[encoded data removed]",
      "text/plain": [
       "<Figure size 1500x1000 with 2 Axes>"
      ]
     },
     "metadata": {},
     "output_type": "display_data"
    }
   ],
   "source": [
    "import scipy.stats as stats\n",
    "def plot_correlation_heatmap_of_checkpoint(model):\n",
    "    '''Plots Pearson'R correlation between checkpoints of a model\n",
    "    \n",
    "    `model`: Model to plot correlation of\n",
    "    '''\n",
    "    # Theming\n",
    "    plt.clf()\n",
    "    plt.rcParams[\"figure.figsize\"] = (32,32)\n",
    "    sns.set_theme(font_scale=1.7)\n",
    "    \n",
    "    \n",
    "    # We will use stats.pearsonr for correlation calculations\n",
    "    # We only consider Sequence indicies that are evaluated by all checkpoints\n",
    "    max_sequence_index = 1024*23000\n",
    "    df = {}\n",
    "    for checkpoint in checkpoints:\n",
    "        df[checkpoint] = memorization_results[f'{model}-{checkpoint}']\n",
    "        df[checkpoint] = df[checkpoint][df[checkpoint]['index'] < max_sequence_index]\n",
    "        df[checkpoint] = df[checkpoint]['accuracy'].to_numpy()\n",
    "        \n",
    "   \n",
    "    # Get correlation\n",
    "    correlation = pd.DataFrame(index = checkpoint_names)\n",
    "    for checkpoint_1 in checkpoints:\n",
    "        corrs = []\n",
    "        for checkpoint_2 in tqdm(checkpoints, desc=f'{model}-{checkpoint_1}'):\n",
    "            acc_1 = df[checkpoint_1]\n",
    "            acc_2 = df[checkpoint_2]\n",
    "            corr = stats.pearsonr(acc_1, acc_2).statistic\n",
    "            corrs.append(corr)\n",
    "        correlation[checkpoint_names[checkpoints.index(checkpoint_1)]] = corrs\n",
    "    \n",
    "    # Heatmap we add annotations to also indicate value of pearson's R\n",
    "    ax = sns.heatmap(correlation, annot=True, fmt='.2f', vmin=0, vmax=1)\n",
    "    ax.invert_yaxis()\n",
    "    title = f\"{model} Parameter Correlation Heatmap\"\n",
    "#     plt.title(title, fontsize=25)\n",
    "    plt.ylabel(\"Checkpoints\", fontsize=20)\n",
    "    plt.savefig('./plots/tmp.png')\n",
    "    \n",
    "    # Save plots to pdf\n",
    "    with open(f\"./plots/checkpoint_correlation_{model}.pdf\",\"wb\") as f:\n",
    "        f.write(img2pdf.convert('./plots/tmp.png'))\n",
    "update_params()\n",
    "for model in models:\n",
    "    plot_correlation_heatmap_of_checkpoint(model)"
   ]
  },
  {
   "cell_type": "markdown",
   "id": "b3e71522",
   "metadata": {},
   "source": [
    "# KS Test & Q-Q plot: Uniformity Experiments"
   ]
  },
  {
   "cell_type": "code",
   "execution_count": 32,
   "id": "154884a4",
   "metadata": {},
   "outputs": [
    {
     "data": {
      "application/vnd.jupyter.widget-view+json": {
       "model_id": "46d230beacb143ae8c2520e2464883ed",
       "version_major": 2,
       "version_minor": 0
      },
      "text/plain": [
       "19m-deduped:   0%|          | 0/1 [00:00<?, ?it/s]"
      ]
     },
     "metadata": {},
     "output_type": "display_data"
    },
    {
     "name": "stderr",
     "output_type": "stream",
     "text": [
      "/tmp/ipykernel_565016/742275120.py:98: MatplotlibDeprecationWarning: Unable to determine Axes to steal space for Colorbar. Using gca(), but will raise in the future. Either provide the *cax* argument to use as the Axes for the Colorbar, provide the *ax* argument to steal space from it, or add *mappable* to an Axes.\n",
      "  ax.figure.colorbar(sm) # label = \"No. Overlapping Quantiles\"\n",
      "Image contains an alpha channel. Computing a separate soft mask (/SMask) image to store transparency in PDF.\n"
     ]
    },
    {
     "data": {
      "application/vnd.jupyter.widget-view+json": {
       "model_id": "58229e8ad04e48e5bef73b432ce26cde",
       "version_major": 2,
       "version_minor": 0
      },
      "text/plain": [
       "125m-deduped:   0%|          | 0/1 [00:00<?, ?it/s]"
      ]
     },
     "metadata": {},
     "output_type": "display_data"
    },
    {
     "name": "stderr",
     "output_type": "stream",
     "text": [
      "/tmp/ipykernel_565016/742275120.py:98: MatplotlibDeprecationWarning: Unable to determine Axes to steal space for Colorbar. Using gca(), but will raise in the future. Either provide the *cax* argument to use as the Axes for the Colorbar, provide the *ax* argument to steal space from it, or add *mappable* to an Axes.\n",
      "  ax.figure.colorbar(sm) # label = \"No. Overlapping Quantiles\"\n",
      "Image contains an alpha channel. Computing a separate soft mask (/SMask) image to store transparency in PDF.\n"
     ]
    },
    {
     "data": {
      "application/vnd.jupyter.widget-view+json": {
       "model_id": "bc0444fb6371492aa9a105ccb624b255",
       "version_major": 2,
       "version_minor": 0
      },
      "text/plain": [
       "350m-deduped:   0%|          | 0/1 [00:00<?, ?it/s]"
      ]
     },
     "metadata": {},
     "output_type": "display_data"
    },
    {
     "name": "stderr",
     "output_type": "stream",
     "text": [
      "/tmp/ipykernel_565016/742275120.py:98: MatplotlibDeprecationWarning: Unable to determine Axes to steal space for Colorbar. Using gca(), but will raise in the future. Either provide the *cax* argument to use as the Axes for the Colorbar, provide the *ax* argument to steal space from it, or add *mappable* to an Axes.\n",
      "  ax.figure.colorbar(sm) # label = \"No. Overlapping Quantiles\"\n",
      "Image contains an alpha channel. Computing a separate soft mask (/SMask) image to store transparency in PDF.\n"
     ]
    },
    {
     "data": {
      "application/vnd.jupyter.widget-view+json": {
       "model_id": "732880b5c9a947b3ad5f1d6f3cd39b15",
       "version_major": 2,
       "version_minor": 0
      },
      "text/plain": [
       "800m-deduped:   0%|          | 0/1 [00:00<?, ?it/s]"
      ]
     },
     "metadata": {},
     "output_type": "display_data"
    },
    {
     "name": "stderr",
     "output_type": "stream",
     "text": [
      "/tmp/ipykernel_565016/742275120.py:98: MatplotlibDeprecationWarning: Unable to determine Axes to steal space for Colorbar. Using gca(), but will raise in the future. Either provide the *cax* argument to use as the Axes for the Colorbar, provide the *ax* argument to steal space from it, or add *mappable* to an Axes.\n",
      "  ax.figure.colorbar(sm) # label = \"No. Overlapping Quantiles\"\n",
      "Image contains an alpha channel. Computing a separate soft mask (/SMask) image to store transparency in PDF.\n"
     ]
    },
    {
     "data": {
      "application/vnd.jupyter.widget-view+json": {
       "model_id": "8e124f1619ec45b998163244f64c189e",
       "version_major": 2,
       "version_minor": 0
      },
      "text/plain": [
       "1.3b-deduped:   0%|          | 0/1 [00:00<?, ?it/s]"
      ]
     },
     "metadata": {},
     "output_type": "display_data"
    },
    {
     "name": "stderr",
     "output_type": "stream",
     "text": [
      "/tmp/ipykernel_565016/742275120.py:98: MatplotlibDeprecationWarning: Unable to determine Axes to steal space for Colorbar. Using gca(), but will raise in the future. Either provide the *cax* argument to use as the Axes for the Colorbar, provide the *ax* argument to steal space from it, or add *mappable* to an Axes.\n",
      "  ax.figure.colorbar(sm) # label = \"No. Overlapping Quantiles\"\n",
      "Image contains an alpha channel. Computing a separate soft mask (/SMask) image to store transparency in PDF.\n"
     ]
    },
    {
     "data": {
      "application/vnd.jupyter.widget-view+json": {
       "model_id": "a77acdb4cadb4a3ea75b3b6f9e185f2b",
       "version_major": 2,
       "version_minor": 0
      },
      "text/plain": [
       "2.7b-deduped:   0%|          | 0/1 [00:00<?, ?it/s]"
      ]
     },
     "metadata": {},
     "output_type": "display_data"
    },
    {
     "name": "stderr",
     "output_type": "stream",
     "text": [
      "/tmp/ipykernel_565016/742275120.py:98: MatplotlibDeprecationWarning: Unable to determine Axes to steal space for Colorbar. Using gca(), but will raise in the future. Either provide the *cax* argument to use as the Axes for the Colorbar, provide the *ax* argument to steal space from it, or add *mappable* to an Axes.\n",
      "  ax.figure.colorbar(sm) # label = \"No. Overlapping Quantiles\"\n",
      "Image contains an alpha channel. Computing a separate soft mask (/SMask) image to store transparency in PDF.\n"
     ]
    },
    {
     "data": {
      "application/vnd.jupyter.widget-view+json": {
       "model_id": "f5d0e0490110481f89dc91cd2cdd0af9",
       "version_major": 2,
       "version_minor": 0
      },
      "text/plain": [
       "6.7b-deduped:   0%|          | 0/1 [00:00<?, ?it/s]"
      ]
     },
     "metadata": {},
     "output_type": "display_data"
    },
    {
     "name": "stderr",
     "output_type": "stream",
     "text": [
      "/tmp/ipykernel_565016/742275120.py:98: MatplotlibDeprecationWarning: Unable to determine Axes to steal space for Colorbar. Using gca(), but will raise in the future. Either provide the *cax* argument to use as the Axes for the Colorbar, provide the *ax* argument to steal space from it, or add *mappable* to an Axes.\n",
      "  ax.figure.colorbar(sm) # label = \"No. Overlapping Quantiles\"\n",
      "Image contains an alpha channel. Computing a separate soft mask (/SMask) image to store transparency in PDF.\n"
     ]
    },
    {
     "data": {
      "application/vnd.jupyter.widget-view+json": {
       "model_id": "302f1ba9aa1c4bb2b4569887e50005b3",
       "version_major": 2,
       "version_minor": 0
      },
      "text/plain": [
       "13b-deduped:   0%|          | 0/1 [00:00<?, ?it/s]"
      ]
     },
     "metadata": {},
     "output_type": "display_data"
    },
    {
     "name": "stderr",
     "output_type": "stream",
     "text": [
      "/tmp/ipykernel_565016/742275120.py:98: MatplotlibDeprecationWarning: Unable to determine Axes to steal space for Colorbar. Using gca(), but will raise in the future. Either provide the *cax* argument to use as the Axes for the Colorbar, provide the *ax* argument to steal space from it, or add *mappable* to an Axes.\n",
      "  ax.figure.colorbar(sm) # label = \"No. Overlapping Quantiles\"\n",
      "Image contains an alpha channel. Computing a separate soft mask (/SMask) image to store transparency in PDF.\n"
     ]
    },
    {
     "data": {
      "image/png": "[encoded data removed]",
      "text/plain": [
       "<Figure size 1500x1000 with 2 Axes>"
      ]
     },
     "metadata": {},
     "output_type": "display_data"
    }
   ],
   "source": [
    "import seaborn as sns\n",
    "import numpy as np\n",
    "from scipy import stats\n",
    "import statsmodels.api as smapi\n",
    "import matplotlib.pyplot as plt\n",
    "import img2pdf\n",
    "\n",
    "update_params()\n",
    "\n",
    "def jitter(values,j):\n",
    "    return values + np.random.normal(j,0.1,values.shape)\n",
    "\n",
    "def qq_plot(model, checkpoint):\n",
    "    '''Plots Q-Q plot of a given model's checkpoint\n",
    "    \n",
    "    If \"fully memorized event\" is defined as occurrence of a fully memorized sequence index at a given time instance,\n",
    "    Where time instance for a given sequence is the index of that particular sequence within training data,\n",
    "    It is observed that frequency of fully memorized events within a time-period is uniform.\n",
    "    \n",
    "    This statement is validated by the plotted Q-Q plots where theoretical distribution is Poisson distribution fit on \n",
    "    observed frequencies of events.\n",
    "    '''\n",
    "    # Clearing previous plots\n",
    "    plt.clf()\n",
    "    \n",
    "    # Load data\n",
    "    evals = memorization_results[f'{model}-{checkpoint}']\n",
    "    \n",
    "    # Extract fully memorized events\n",
    "    evals['acc1'] = (evals['accuracy'] == 1).astype('int32')\n",
    "    \n",
    "    # Set batch size, also works as time unit for our temporal evaluation\n",
    "    batch_size = 512\n",
    "    \n",
    "    # Get event frequencies, where each event is getting memorization_acc = 1\n",
    "    freqs = []\n",
    "    for i in range(0, checkpoint*1024, batch_size):\n",
    "        num_acc_1 = evals['acc1'].iloc[i:i+batch_size].sum()\n",
    "        freqs.append(num_acc_1)\n",
    "    \n",
    "    average_rate = np.mean(freqs)\n",
    "    total_num_events = len(freqs)\n",
    "        \n",
    "    plotter = smapi.ProbPlot(\n",
    "        np.array(freqs), \n",
    "        dist = stats.poisson(average_rate,), \n",
    "    )\n",
    "    \n",
    "    checkpoint = checkpoint_names[checkpoints.index(checkpoint)]\n",
    "    data = pd.DataFrame()\n",
    "    data['Sample Quantiles'] = plotter.sample_quantiles\n",
    "    data['Theoretical Quantiles']= plotter.theoretical_quantiles\n",
    "    \n",
    "    dist = {}\n",
    "    \n",
    "    for idx, row in data.iterrows():\n",
    "        x = row['Sample Quantiles']\n",
    "        y = row['Theoretical Quantiles']\n",
    "        if x in dist:\n",
    "            if y in dist[x]:\n",
    "                dist[x][y] += 1\n",
    "            else:\n",
    "                dist[x][y] = 1\n",
    "        else:\n",
    "            dist[x] = {}\n",
    "            dist[x][y] = 1\n",
    "    hueintensity = []\n",
    "    for idx, row in data.iterrows():\n",
    "        x = row['Sample Quantiles']\n",
    "        y = row['Theoretical Quantiles']\n",
    "        hueintensity.append(dist[x][y])\n",
    "    \n",
    "    norm = plt.Normalize(np.min(hueintensity), np.max(hueintensity))\n",
    "    sm = plt.cm.ScalarMappable(cmap=\"viridis\", norm=norm)\n",
    "    sm.set_array([])\n",
    "    \n",
    "    # Reference line\n",
    "    plt.plot(\n",
    "        [0, max(freqs)], [0, max(freqs)], \n",
    "        color = 'red', \n",
    "        marker = None,\n",
    "        linestyle='dashed',\n",
    "        alpha = 0.5\n",
    "    )\n",
    "    \n",
    "    \n",
    "    ax = sns.scatterplot(\n",
    "        data, \n",
    "        x = 'Theoretical Quantiles', \n",
    "        y = 'Sample Quantiles', \n",
    "        palette = 'viridis', \n",
    "        hue = hueintensity, \n",
    "        size = hueintensity,\n",
    "        sizes = (100, 1000),\n",
    "        legend = False\n",
    "    )\n",
    "    \n",
    "    ax.figure.colorbar(sm) # label = \"No. Overlapping Quantiles\"\n",
    "    plt.title(f\"{model}-{checkpoint} Q-Q Plot\")\n",
    "    plt.savefig(\"./plots/tmp.png\")\n",
    "    with open(f\"./plots/qq_plot_{model}-{checkpoint}.pdf\",\"wb\") as f:\n",
    "        f.write(img2pdf.convert('./plots/tmp.png'))\n",
    "    \n",
    "\n",
    "for model in models:\n",
    "    for checkpoint in tqdm(checkpoints[-1:], desc=model):\n",
    "        qq_plot(model, checkpoint)\n",
    "        "
   ]
  },
  {
   "cell_type": "code",
   "execution_count": 25,
   "id": "8051988a",
   "metadata": {},
   "outputs": [
    {
     "data": {
      "text/plain": [
       "34340259"
      ]
     },
     "execution_count": 25,
     "metadata": {},
     "output_type": "execute_result"
    }
   ],
   "source": [
    "len(memorization_results['13b-143000'][memorization_results['13b-143000']['accuracy'] == 0.03125])"
   ]
  },
  {
   "cell_type": "code",
   "execution_count": 26,
   "id": "21c2e7e8",
   "metadata": {},
   "outputs": [
    {
     "data": {
      "text/plain": [
       "0.2345133509069056"
      ]
     },
     "execution_count": 26,
     "metadata": {},
     "output_type": "execute_result"
    }
   ],
   "source": [
    "34340259/146432000"
   ]
  }
 ],
 "metadata": {
  "kernelspec": {
   "display_name": "Python 3 (ipykernel)",
   "language": "python",
   "name": "python3"
  },
  "language_info": {
   "codemirror_mode": {
    "name": "ipython",
    "version": 3
   },
   "file_extension": ".py",
   "mimetype": "text/x-python",
   "name": "python",
   "nbconvert_exporter": "python",
   "pygments_lexer": "ipython3",
   "version": "3.10.13"
  }
 },
 "nbformat": 4,
 "nbformat_minor": 5
}
