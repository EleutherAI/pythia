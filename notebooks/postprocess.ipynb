{
 "cells": [
  {
   "cell_type": "code",
   "execution_count": 114,
   "id": "d09889d6-2a26-4fb9-b55a-f09c645b0567",
   "metadata": {},
   "outputs": [],
   "source": [
    "import numpy as np\n",
    "\n",
    "# add parent directory to path\n",
    "import os, sys\n",
    "sys.path.append('..')\n",
    "\n",
    "from utils.mmap_dataset import MMapIndexedDataset\n",
    "import dask\n",
    "import dask.array as da\n",
    "from transformers import GPTNeoXForCausalLM, AutoTokenizer\n",
    "import matplotlib.pyplot as plt\n",
    "from dask.diagnostics import ProgressBar\n",
    "from dask.distributed import Lock\n",
    "from tqdm import tqdm\n",
    "from numpy.lib.stride_tricks import sliding_window_view"
   ]
  },
  {
   "cell_type": "code",
   "execution_count": 115,
   "id": "93eaac83-290c-4cc1-8c14-881c53f3318b",
   "metadata": {},
   "outputs": [],
   "source": [
    "idx43 = np.load('0-1-43-idx.npy')\n",
    "orig = np.load('0-1-idx.npy')"
   ]
  },
  {
   "cell_type": "code",
   "execution_count": 116,
   "id": "50aa436b-3e7e-431c-843f-980a13ce5b0e",
   "metadata": {},
   "outputs": [],
   "source": [
    "indices = idx43[:2000]"
   ]
  },
  {
   "cell_type": "code",
   "execution_count": 117,
   "id": "0814e755-e0d8-45de-a2e9-63cb734068e1",
   "metadata": {},
   "outputs": [],
   "source": [
    "both_in = np.intersect1d(idx43, orig)\n",
    "indices = []\n",
    "for i, x in enumerate(orig):\n",
    "    if i >= 2000:\n",
    "        break\n",
    "    if np.isin(x, both_in).item():\n",
    "        indices.append(i)\n",
    "indices = np.array(indices)"
   ]
  },
  {
   "cell_type": "code",
   "execution_count": 118,
   "id": "73245598-01d5-48b6-a3db-f023884c1b70",
   "metadata": {},
   "outputs": [
    {
     "data": {
      "text/plain": [
       "717"
      ]
     },
     "execution_count": 118,
     "metadata": {},
     "output_type": "execute_result"
    }
   ],
   "source": [
    "len(indices)"
   ]
  },
  {
   "cell_type": "code",
   "execution_count": 119,
   "id": "16722e6c-2276-46c7-ac91-908a5ecb4da2",
   "metadata": {},
   "outputs": [
    {
     "name": "stderr",
     "output_type": "stream",
     "text": [
      "Special tokens have been added in the vocabulary, make sure the associated word embeddings are fine-tuned or trained.\n"
     ]
    }
   ],
   "source": [
    "tokenizer = AutoTokenizer.from_pretrained(\n",
    "  \"EleutherAI/pythia-70m-deduped\",\n",
    "  revision=\"step3000\",\n",
    "  cache_dir=\"/om/user/sunnyd/transformers_cache\",\n",
    ")\n",
    "\n",
    "inputs = tokenizer(\"Hello, I am\", return_tensors=\"pt\")"
   ]
  },
  {
   "cell_type": "code",
   "execution_count": 120,
   "id": "9345970a-a58c-4931-94b2-a26b8242f845",
   "metadata": {},
   "outputs": [],
   "source": [
    "matches = []\n",
    "for i in range(171):\n",
    "    matches.append(da.from_npy_stack(f'matches-count/{i}-0/'))\n",
    "m = da.concatenate(matches, axis=1)"
   ]
  },
  {
   "cell_type": "code",
   "execution_count": 121,
   "id": "b77d4fd9-94d4-4007-aad3-7c4f34e3db81",
   "metadata": {},
   "outputs": [],
   "source": [
    "total = da.topk(m, 5, axis=1).compute()"
   ]
  },
  {
   "cell_type": "code",
   "execution_count": 122,
   "id": "7822250e-0032-473c-9f78-c9c4ac836a84",
   "metadata": {},
   "outputs": [
    {
     "data": {
      "text/plain": [
       "498"
      ]
     },
     "execution_count": 122,
     "metadata": {},
     "output_type": "execute_result"
    }
   ],
   "source": [
    "np.sum(total[indices][:, 1] == 64)"
   ]
  },
  {
   "cell_type": "code",
   "execution_count": 123,
   "id": "01387fd4-3f99-4d64-9645-c0940fe2c8ef",
   "metadata": {},
   "outputs": [
    {
     "data": {
      "text/plain": [
       "1407"
      ]
     },
     "execution_count": 123,
     "metadata": {},
     "output_type": "execute_result"
    }
   ],
   "source": [
    "np.sum(total[:, 1] == 64)"
   ]
  },
  {
   "cell_type": "code",
   "execution_count": 124,
   "id": "082ee22d-2d7c-4628-ab7d-8203db0013d1",
   "metadata": {},
   "outputs": [
    {
     "data": {
      "text/plain": [
       "(array([0.000e+00, 0.000e+00, 0.000e+00, 0.000e+00, 0.000e+00, 0.000e+00,\n",
       "        0.000e+00, 0.000e+00, 0.000e+00, 0.000e+00, 0.000e+00, 1.000e+00,\n",
       "        1.000e+00, 2.000e+00, 0.000e+00, 5.000e+00, 1.000e+00, 1.000e+00,\n",
       "        3.000e+00, 5.000e+00, 8.000e+00, 2.000e+00, 6.000e+00, 5.000e+00,\n",
       "        3.000e+00, 1.000e+01, 1.000e+00, 3.000e+00, 5.000e+00, 4.000e+00,\n",
       "        2.000e+00, 1.000e+00, 3.000e+00, 5.000e+00, 4.000e+00, 3.000e+00,\n",
       "        4.000e+00, 6.000e+00, 8.000e+00, 7.000e+00, 6.000e+00, 1.000e+01,\n",
       "        8.000e+00, 1.400e+01, 1.400e+01, 1.500e+01, 1.800e+01, 1.600e+01,\n",
       "        2.200e+01, 2.000e+01, 1.900e+01, 1.300e+01, 1.800e+01, 1.300e+01,\n",
       "        1.500e+01, 3.300e+01, 3.400e+01, 2.500e+01, 3.100e+01, 1.300e+01,\n",
       "        2.600e+01, 2.800e+01, 3.300e+01, 1.447e+03]),\n",
       " array([ 0.,  1.,  2.,  3.,  4.,  5.,  6.,  7.,  8.,  9., 10., 11., 12.,\n",
       "        13., 14., 15., 16., 17., 18., 19., 20., 21., 22., 23., 24., 25.,\n",
       "        26., 27., 28., 29., 30., 31., 32., 33., 34., 35., 36., 37., 38.,\n",
       "        39., 40., 41., 42., 43., 44., 45., 46., 47., 48., 49., 50., 51.,\n",
       "        52., 53., 54., 55., 56., 57., 58., 59., 60., 61., 62., 63., 64.]),\n",
       " <BarContainer object of 64 artists>)"
      ]
     },
     "execution_count": 124,
     "metadata": {},
     "output_type": "execute_result"
    },
    {
     "data": {
      "image/png": "[encoded data removed]",
      "text/plain": [
       "<Figure size 640x480 with 1 Axes>"
      ]
     },
     "metadata": {},
     "output_type": "display_data"
    }
   ],
   "source": [
    "plt.hist(total[:, 1], bins=(np.arange(0, 65)))"
   ]
  },
  {
   "cell_type": "code",
   "execution_count": 150,
   "id": "7f4fcdb5-1a99-4f2a-857d-1d0424dc8646",
   "metadata": {},
   "outputs": [
    {
     "data": {
      "text/plain": [
       "array([ 118, 1732,  602,   78,  874, 1162,  778,  814,  200, 1860,  915,\n",
       "       1971,  505,  350, 1246,  631, 1974, 1172,  611,  862])"
      ]
     },
     "execution_count": 150,
     "metadata": {},
     "output_type": "execute_result"
    }
   ],
   "source": [
    "np.argsort(total[:, 1])[:20]\n",
    "# vals = m[118].compute()"
   ]
  },
  {
   "cell_type": "code",
   "execution_count": 162,
   "id": "e8ef3d5a-8d9d-4bef-bc68-5706f68fac9c",
   "metadata": {},
   "outputs": [
    {
     "data": {
      "text/plain": [
       "(array([   9,   10,   13,   14,   17,   19,   20,   21,   26,   30,   34,\n",
       "          35,   39,   52,   57,   59,   63,   68,   69,   71,   72,   77,\n",
       "          78,   79,   82,   85,   86,   87,   89,   93,   94,  102,  105,\n",
       "         110,  115,  118,  119,  123,  124,  125,  127,  133,  138,  150,\n",
       "         153,  154,  155,  164,  165,  167,  170,  177,  183,  184,  185,\n",
       "         187,  188,  193,  200,  204,  207,  208,  211,  214,  215,  217,\n",
       "         220,  223,  229,  232,  239,  241,  244,  246,  251,  252,  257,\n",
       "         264,  265,  269,  271,  273,  275,  277,  282,  289,  292,  300,\n",
       "         303,  305,  316,  319,  320,  326,  327,  335,  337,  338,  341,\n",
       "         344,  346,  348,  350,  352,  353,  355,  359,  360,  366,  369,\n",
       "         370,  375,  380,  381,  383,  385,  388,  390,  391,  396,  399,\n",
       "         402,  405,  408,  409,  411,  412,  414,  415,  416,  419,  427,\n",
       "         432,  438,  440,  443,  452,  453,  455,  457,  458,  459,  460,\n",
       "         463,  472,  480,  481,  482,  483,  484,  485,  490,  493,  494,\n",
       "         495,  500,  504,  505,  506,  511,  512,  514,  517,  522,  523,\n",
       "         524,  528,  529,  532,  536,  540,  544,  550,  556,  558,  561,\n",
       "         566,  571,  578,  579,  584,  588,  590,  591,  595,  596,  602,\n",
       "         607,  608,  610,  611,  617,  622,  625,  627,  628,  631,  635,\n",
       "         636,  656,  664,  666,  667,  669,  670,  675,  682,  685,  692,\n",
       "         695,  704,  706,  709,  712,  714,  715,  716,  723,  727,  730,\n",
       "         731,  736,  744,  748,  750,  760,  762,  764,  769,  774,  778,\n",
       "         779,  783,  787,  791,  792,  794,  795,  801,  803,  804,  805,\n",
       "         806,  808,  810,  811,  814,  818,  820,  830,  831,  833,  836,\n",
       "         837,  847,  852,  862,  863,  864,  869,  870,  872,  873,  874,\n",
       "         875,  877,  878,  879,  881,  882,  883,  889,  890,  893,  900,\n",
       "         906,  913,  914,  915,  925,  929,  935,  937,  939,  941,  942,\n",
       "         943,  944,  949,  951,  955,  959,  963,  967,  972,  974,  976,\n",
       "         982,  986,  993,  997,  998,  999, 1000, 1003, 1009, 1015, 1031,\n",
       "        1032, 1034, 1037, 1040, 1044, 1055, 1056, 1061, 1062, 1065, 1068,\n",
       "        1070, 1073, 1074, 1076, 1079, 1080, 1083, 1087, 1089, 1091, 1097,\n",
       "        1103, 1104, 1105, 1106, 1108, 1109, 1113, 1116, 1120, 1130, 1131,\n",
       "        1139, 1144, 1148, 1150, 1151, 1153, 1158, 1162, 1164, 1170, 1171,\n",
       "        1172, 1174, 1175, 1182, 1184, 1187, 1193, 1199, 1205, 1206, 1209,\n",
       "        1212, 1213, 1217, 1220, 1221, 1230, 1233, 1239, 1242, 1243, 1245,\n",
       "        1246, 1249, 1250, 1251, 1253, 1262, 1265, 1271, 1272, 1274, 1276,\n",
       "        1278, 1282, 1284, 1285, 1288, 1289, 1293, 1296, 1301, 1302, 1305,\n",
       "        1309, 1310, 1311, 1312, 1314, 1321, 1323, 1325, 1330, 1333, 1338,\n",
       "        1339, 1342, 1355, 1357, 1358, 1359, 1363, 1367, 1368, 1370, 1371,\n",
       "        1372, 1374, 1379, 1384, 1389, 1403, 1404, 1406, 1410, 1417, 1421,\n",
       "        1423, 1426, 1432, 1435, 1439, 1444, 1446, 1448, 1450, 1461, 1462,\n",
       "        1468, 1475, 1477, 1482, 1486, 1488, 1489, 1490, 1492, 1493, 1498,\n",
       "        1509, 1513, 1515, 1516, 1526, 1529, 1530, 1532, 1536, 1537, 1542,\n",
       "        1546, 1547, 1549, 1557, 1560, 1564, 1565, 1566, 1568, 1571, 1574,\n",
       "        1575, 1584, 1587, 1588, 1589, 1594, 1595, 1600, 1607, 1608, 1609,\n",
       "        1610, 1611, 1612, 1617, 1619, 1625, 1637, 1642, 1644, 1646, 1649,\n",
       "        1654, 1661, 1663, 1669, 1672, 1673, 1674, 1679, 1680, 1683, 1685,\n",
       "        1686, 1688, 1695, 1697, 1698, 1700, 1704, 1706, 1712, 1714, 1723,\n",
       "        1726, 1727, 1730, 1731, 1732, 1735, 1738, 1744, 1748, 1751, 1752,\n",
       "        1754, 1757, 1763, 1771, 1780, 1782, 1785, 1787, 1789, 1792, 1794,\n",
       "        1805, 1810, 1811, 1813, 1814, 1822, 1823, 1825, 1828, 1832, 1835,\n",
       "        1837, 1844, 1848, 1855, 1860, 1861, 1865, 1866, 1869, 1875, 1876,\n",
       "        1878, 1881, 1882, 1887, 1889, 1890, 1891, 1895, 1897, 1920, 1924,\n",
       "        1931, 1932, 1933, 1938, 1940, 1941, 1943, 1944, 1952, 1955, 1960,\n",
       "        1962, 1965, 1969, 1971, 1973, 1974, 1983, 1990, 1995, 1996]),)"
      ]
     },
     "execution_count": 162,
     "metadata": {},
     "output_type": "execute_result"
    }
   ],
   "source": []
  },
  {
   "cell_type": "code",
   "execution_count": 138,
   "id": "bf62fd18-4ec1-4856-9e2d-ed210fc378db",
   "metadata": {},
   "outputs": [
    {
     "data": {
      "text/plain": [
       "array([10952486, 29460978,  4782410, ..., 25060493,  5298086,   233930])"
      ]
     },
     "execution_count": 138,
     "metadata": {},
     "output_type": "execute_result"
    }
   ],
   "source": [
    "# vals = m[118].compute()\n",
    "np.argsort(vals)"
   ]
  },
  {
   "cell_type": "code",
   "execution_count": 165,
   "id": "cc6c0175-c63a-4b95-a1cb-08d2885736fb",
   "metadata": {},
   "outputs": [
    {
     "name": "stdout",
     "output_type": "stream",
     "text": [
      "    reading sizes...\n",
      "    reading pointers...\n",
      "    reading document index...\n",
      "    creating numpy buffer of mmap...\n",
      "    creating memory view of numpy buffer...\n",
      "56 :  _VIRTUALIZATION is not set\n",
      "<|endoftext|><?xml version=\"1.0\"?>\n",
      "<ZopeData>\n",
      "  <record id=\"1\" aka=\"AAAAAAAAAAE=\">\n",
      "    <pickle>\n",
      "      <global name=\"Category\" module=\"erp5.portal_type\"/> \n",
      "\n",
      "\n",
      "47 :   You will hear back about the application within no more than 10 business days, at the latest.<|endoftext|>/*\n",
      " * Copyright (c) 2015, Oracle and/or its affiliates. All rights reserved.\n",
      " * DO NOT ALTER OR REMOVE COPYRIGHT NOTICES OR THIS FILE HEADER.\n",
      " *\n",
      " * This code \n",
      "\n",
      "\n",
      "62 :  : 0.021 (5)\n",
      "  ---------------------------------------------------------------- ---------------------------------------------------------------------------------------------\n",
      "\n",
      "Special details {#specialdetails}\n",
      "===============\n",
      "\n",
      "  -----------------------------------------------------------------------------------------------------------------------------------------------------------------------------------------------------------------------------------------------------------------------------------------------------------------------------------------------------------------------------------------------------------------------------------------------------------------------------------------------------------------------------------------------------\n",
      "  Geometry. All e.s.d.\\'s (except the e.s.d. in the dihedral angle between two l.s. planes) are estimated \n",
      "\n",
      "\n",
      "59 :  . We’re all in.<|endoftext|>// Copyright 2019 The Prometheus Authors\n",
      "// Licensed under the Apache License, Version 2.0 (the \"License\");\n",
      "// you may not use this file except in compliance with the License.\n",
      "// You may obtain a copy of the License at\n",
      "//\n",
      "// http:// \n",
      "\n",
      "\n",
      "62 :   in reward system.<|endoftext|><?php\n",
      "/**\n",
      " * Magento\n",
      " *\n",
      " * NOTICE OF LICENSE\n",
      " *\n",
      " * This source file is subject to the Open Software License (OSL 3.0)\n",
      " * that is bundled with this package in the file LICENSE.txt.\n",
      " * It is also available through the \n",
      "\n",
      "\n",
      "54 :   during and between migraine attacks.[4](#head13766-bib-0004){ref-type=\"ref\"}, [5](#head13766-bib-0005){ref-type=\"ref\"}, [6](#head13766-bib-0006){ref-type=\"ref\"}, [7](#head13766-bib \n",
      "\n",
      "\n",
      "52 :  . This has a very adverse effect on the service life of the diaphragm.<|endoftext|>#!/usr/bin/env python\n",
      "# Copyright (c) 2012 The Chromium Authors. All rights reserved.\n",
      "# Use of this source code is governed by a BSD-style license that can be\n",
      "# found in the LICENSE \n",
      "\n",
      "\n",
      "63 :  localization/es/HTML-CSS.js\n",
      " *\n",
      " *  Copyright (c) 2009-2017 The MathJax Consortium\n",
      " *\n",
      " *  Licensed under the Apache License, Version 2.0 (the \"License\");\n",
      " *  you may not use this file except in compliance with the License. \n",
      "\n",
      "\n",
      "54 :  :00:50 /info.html\n",
      "2014/01/01 00:00:51 /info.html\n",
      "2014/01/01 00:00:52 /info.html\n",
      "2014/01/01 00:00:53 /info.html\n",
      "2014/01/01 00:00:54 \n",
      "\n",
      "\n",
      "55 :  objects.filter(participant=self):\n",
      "\n",
      "<|endoftext|>#\n",
      "# Copyright (c) 1997, 2018 Oracle and/or its affiliates. All rights reserved.\n",
      "#\n",
      "# This program and the accompanying materials are made available under the\n",
      "# terms of the Eclipse Public License v. 2.0, which is available \n",
      "\n",
      "\n",
      "44 :   been identified by high‐throughput sequencing of clinical human cancers [104](#feb213087-bib-0104){ref-type=\"ref\"}, [105](#feb213087-bib-0105){ref-type=\"ref\"}, [106](#feb213087-bib-0106){ref- \n",
      "\n",
      "\n",
      "51 :   $diff is proper, not tested, probably it's the other way round)\n",
      "\n",
      "<|endoftext|>//\n",
      "//     Generated by class-dump 3.5 (64 bit) (Debug version compiled Oct 15 2018 10:31:50).\n",
      "//\n",
      "//     class-dump is Copyright (C) 1997-1998, \n",
      "\n",
      "\n",
      "55 :  ];\n",
      "        }];\n",
      "        \n",
      "    }];\n",
      "}\n",
      "\n",
      "@end\n",
      "<|endoftext|>//\n",
      "//     Generated by class-dump 3.5 (64 bit) (Debug version compiled Oct 15 2018 10:31:50).\n",
      "//\n",
      "//     class-dump is Copyright (C) 1997-1998 \n",
      "\n",
      "\n",
      "56 :  488dp\">488.00px</dimen>\n",
      "<dimen name=\"d_489dp\">489.00px</dimen>\n",
      "<dimen name=\"d_490dp\">490.00px</dimen>\n",
      "<dimen name=\"d_491dp\">491.00px</dimen>\n",
      "<dimen \n",
      "\n",
      "\n",
      "37 :   unique properties of the electrochemical transduction technique, the developed sensor thus hold great potential for simple and sensitive detection of different antibodies and other proteins in real samples.<|endoftext|>                                                                                                                           Opinions of the United\n",
      "2008 Decisions                                                                                                             States Court of Appeals\n",
      "                                                                                                                              for \n",
      "\n",
      "\n",
      "63 :   lecture\"\n",
      "   ]\n",
      "  },\n",
      "  {\n",
      "   \"cell_type\": \"code\",\n",
      "   \"execution_count\": 15,\n",
      "   \"metadata\": {},\n",
      "   \"outputs\": [\n",
      "    {\n",
      "     \"name\": \"stdout\",\n",
      "     \"output_type\": \"stream\",\n",
      " \n",
      "\n",
      "\n",
      "55 :  \n",
      "            a.value[ 8] & b.value[ 8],\n",
      "            a.value[ 9] & b.value[ 9],\n",
      "            a.value[10] & b.value[10],\n",
      "            a.value[11] & b.value[11],\n",
      "            a. \n",
      "\n",
      "\n",
      "55 :   he will come forward and tell what he knows.<|endoftext|># Protocol Buffers - Google's data interchange format\n",
      "# Copyright 2008 Google Inc.  All rights reserved.\n",
      "# https://developers.google.com/protocol-buffers/\n",
      "#\n",
      "# Redistribution and use in source and binary forms, with \n",
      "\n",
      "\n",
      "58 :   Change these attribute values to modify the information\n",
      "// associated with an assembly.\n",
      "[assembly: AssemblyTitle(\"Location.Droid\")]\n",
      "[assembly: AssemblyDescription(\"\")]\n",
      "[assembly: AssemblyConfiguration(\"\")]\n",
      "[assembly: AssemblyCompany(\"\")]\n",
      "[assembly: AssemblyProduct(\"Location.Droid\")]\n",
      " \n",
      "\n",
      "\n",
      "55 :   hex=0x40, ascii=\"@\"\n",
      "     */\n",
      "    0x00,0x00,  /* 0000000000 */\n",
      "    0x00,0x00,  /* 0000000000 */\n",
      "    0x00,0x00,  /* 0000000000 */\n",
      "    0x00, \n",
      "\n",
      "\n",
      "45 :  . AD and FC review and critique. RG manuscript preparation. RG writing of the first draft. AD and FC review and critique.\n",
      "\n",
      "Conflict of interest statement\n",
      "------------------------------\n",
      "\n",
      "The authors declare that the research was conducted in the absence of any commercial or financial relationships that could be construed as a potential conflict of interest. \n",
      "\n",
      "\n",
      "60 :  USUL>!es | aula26\n",
      "<ubottu> aula26: En la mayorÃ­a de canales Ubuntu se comunica en inglÃ©s. Para ayuda en EspaÃ±ol, por favor entre en los canales #ubuntu-es o #kubuntu-es. \n",
      "\n",
      "\n",
      "13 :  ^NServices completed \\> one QuIRC-SAQuIRC-SAs retained^a^NServices completed \\> one QuIRC-SAQuIRC-SAs retained^a^NServices completed \\> one QuIRC-SAQuIRC-SAs retained^a^ \n",
      "\n",
      "\n",
      "54 :  NDM-5~-positive transconjugants. Download Table S2, DOCX file, 0.02 MB.\n",
      "\n",
      "Copyright © 2020 Tian et al.\n",
      "\n",
      "2020\n",
      "\n",
      "Tian et al.\n",
      "\n",
      "This content is distributed under the terms of the\n",
      "\n",
      "Creative Commons Attribution 4. \n",
      "\n",
      "\n",
      "63 :  0\" class=\"altColor\">\n",
      "<td class=\"colFirst\"><code>static <a href=\"http://download.oracle.com/javase/7/docs/api/java/lang/String.html?is-external=true\" title=\"class or interface in java.lang\">String</ \n",
      "\n",
      "\n",
      "42 :   of values. CurrentRow is the index of the row you are currently looping over in the cfloop.\n",
      "\n",
      "<|endoftext|>// Copyright 2018 CoreOS, Inc.\n",
      "//\n",
      "// Licensed under the Apache License, Version 2.0 (the \"License\");\n",
      "// you may not use this file except in compliance with \n",
      "\n",
      "\n",
      "50 :  \n",
      "\"Pretty soon,\" said one, \"It will be Norway or nothing.\"<|endoftext|>/*\n",
      " * Copyright 2017 Advanced Micro Devices, Inc.\n",
      " *\n",
      " * Permission is hereby granted, free of charge, to any person obtaining a\n",
      " * copy of this software and associated documentation files (the \"Software\"),\n",
      " * to \n",
      "\n",
      "\n",
      "58 :   the information\n",
      "// associated with an assembly.\n",
      "[assembly: AssemblyTitle(\"ScpLauncher\")]\n",
      "[assembly: AssemblyDescription(\"\")]\n",
      "[assembly: AssemblyConfiguration(\"\")]\n",
      "[assembly: AssemblyCompany(\"\")]\n",
      "[assembly: AssemblyProduct(\"ScpLauncher\")]\n",
      "[assembly: AssemblyCopyright(\" \n",
      "\n",
      "\n",
      "57 :  \t26.6\t1\n",
      "2013-03-01 09:11:58.703181\t26.6\t1\n",
      "2013-03-01 09:11:58.703181\t26.6\t1\n",
      "2013-03-01 09:11:58.703181\t26.6 \n",
      "\n",
      "\n",
      "63 :   NY Slip Op 09060\n",
      "\n",
      "\n",
      "Decided on December 9, 2015\n",
      "\n",
      "\n",
      "Appellate Division, Second Department\n",
      "\n",
      "\n",
      "Published by New York State Law Reporting Bureau pursuant to Judiciary Law § 431.\n",
      "\n",
      "\n",
      "This opinion is uncorrected and subject to revision before publication in the Official Reports.\n",
      "\n",
      "\n",
      "\n",
      "Decided on December \n",
      "\n",
      "\n",
      "62 :  .iucr.org/cgi-bin/paper?ci5099&checkcif=yes)\n",
      "\n",
      "Supplementary data and figures for this paper are available from the IUCr electronic archives (Reference: [CI5099](http://scripts.iucr.org/cgi-bin/sends \n",
      "\n",
      "\n",
      "61 :  example.myapplication.MainActivity\"\n",
      "                android:label=\"@string/app_name\" >\n",
      "                <intent-filter>\n",
      "                    <action android:name=\"android.intent.action.MAIN\" />\n",
      "\n",
      "                    <category android:name=\"android.intent.category.LAUNCHER\" \n",
      "\n",
      "\n",
      "46 :  , and RNA-seq experiments. TW analyzed adult spleen samples. SC, AV, and MC performed behavioral experiments and analyses.\n",
      "\n",
      "Conflict of Interest Statement\n",
      "------------------------------\n",
      "\n",
      "The authors declare that the research was conducted in the absence of any commercial or financial relationships that could be construed as a potential conflict of interest.\n",
      " \n",
      "\n",
      "\n",
      "25 :  .mapify');\n",
      "        $(\".mapify-svg polygon\").filter(':eq(0), :eq(1), :eq(2), :eq(3), :eq(4), :eq(5), :eq(6), :eq(7), :eq(8), :eq( \n",
      "\n",
      "\n",
      "54 :  bmedj74813-0041){#sp14.643}\n",
      "\n",
      "![](edinbmedj74813-0042){#sp15.644}\n",
      "\n",
      "![](edinbmedj74813-0043){#sp16.645}\n",
      "\n",
      "![](edinbmedj74813- \n",
      "\n",
      "\n",
      "11 :  \n",
      "Harbin Hot Springs, a popular resort in rural Lake County near Middletown, was completely destroyed when the fast-moving Valley Fire ripped through the area.\n",
      "\n",
      "Harbin Hot Springs, a popular resort in rural Lake County near Middletown, was completely destroyed when the fast-moving Valley Fire ripped through \n",
      "\n",
      "\n",
      "61 :   1154 (9th Cir. 2003).\n",
      "\n",
      "\n",
      "      *\n",
      "             This disposition is not appropriate for publication and is not precedent\n",
      "except as provided by Ninth Circuit Rule 36-3.\n",
      "      **\n",
      "             The panel unanimously concludes this case is suitable for decision\n",
      "without oral argument. See Fed. R. App. \n",
      "\n",
      "\n",
      "49 :  ...ing to that directory\n",
      "<bruenig>!samba | Groovestix\n",
      "<ubotu> Groovestix: Samba is the way to cooperate with Windows environments. Links with more info: https://wiki.ubuntu.com/MountWindowsSharesPermanently and http://help.ubuntu \n",
      "\n",
      "\n",
      "60 :  547\\cellx5124\\cellx5334\\cellx10798\\trrh248\n",
      "\\pard\\plain\\intbl\\cf1\\f51\\fs20\\ql \\~\\cell\\pard\\plain\\intbl\\cf1\\f51\\fs20\\ql \\~\\cell\\ \n",
      "\n",
      "\n",
      "56 :  .1186/s13068-018-1014-2) Additional tables and figures.\n",
      "\n",
      "**Electronic supplementary material**\n",
      "\n",
      "The online version of this article (10.1186/s13068-018-1014-2) contains supplementary material, which is available to authorized users.\n",
      " \n",
      "\n",
      "\n",
      "61 :  ites\n",
      "HTML:\n",
      "<!DOCTYPE html>\n",
      "<html lang=\"de\">\n",
      "<head>\n",
      "<meta charset=\"utf-8\">\n",
      "<meta http-equiv=\"X-UA-Compatible\" content=\"IE=edge\">\n",
      "<meta name=\"viewport\" content=\"width=device-width \n",
      "\n",
      "\n",
      "57 :  H21C   0.7150         0.7926         0.8556         0.099\\*              \n",
      "  ------ -------------- -------------- -------------- -------------------- --\n",
      "\n",
      "Atomic displacement parameters (Å^2^) {#tablewrapadps}\n",
      "=====================================\n",
      "\n",
      "  ----- ------------- ------------- ------------- -------------- -------------- --------------\n",
      "        * \n",
      "\n",
      "\n",
      "38 :  , I have a german version, but it should be in the \"Adept\" menu...\n",
      "<LjL>!paste | ntweat\n",
      "<ubotu> ntweat: pastebin is a service to post large texts so you don't flood the channel. The Ubuntu pastebin is at http \n",
      "\n",
      "\n",
      "25 :  -189-CR\n",
      "                                                2-08-190-CR\n",
      "                                                2-08-191-CR\n",
      "                                                2-08-192-CR\n",
      "                                                2-08-193-CR\n",
      "                                      \n",
      "\n",
      "\n",
      "62 :  title=\"Gcj (Apache Ant API)\";\n",
      "    }\n",
      "//-->\n",
      "</script>\n",
      "<noscript>\n",
      "<div>JavaScript is disabled on your browser.</div>\n",
      "</noscript>\n",
      "<!-- ========= START OF TOP NAVBAR ======= -->\n",
      "<div class=\"topNav\">< \n",
      "\n",
      "\n",
      "53 :  ('\\n');\n",
      "            },'');\n",
      "console.log(output);\n",
      "\n",
      "<|endoftext|>To link to the entire object, paste this link in email, IM or documentTo embed the entire object, paste this HTML in websiteTo link to this page, paste this link in email, IM or documentTo embed this \n",
      "\n",
      "\n",
      "42 :  \n",
      "\n",
      "    uint16_t t0 = fs16_to_host(unixfs->s_endian, dip->di_mtime[0]);\n",
      "    uint16_t t1 = fs16_to_host(unixfs->s_endian, dip->di_m \n",
      "\n",
      "\n",
      "50 :   abdominal wall reconstruction are discussed and these should be useful for the practicing plastic surgeon.<|endoftext|>/*\n",
      " * Copyright (c) 2015, 2020, Oracle and/or its affiliates. All rights reserved.\n",
      " * DO NOT ALTER OR REMOVE COPYRIGHT NOTICES OR THIS FILE HEADER.\n",
      " *\n",
      " * This code is \n",
      "\n",
      "\n",
      "33 :  FirebaseApp.initializeApp(Unknown Source)\n",
      "                                                                                   at com.google.firebase.FirebaseApp.initializeApp(Unknown Source)\n",
      "                                                                                   at com.google.firebase.FirebaseApp.initializeApp(Unknown Source)\n",
      "                                                                                   \n",
      "\n",
      "\n",
      "48 :   second Tuesday of every month, a day known as \"patch Tuesday\" to system administrators.\n",
      "\n",
      "Related Whitepapers\n",
      "\n",
      "Copyright 2018 IDG Communications. ABN 14 001 592 650. All rights reserved. Reproduction in whole or in part in any form or medium without express written permission of IDG \n",
      "\n",
      "\n"
     ]
    }
   ],
   "source": [
    "dataset = MMapIndexedDataset('/om/user/sunnyd/data/datasets--EleutherAI--pile-standard-pythia-preshuffled-merged/document', skip_warmup = True)\n",
    "# for idx in np.argsort(total[:, 1])[:50]:\n",
    "for idx in np.where(total[:, 1] != 64)[0][:50]:\n",
    "    print(total[idx, 1], \": \", tokenizer.decode(dataset[int(idx43[idx])][:64]), '\\n\\n')"
   ]
  },
  {
   "cell_type": "code",
   "execution_count": 145,
   "id": "9cce490f-d426-4688-87de-0fbd2143eeb4",
   "metadata": {},
   "outputs": [
    {
     "data": {
      "text/plain": [
       "' 7 + 0 = 0. Let c(k) = -11*k + 208. What is the remainder when c(12) is divided by q?\\n8\\nLet y(z) = z**2 - 6*z - 22. Suppose 2*a - 12 = 14. Calculate the remainder when a is divided by y(9).\\n3\\nSuppose -405 = -8*q + 523. Calculate the remainder when 1506 is divided by q.\\n114\\nLet p = 25 + 47. Let y be (192/(-10))/((-13)/((-910)/(-28))). Let b = p - y. Calculate the remainder when 95 is divided by b.\\n23\\nLet q(z) = z**3 - 3*z**2 - z + 6. Suppose 0 = 2*s, 0*x + 15 = -x + 5*s. Let i = x + 26. What is the remainder when i is divided by q(3)?\\n2\\nLet g = -343 + 412. Calculate the remainder when g is divided by 49.\\n20\\nLet f be 1 + (2 + -1)*35. Let u = -21 + f. Let d(g) = -g**2 - 14*g - 5. What is the remainder when d(-7) is divided by u?\\n14\\nSuppose 4*a - 27 = -7. Let j = 518 + -509. Calculate the remainder when j is divided by a.\\n4\\nLet f(k) = 48*k**2 - 8*k - 9. What is the remainder when 181 is divided by f(-1)?\\n40\\nLet u(t) = -7*t - 7. Let h(i) = 27*i - 3. Let b be h(7). Suppose -x + 4*x = b. What is the remainder when x is divided by u(-4)?\\n20\\nLet z(y) = y**2 + 21*y + 95. Suppose c + 2*c = -72. What is the remainder when ((-14)/4)/(2/c) is divided by z(-5)?\\n12\\nCalculate the remainder when (-3)/(-9*1/438) is divided by 37.\\n35\\nLet p be ((-32)/48)/((-6)/(-45)). Let h(c) = c. Let v be h(5). Calculate the remainder when 34 is divided by 62/v + 2/p.\\n10\\nLet u = -98 - -176. Calculate the remainder when u is divided by 10.\\n8\\nLet n = 28 + -26. Suppose -2*c - n*c + 36 = 0. Calculate th<|endoftext|>//\\n//  UIView+ChangeFrameAttribute.m\\n//  Blockchain\\n//\\n//  Created by kevinwu on 4/20/17.\\n//  Copyright © 2017 Blockchain Luxembourg S.A. All rights reserved.\\n//\\n\\n#import \"UIView+ChangeFrameAttribute.h\"\\n\\n@implementation UIView (ChangeFrameAttribute)\\n\\n- (void)increaseXPosition:(CGFloat)XOffset\\n{\\n    self.frame = CGRectOffset(self.frame, XOffset, 0);\\n}\\n\\n- (void)increaseYPosition:(CGFloat)YOffset\\n{\\n    self.frame = CGRectOffset(self.frame, 0, YOffset);\\n}\\n\\n- (void)changeXPosition:(CGFloat)newX\\n{\\n    self.frame = CGRectMake(newX, self.frame.origin.y, self.frame.size.width, self.frame.size.height);\\n}\\n\\n- (void)changeYPosition:(CGFloat)newY\\n{\\n    self.frame = CGRectMake(self.frame.origin.x, newY, self.frame.size.width, self.frame.size.height);\\n}\\n\\n- (void)changeYPositionAnimated:(CGFloat)newY completion:(void (^ __nullable)(BOOL finished))completion\\n{\\n    [UIView animateWithDuration:ANIMATION_DURATION animations:^{\\n        [self changeYPosition:newY];\\n    } completion:completion];\\n}\\n\\n- (void)changeWidth:(CGFloat)newWidth\\n{\\n    self.frame = CGRectMake(self.frame.origin.x, self.frame.origin.y, newWidth, self.frame.size.height);\\n}\\n\\n- (void)changeHeight:(CGFloat)newHeight\\n{\\n    self.frame = CGRectMake(self.frame.origin.x, self.frame.origin.y, self.frame.size.width, newHeight);\\n}\\n\\n@end\\n<|endoftext|>Residents of Haiti’s southwestern peninsula are bracing themselves for a long night of dangerous rain and catastrophic storm surges, as the strongest Caribbean storm in nine years began bearing down on the country.\\n\\nHurricane Matthew, a violent Category 4 storm packing 230k/h winds, was due to pound the western tip of Haiti early on Tuesday, according to the US National Hurricane Center.\\n\\n“Life-threatening rain, wind and storm surges” had begun to spread over parts of the country as Matthew approached, the centre said in a 09:00 GMT advisory on Tuesday.\\n\\nREAD MORE: Hurricane Matthew storms towards Haiti and Jamaica\\n\\nHaitians living in vulnerable coastal shacks frantically sought shelter as the outer bands of the cyclone had already reached the country’s southwestern areas late on Monday.\\n\\nDozens of houses were flooded in the town of Les Anglais when the ocean rose, according to the local mayor, while strong winds caused power outages in Les Cayes, on the southern coast.\\n\\n“We have gusts of wind hitting the whole area and the people have fled to a shelter,” Les Anglais mayor Jean-Claude Despierre told Reuters news agency.\\n\\nIn Tiburon, another town nearby, authorities said people who had been reluctant to leave their homes also fled when the sea rose.\\n\\n“Everyone is trying to find a safe place to protect themselves, the situation is very difficult,” mayor Remiza Denize said, describing large waves hitting the town.\\n\\nMatthew comes at a bad time for Haiti, the poorest country in the Americas [Andres Martinez Casares/Reuters]\\n\\nThe storm is forecast to spread hurricane force winds and up to three feet of rain across denuded hills prone to flash floods and mudslides, threatening villages as well as shanty towns in the capital Port-au-Prince.\\n\\n“This is the most vulnerable suburb in the area. Here people are going about organising things, we know that the hurricane is coming,” Afou, a volunteer at a children’s home in the Cite Soleil slum in the capital, told Reuters.\\n\\n“If things are bad then we will come together,” said Afou, who only gave his first name.\\n\\nThe Mayor of Cite Soleil, Frederic Hislain, said 150,000 people whose homes were threatened needed to be bused to safer places, but accepted that many people would not want to leave. Poor Haitians are often reluctant to leave home in the face of storms, fearing their belongings will be stolen.\\n\\nThe cyclone comes at a bad time for Haiti, the poorest country in the Americas and where 80 percent of the population lives in poverty.\\n\\nTens of thousands of people in the country still live in tents after a 2010 earthquake that killed more than 200,000 people.\\n\\nCholera introduced by UN peacekeepers is expected to rise in the October rainy season, and the country was due to hold a long-delayed presidential election on October 9.\\n\\nThe office of Interim President Jocelerme Privert said there was no change to the election date.\\n\\nA general view of Kingston as Hurricane Matthew approaches Jamaica’s capital [Henry Romero/Reuters]\\n\\nRegional threat\\n\\nWarnings and watches were in effect across the Caribbean, with five provinces of Cuba as well as parts of south-eastern and central Bahamas and Haiti under a hurricane warning.\\n\\nCuban authorities have evacuated about one million people from coastal regions, while the US Navy has ordered the evacuation of about 700 non-essential staff from its base at Guantanamo Bay.\\n\\nMatthew is forecast to sweep over Cuba to the Bahamas on Tuesday and possibly reach the US state of Florida by Thursday as a major hurricane, though weaker than at present.\\n\\nFlorida Governor Rick Scott declared a state of emergency on Monday, designating resources for evacuations and shelters and putting the National Guard on standby.<|endoftext|>import {Epoch, Slot} from \"@chainsafe/lodestar-types\";\\nimport {IBeaconApi} from \"./interface/beacon\";\\nimport {IValidatorApi} from \"./interface/validators\";\\nimport StrictEventEmitter from \"strict-event-emitter-types\";\\nimport {EventEmitter} from \"events\";\\nimport {INodeApi} from \"./interface/node\";\\n\\nexport interface INewSlotCallback {\\n  (slot: Slot): void;\\n}\\n\\nexport interface INewEpochCallback {\\n  (slot: Epoch): void;\\n}\\n\\nexport interface IApiClientEvents {\\n  beaconChainStarted: () => void;\\n}\\n\\nexport type ApiClientEventEmitter = StrictEventEmitter<EventEmitter, IApiClientEvents>;\\n\\nexport interface'"
      ]
     },
     "execution_count": 145,
     "metadata": {},
     "output_type": "execute_result"
    }
   ],
   "source": [
    "tokenizer.decode(dataset[25060493])"
   ]
  },
  {
   "cell_type": "code",
   "execution_count": 66,
   "id": "26c83a1b-7703-45b6-a695-0b89edf94191",
   "metadata": {},
   "outputs": [],
   "source": [
    "indices = np.load('0-1-idx.npy')"
   ]
  },
  {
   "cell_type": "code",
   "execution_count": 131,
   "id": "f3265f17-ee7a-482f-b26a-cfc29532c93e",
   "metadata": {},
   "outputs": [
    {
     "name": "stderr",
     "output_type": "stream",
     "text": [
      "100%|██████████| 2000/2000 [34:46<00:00,  1.04s/it]\n"
     ]
    }
   ],
   "source": [
    "with open('0-1-found.txt', 'a') as f:\n",
    "    f.write(\"Found,Text\\n\")\n",
    "    for idx in tqdm(range(0, 2000)):\n",
    "        orig = indices[idx]\n",
    "        str_match = dataset[int(orig)][:64]\n",
    "        found = matches[idx].compute()\n",
    "        num_matches = np.sum(found)\n",
    "        f.write(f\"{num_matches},\" + tokenizer.decode(str_match).encode(\"unicode_escape\").decode(\"utf-8\")+\"\\n\")\n",
    "        # if num_matches > 1:\n",
    "        #     # print(f\"Found {num_matches}\\n\")\n",
    "        #     other_match = np.where(found)[0][1]\n",
    "        #     # print(tokenizer.decode(str_match))\n",
    "        #     f.write(f\"{num_matches}: \" + tokenizer.decode(str_match).encode('string_escape'))\n",
    "        # else:\n",
    "        #     f.write(\"not found:\" + tokenizer.decode(str_match))"
   ]
  },
  {
   "cell_type": "code",
   "execution_count": 124,
   "id": "ba751b5d-6720-4531-83c8-2ea7ae50e68e",
   "metadata": {},
   "outputs": [
    {
     "name": "stdout",
     "output_type": "stream",
     "text": [
      "32\n",
      "Orig\n",
      "\n",
      " www.npr.org for further information.\n",
      "\n",
      "NPR transcripts are created on a rush deadline by Verb8tm, Inc., an NPR contractor, and produced using a proprietary transcription process developed with NPR. This text may not be in its final form and may be updated or revised in the future. Acc\n",
      "Matched:\n",
      "\n",
      " www.npr.org for further information.\n",
      "\n",
      "NPR transcripts are created on a rush deadline by Verb8tm, Inc., an NPR contractor, and produced using a proprietary transcription process developed with NPR. This text may not be in its final form and may be updated or revised in the future. Accuracy and availability may vary. The authoritative record of NPR’s programming is the audio record.<|endoftext|>Blues Face Liverpool In Champions League For The First Time Manchester City recorded only their fifth win at Everton in the Premier League to move to within one win of clinching the Premier League title, which they can do next Saturday at home to Manchester United. But before that, the blues tak...\n",
      "\n",
      "City picked up right where they left off, dispatching Everton with scary ease. Manchester City returned to the pitch after what felt like the longest international break of all time and showed little to no signs of rust. Pep Guardiola’s team crushed Everton by a score of 3-1 on the road, a final...\n",
      "\n",
      "Just one more win and the title is ours! Manchester City are just one victory away from winning the Premier League title thanks to a fantastic 3-1 win over Everton at Goodison Park. The Blues were simply sensational in the first half and guaranteed the victory with some of the most amazing footba...\n",
      "\n",
      "Come along for the ride as City travel to Goodison Park! The Premier League is back! After 720 decades of international break, the best league in the world has finally returned and Manchester City are just two wins away from the title. The first win could come today against Everton at Goodison Pa...\n",
      "\n",
      "City will look to take a giant step towards the title against a team that always makes it tough for Pep’s boys Everton (9th, 40pts) vs Manchester City (1st, 81pts) Competition/Round : 2017-18 Premier League, Matchday 31 Man City team news : John Stones, Sergio Agüero (out), Benjamin Mendy (doubt...\n",
      "\n",
      "Big midfield names on City’s radar According to multiple outlets in Spain, Isco is very unhappy at Real Madrid due to the manager’s lack of trust and game time for him. Isco is reportedly ready to leave and has publicly voiced his displeasure to Zinedine Zidane on multiple occasions. Most recentl...\n",
      "\n",
      "Beating Everton and United Will Secure League Triumph Manchester City face Everton this weekend, knowing that victory at Goodison, together with a Derby day win over neighbours Manchester United will bring the Premier League title to the Etihad for the third time. City have been in almost unstopp...<|endoftext|>Israeli Prime Minister Benjamin Netanyahu used the less-than-ominous image of a cartoon bomb to push his point about an imminent nuclear Iran during his U.N. address Thursday.\n",
      "\n",
      "He once again urged the U.S. to draw a \"red line\" on Iran's nuclear ambitions and drew a red line in marker on the bomb diagram.\n",
      "\n",
      "Advertisement:\n",
      "\n",
      "\"Just imagine an Iran with nuclear weapons. Who among you would feel safe in the Middle East? Who'd be safe in Europe? Who'd be safe in America? Who'd be safe anywhere?… The hour is getting late,\" he said. He also compared a nuclear Iran to \"a nuclear al-Qaeda.\"\n",
      "\n",
      "Ali Gharib at the Daily Beast points out that Bibi actually drew his red line in the wrong place:\n",
      "\n",
      "He placed the line just above the section of the chart that denotes 90 percent enriched uranium, otherwise known as \"weapons-grade.\" With the line at the top, that suggests Iran can enrich safely up to the 90 percent level of purity, so long as they don't go over—which they won't ever need to, since 90 percent purity is good enough for a bomb.\n",
      "\n",
      "The hawkish Prime Minister delievered a similar message on U.S. talk shows last week and, as Salon noted, also threatened that Iran was just months away from a nuclear bomb in 1992.\n",
      "\n",
      "Advertisement:\n",
      "\n",
      "Netanyahu also used his address to respond to comments made by Palestinian President Mahmoud Abbas in his earlier speech. Abbas accused Israel of \"ethnic cleansing\" against Palestinians -- a statement Netanyahu described as \"libelous.\"\n",
      "\n",
      "Watch the full speech below:<|endoftext|>Bad Luck Brian\n",
      "\n",
      "browsing /r/gw enjoying a good flap\n",
      "\n",
      "recognizes sisters bedroom\n",
      "\n",
      "these captions aren't guaranteed to be correct<|endoftext|>The Ardberry Buggy\n",
      "\n",
      "Back in the day when I was experimenting with the Lego NXT components in 2011 (part 1, part 2 and part 3), the intention was to use these components in an internet-controlled buggy that would serve a webpage and take commands over it. That was 3 years ago now, during which time what little work that had been done on it – designing a PCB that ultimately wasn’t of much use after I realised that using an Arduino to host a dynamic site probably wasn’t the best of ideas, fiddling with a Raspberry Pi streaming a webcam and buying the lego wheels in 2012 – has been sitting in a small metal box in my room just waiting to be built. Projects have come and gone, exams have been taken and secondary (high) school has been graduated, yet that box remained (more or less) unopened as one of the few constants in the ever-changing life of a student about to go to university.\n",
      "Today, dear readers, I would like to announce that this is no longer the case, and I present to you the result of three years of procrastination followed by two months of desperately working out how the simplest of web protocols work. I present: the Ardberry (Arduino-Raspberry Pi) Buggy!\n",
      "\n",
      "It is a web-enabled vehicle that can be commanded via a webpage, served by the Raspberry Pi. The webpage also shows a live video feed from the Raspberry Pi camera, which is mounted on two servo motors, allowing for 180 degree movement of the camera in two axes. The web interface allows the user to get a measure of the distance to the closest object in front of the buggy using the NXT ultrasonic rangefinder sensor.\n",
      "\n",
      "This post is an instruction manual of how to build this buggy for my own documentation purposes. You will need to be comfortable with using SSH or other means to get the required files onto the Pi and be able to change Apache configuration settings in the command line. You will also have to be able to upload programs to an Arduino and have the necessary kit to wire up power supplies and the servos in any way you see fit. Certain bits of knowledge will be assumed, like what Static IPs are, but anything you don’t understand can be gleaned from a few well-worded google searches. I’m not spoon-feeding you here.\n",
      "\n",
      "The Raspberry Pi\n",
      "\n",
      "The Pi is the brains of the entire thing. It hosts the webpage, commands the Arduino (to which all the motors and sensors are connected) and streams live video from the camera. On it, you will need to have an Apache web server running and CGI installed and configured to use /var/www as the location of index.html for the webpage and /var/www/cgi-bin as the folder for the scripts. This article describes how to set up the CGI aspect nicely. I would recommend using Raspbian Wheezy as the Linux distribution, as most software is readily compatible with it, it comes with Python and is easy to get up and running. In addition, you will need to setup networking using the WiPi module (andfor reconnecting if the Pi loses the signal for some reason). This is best left until the end so that you can more easily debug an error using SSH over a wired (and more reliable) ethernet connection.\n",
      "\n",
      "Upload the files in the “Raspberry_Pi_code” folder on the Git to /var/www.\n",
      "\n",
      "Congratulations! You have a working webpage. Navigate to the internal IP of the Pi http://[IP here] and see whether you see something that resembles a control interface. If not then something has gone wrong.\n",
      "\n",
      "You will also need to set up and configure the camera streaming software. Refer to this for details. Note that you will also need to configure autostart on boot as well. When prompted, install the files in /var/www/camera.\n",
      "\n",
      "Your Network Configuration\n",
      "\n",
      "For this part I cannot give you a step-by-step guide as everyone’s home network is different. Essentially, you need to type ifconfig to find your Pi’s MAC code (the Hardware Address) and use that in your router configuration page (e.g. Airport Utility for Apple routers) to assign a static internal IP address to your Pi. Then you need to set up port forwarding so that incoming connections on port 80 (the http port) are forwarded to the Pi’s internal IP on port 80 (unless you have changed the default port in Apache settings).\n",
      "\n",
      "Next, you need to somehow get yourself a static external IP or a dynamic DNS service that can be updated automatically by an app running on a computer (e.g. a script running on the Pi) or by the router. I used duiadns.net, as they allow for automatic IP updating using an Apple Airport Router. There are several options that you may want to explore. Regardless, this setup means that the buggy cannot be used outside your home network.\n",
      "\n",
      "To access the webpage you can now type in the address you set up with duiadns.\n"
     ]
    }
   ],
   "source": [
    "other_str = dataset[int(other_match)]\n",
    "matched_idx = 0\n",
    "for i in range(len(other_str) - 64):\n",
    "    if (other_str[i:i+64] == str_match).all():\n",
    "        print(i)\n",
    "        matched_idx = i\n",
    "print(\"Orig\\n\")\n",
    "print(tokenizer.decode(str_match))\n",
    "print(\"Matched:\\n\")\n",
    "print(tokenizer.decode(other_str[matched_idx:]))\n",
    "# print(matched_idx)\n",
    "# print(str_match, other_str[matched_idx:])"
   ]
  },
  {
   "cell_type": "code",
   "execution_count": 21,
   "id": "bc5ba339-e17c-499c-89d9-e6a22f4e3dff",
   "metadata": {},
   "outputs": [
    {
     "data": {
      "text/plain": [
       "array([ 4022,   305, 48095, ..., 17440,    10,   187], dtype=uint16)"
      ]
     },
     "execution_count": 21,
     "metadata": {},
     "output_type": "execute_result"
    }
   ],
   "source": []
  },
  {
   "cell_type": "code",
   "execution_count": 20,
   "id": "946cf8b4-050d-4273-8bf6-2102264545a2",
   "metadata": {},
   "outputs": [
    {
     "data": {
      "text/plain": [
       "(array([  1060,  40782,  41209, 185862]),)"
      ]
     },
     "execution_count": 20,
     "metadata": {},
     "output_type": "execute_result"
    }
   ],
   "source": [
    "# da.sum(matches, 1).compute()\n",
    "np.where(matches[1].compute())"
   ]
  },
  {
   "cell_type": "code",
   "execution_count": 2,
   "id": "99e909cc-ed44-4f8e-9536-0903fd1a4937",
   "metadata": {},
   "outputs": [],
   "source": [
    "def find_match(a, b):\n",
    "    # return np.dot(a,b.T).reshape(1, 1, 1, 1)\n",
    "    all_matches = []\n",
    "    for i in range(b.shape[1] - a.shape[1]):\n",
    "        all_matches.append(np.max(np.abs(np.expand_dims(a, axis=1) - b[:, i:i+a.shape[1]]), axis=-1) == 0)\n",
    "    matches = np.logical_or.reduce(all_matches, axis=0)\n",
    "    return np.expand_dims(np.expand_dims(matches, -1), -1)"
   ]
  },
  {
   "cell_type": "code",
   "execution_count": 3,
   "id": "6d88dae0-765f-415f-9b20-2e879575b137",
   "metadata": {},
   "outputs": [],
   "source": [
    "# def custom_hash(arr):\n",
    "#     # Efficiently apply bitwise operations on each row\n",
    "#   shifted_left = np.left_shift(arr, np.arange(arr.shape[1]))\n",
    "#   shifted_right = np.right_shift(arr, arr.shape[1] - np.arange(arr.shape[1]) - 1)\n",
    "#   # Combine with XOR and reduce with bitwise OR along each row\n",
    "#   hashed_rows = np.bitwise_xor.reduce(np.bitwise_xor(shifted_left, shifted_right), axis=1)\n",
    "#   # Ensure positive value and modulo by a large prime number\n",
    "#   hashed_rows = (hashed_rows % 2**64) % 1610612741\n",
    "#   return hashed_rows\n",
    "# custom_hash(emergent)"
   ]
  },
  {
   "cell_type": "code",
   "execution_count": 4,
   "id": "a45581f9-3f7d-437a-9193-c0d5c6ec1b08",
   "metadata": {},
   "outputs": [],
   "source": []
  },
  {
   "cell_type": "code",
   "execution_count": 5,
   "id": "d25867ec-0fd2-4bb6-b872-aebd0aeabfaa",
   "metadata": {},
   "outputs": [],
   "source": [
    "# %time  np.sum(find_match(emergent, x).squeeze())"
   ]
  },
  {
   "cell_type": "code",
   "execution_count": null,
   "id": "9b1167ea-8991-49e9-a75e-1d4152d44e1b",
   "metadata": {},
   "outputs": [],
   "source": []
  },
  {
   "cell_type": "code",
   "execution_count": 25,
   "id": "f637b3db-f03a-4767-b294-b990cd8509c1",
   "metadata": {},
   "outputs": [
    {
     "ename": "MemoryError",
     "evalue": "Unable to allocate 9.25 TiB for an array with shape (1000, 1986, 10000, 64) and data type int64",
     "output_type": "error",
     "traceback": [
      "\u001b[0;31m---------------------------------------------------------------------------\u001b[0m",
      "\u001b[0;31mMemoryError\u001b[0m                               Traceback (most recent call last)",
      "Cell \u001b[0;32mIn[25], line 1\u001b[0m\n\u001b[0;32m----> 1\u001b[0m np\u001b[38;5;241m.\u001b[39mmax(np\u001b[38;5;241m.\u001b[39mabs(\u001b[43msliding_window_view\u001b[49m\u001b[43m(\u001b[49m\u001b[43mx\u001b[49m\u001b[43m,\u001b[49m\u001b[43m \u001b[49m\u001b[43m(\u001b[49m\u001b[38;5;241;43m10000\u001b[39;49m\u001b[43m,\u001b[49m\u001b[43m \u001b[49m\u001b[38;5;241;43m64\u001b[39;49m\u001b[43m)\u001b[49m\u001b[43m)\u001b[49m\u001b[38;5;241;43m.\u001b[39;49m\u001b[43msqueeze\u001b[49m\u001b[43m(\u001b[49m\u001b[43m)\u001b[49m\u001b[43m \u001b[49m\u001b[38;5;241;43m-\u001b[39;49m\u001b[43m \u001b[49m\u001b[43memergent\u001b[49m\u001b[38;5;241;43m.\u001b[39;49m\u001b[43mreshape\u001b[49m\u001b[43m(\u001b[49m\u001b[38;5;241;43m-\u001b[39;49m\u001b[38;5;241;43m1\u001b[39;49m\u001b[43m,\u001b[49m\u001b[43m \u001b[49m\u001b[38;5;241;43m1\u001b[39;49m\u001b[43m,\u001b[49m\u001b[43m \u001b[49m\u001b[38;5;241;43m1\u001b[39;49m\u001b[43m,\u001b[49m\u001b[43m \u001b[49m\u001b[38;5;241;43m64\u001b[39;49m\u001b[43m)\u001b[49m), axis\u001b[38;5;241m=\u001b[39m\u001b[38;5;241m-\u001b[39m\u001b[38;5;241m1\u001b[39m)\n",
      "\u001b[0;31mMemoryError\u001b[0m: Unable to allocate 9.25 TiB for an array with shape (1000, 1986, 10000, 64) and data type int64"
     ]
    }
   ],
   "source": [
    "# np.max(np.abs(sliding_window_view(x, (10000, 64)).squeeze() - emergent.reshape(-1, 1, 1, 64)), axis=-1)"
   ]
  }
 ],
 "metadata": {
  "kernelspec": {
   "display_name": "Python 3 (ipykernel)",
   "language": "python",
   "name": "python3"
  },
  "language_info": {
   "codemirror_mode": {
    "name": "ipython",
    "version": 3
   },
   "file_extension": ".py",
   "mimetype": "text/x-python",
   "name": "python",
   "nbconvert_exporter": "python",
   "pygments_lexer": "ipython3",
   "version": "3.9.18"
  }
 },
 "nbformat": 4,
 "nbformat_minor": 5
}
