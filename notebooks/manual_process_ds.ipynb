{
 "cells": [
  {
   "cell_type": "code",
   "execution_count": 1,
   "id": "e1dbd092-8698-45e5-aa66-d837e7fff145",
   "metadata": {},
   "outputs": [],
   "source": [
    "import numpy as np\n",
    "\n",
    "# add parent directory to path\n",
    "import os, sys\n",
    "sys.path.append('..')\n",
    "\n",
    "from utils.mmap_dataset import MMapIndexedDataset\n",
    "import dask\n",
    "import dask.array as da\n",
    "from transformers import GPTNeoXForCausalLM, AutoTokenizer\n",
    "import matplotlib.pyplot as plt\n",
    "from dask.diagnostics import ProgressBar\n",
    "from dask.distributed import Lock\n",
    "from tqdm import tqdm\n",
    "from dask.diagnostics import ProgressBar"
   ]
  },
  {
   "cell_type": "code",
   "execution_count": 2,
   "id": "971ce131-59ac-469e-8bc4-5d93e6cf2587",
   "metadata": {},
   "outputs": [
    {
     "name": "stdout",
     "output_type": "stream",
     "text": [
      "    reading sizes...\n",
      "    reading pointers...\n",
      "    reading document index...\n",
      "    creating numpy buffer of mmap...\n",
      "    creating memory view of numpy buffer...\n"
     ]
    }
   ],
   "source": [
    "dataset = MMapIndexedDataset('/om/user/sunnyd/data/datasets--EleutherAI--pile-standard-pythia-preshuffled-merged/document', skip_warmup = True)"
   ]
  },
  {
   "cell_type": "code",
   "execution_count": null,
   "id": "c8803b8c-29e7-460a-85d3-4f603fc898a1",
   "metadata": {},
   "outputs": [],
   "source": [
    "# indices = np.load('0-1-idx.npy')\n",
    "# emergent = []\n",
    "# for idx in tqdm(indices):\n",
    "#     emergent.append(dataset[int(idx)][:64])\n",
    "# emergent = np.stack(emergent, axis=0), chunks=(1000, 64)\n",
    "# da.to_npy_stack(\n",
    "#         'matching_data/',\n",
    "#         emergent,\n",
    "#         axis=0)\n",
    "def match(a, b):\n",
    "    matches = np.empty([a.shape[0], b.shape[0]], dtype=bool)\n",
    "    matches.fill(False)\n",
    "    # return np.dot(a,b.T).reshape(1, 1, 1, 1)\n",
    "    for i in range(b.shape[1] - a.shape[1]):\n",
    "        matches = np.logical_or(matches,\n",
    "                                np.max(np.abs(np.expand_dims(a, axis=1) - b[:, i:i+a.shape[1]]), axis=-1) == 0)\n",
    "    return np.expand_dims(np.expand_dims(matches, -1), -1)\n",
    "# with ProgressBar():"
   ]
  }
 ],
 "metadata": {
  "kernelspec": {
   "display_name": "Python 3 (ipykernel)",
   "language": "python",
   "name": "python3"
  },
  "language_info": {
   "codemirror_mode": {
    "name": "ipython",
    "version": 3
   },
   "file_extension": ".py",
   "mimetype": "text/x-python",
   "name": "python",
   "nbconvert_exporter": "python",
   "pygments_lexer": "ipython3",
   "version": "3.9.18"
  }
 },
 "nbformat": 4,
 "nbformat_minor": 5
}
